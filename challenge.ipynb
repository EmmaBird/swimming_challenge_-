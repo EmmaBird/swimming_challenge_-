{
 "cells": [
  {
   "cell_type": "markdown",
   "source": "## Swimming PSB Challenge\n\n> In the challenge you'll be wrangling the the `swimming_psb` data set to produce the output shown at the bottom of this notebook.\n\n> Keep a [Cheatsheet](https://github.com/pandas-dev/pandas/blob/master/doc/cheatsheet/Pandas_Cheat_Sheet.pdf) handy? or the [Pandas API Reference in Docs](https://pandas.pydata.org/pandas-docs/stable/reference/index.html)?",
   "metadata": {
    "tags": [],
    "cell_id": "00000-51d21a73-5397-4136-91bd-c5b8039be546",
    "output_cleared": false,
    "deepnote_cell_type": "markdown"
   }
  },
  {
   "cell_type": "code",
   "metadata": {
    "tags": [],
    "cell_id": "00001-ad803c0a-733d-457e-a585-8b591b7e8944",
    "execution_millis": 110,
    "deepnote_to_be_reexecuted": false,
    "source_hash": "985e730e",
    "execution_start": 1620826508890,
    "deepnote_cell_type": "code"
   },
   "source": "import pandas as pd\n\npsb_df = pd.read_csv('.//data/swimming_psb_data.csv')\n\npsb_df.info()\npsb_df.head()",
   "execution_count": 1,
   "outputs": [
    {
     "name": "stdout",
     "text": "<class 'pandas.core.frame.DataFrame'>\nRangeIndex: 16948 entries, 0 to 16947\nData columns (total 11 columns):\n #   Column         Non-Null Count  Dtype \n---  ------         --------------  ----- \n 0   c_Sport        16948 non-null  object\n 1   c_Season       16948 non-null  int64 \n 2   c_Event        16948 non-null  object\n 3   c_Gender       16948 non-null  object\n 4   n_DateSort     16948 non-null  int64 \n 5   c_Person       16640 non-null  object\n 6   c_PersonNatio  16640 non-null  object\n 7   c_NOC          16948 non-null  object\n 8   c_Result       16948 non-null  object\n 9   n_ResultSort   16948 non-null  int64 \n 10  c_Class        16948 non-null  object\ndtypes: int64(3), object(8)\nmemory usage: 1.4+ MB\n",
     "output_type": "stream"
    },
    {
     "output_type": "execute_result",
     "execution_count": 1,
     "data": {
      "application/vnd.deepnote.dataframe.v2+json": {
       "row_count": 5,
       "column_count": 11,
       "columns": [
        {
         "name": "c_Sport",
         "dtype": "object",
         "stats": {
          "unique_count": 1,
          "nan_count": 0,
          "categories": [
           {
            "name": "Swimming",
            "count": 5
           }
          ]
         }
        },
        {
         "name": "c_Season",
         "dtype": "int64",
         "stats": {
          "unique_count": 1,
          "nan_count": 0,
          "min": "2018",
          "max": "2018",
          "histogram": [
           {
            "bin_start": 2017.5,
            "bin_end": 2017.6,
            "count": 0
           },
           {
            "bin_start": 2017.6,
            "bin_end": 2017.7,
            "count": 0
           },
           {
            "bin_start": 2017.7,
            "bin_end": 2017.8,
            "count": 0
           },
           {
            "bin_start": 2017.8,
            "bin_end": 2017.9,
            "count": 0
           },
           {
            "bin_start": 2017.9,
            "bin_end": 2018,
            "count": 0
           },
           {
            "bin_start": 2018,
            "bin_end": 2018.1,
            "count": 5
           },
           {
            "bin_start": 2018.1,
            "bin_end": 2018.2,
            "count": 0
           },
           {
            "bin_start": 2018.2,
            "bin_end": 2018.3,
            "count": 0
           },
           {
            "bin_start": 2018.3,
            "bin_end": 2018.4,
            "count": 0
           },
           {
            "bin_start": 2018.4,
            "bin_end": 2018.5,
            "count": 0
           }
          ]
         }
        },
        {
         "name": "c_Event",
         "dtype": "object",
         "stats": {
          "unique_count": 1,
          "nan_count": 0,
          "categories": [
           {
            "name": "100m Backstroke",
            "count": 5
           }
          ]
         }
        },
        {
         "name": "c_Gender",
         "dtype": "object",
         "stats": {
          "unique_count": 1,
          "nan_count": 0,
          "categories": [
           {
            "name": "Men",
            "count": 5
           }
          ]
         }
        },
        {
         "name": "n_DateSort",
         "dtype": "int64",
         "stats": {
          "unique_count": 5,
          "nan_count": 0,
          "min": "20180728",
          "max": "20180822",
          "histogram": [
           {
            "bin_start": 20180728,
            "bin_end": 20180737.4,
            "count": 1
           },
           {
            "bin_start": 20180737.4,
            "bin_end": 20180746.8,
            "count": 0
           },
           {
            "bin_start": 20180746.8,
            "bin_end": 20180756.2,
            "count": 0
           },
           {
            "bin_start": 20180756.2,
            "bin_end": 20180765.6,
            "count": 0
           },
           {
            "bin_start": 20180765.6,
            "bin_end": 20180775,
            "count": 0
           },
           {
            "bin_start": 20180775,
            "bin_end": 20180784.4,
            "count": 0
           },
           {
            "bin_start": 20180784.4,
            "bin_end": 20180793.8,
            "count": 0
           },
           {
            "bin_start": 20180793.8,
            "bin_end": 20180803.2,
            "count": 0
           },
           {
            "bin_start": 20180803.2,
            "bin_end": 20180812.6,
            "count": 2
           },
           {
            "bin_start": 20180812.6,
            "bin_end": 20180822,
            "count": 2
           }
          ]
         }
        },
        {
         "name": "c_Person",
         "dtype": "object",
         "stats": {
          "unique_count": 5,
          "nan_count": 0,
          "categories": [
           {
            "name": "Ryan Murphy",
            "count": 1
           },
           {
            "name": "Xu Jiayu",
            "count": 1
           },
           {
            "name": "3 others",
            "count": 3
           }
          ]
         }
        },
        {
         "name": "c_PersonNatio",
         "dtype": "object",
         "stats": {
          "unique_count": 4,
          "nan_count": 0,
          "categories": [
           {
            "name": "United States",
            "count": 2
           },
           {
            "name": "China",
            "count": 1
           },
           {
            "name": "2 others",
            "count": 2
           }
          ]
         }
        },
        {
         "name": "c_NOC",
         "dtype": "object",
         "stats": {
          "unique_count": 4,
          "nan_count": 0,
          "categories": [
           {
            "name": "United States",
            "count": 2
           },
           {
            "name": "China",
            "count": 1
           },
           {
            "name": "2 others",
            "count": 2
           }
          ]
         }
        },
        {
         "name": "c_Result",
         "dtype": "object",
         "stats": {
          "unique_count": 5,
          "nan_count": 0,
          "categories": [
           {
            "name": "51.94",
            "count": 1
           },
           {
            "name": "52.30",
            "count": 1
           },
           {
            "name": "3 others",
            "count": 3
           }
          ]
         }
        },
        {
         "name": "n_ResultSort",
         "dtype": "int64",
         "stats": {
          "unique_count": 5,
          "nan_count": 0,
          "min": "51940",
          "max": "52550",
          "histogram": [
           {
            "bin_start": 51940,
            "bin_end": 52001,
            "count": 1
           },
           {
            "bin_start": 52001,
            "bin_end": 52062,
            "count": 0
           },
           {
            "bin_start": 52062,
            "bin_end": 52123,
            "count": 0
           },
           {
            "bin_start": 52123,
            "bin_end": 52184,
            "count": 0
           },
           {
            "bin_start": 52184,
            "bin_end": 52245,
            "count": 0
           },
           {
            "bin_start": 52245,
            "bin_end": 52306,
            "count": 1
           },
           {
            "bin_start": 52306,
            "bin_end": 52367,
            "count": 0
           },
           {
            "bin_start": 52367,
            "bin_end": 52428,
            "count": 0
           },
           {
            "bin_start": 52428,
            "bin_end": 52489,
            "count": 0
           },
           {
            "bin_start": 52489,
            "bin_end": 52550,
            "count": 3
           }
          ]
         }
        },
        {
         "name": "c_Class",
         "dtype": "object",
         "stats": {
          "unique_count": 1,
          "nan_count": 0,
          "categories": [
           {
            "name": "Elite",
            "count": 5
           }
          ]
         }
        },
        {
         "name": "_deepnote_index_column",
         "dtype": "int64"
        }
       ],
       "rows_top": [
        {
         "c_Sport": "Swimming",
         "c_Season": 2018,
         "c_Event": "100m Backstroke",
         "c_Gender": "Men",
         "n_DateSort": 20180809,
         "c_Person": "Ryan Murphy",
         "c_PersonNatio": "United States",
         "c_NOC": "United States",
         "c_Result": "51.94",
         "n_ResultSort": 51940,
         "c_Class": "Elite",
         "_deepnote_index_column": 0
        },
        {
         "c_Sport": "Swimming",
         "c_Season": 2018,
         "c_Event": "100m Backstroke",
         "c_Gender": "Men",
         "n_DateSort": 20180822,
         "c_Person": "Xu Jiayu",
         "c_PersonNatio": "China",
         "c_NOC": "China",
         "c_Result": "52.30",
         "n_ResultSort": 52300,
         "c_Class": "Elite",
         "_deepnote_index_column": 1
        },
        {
         "c_Sport": "Swimming",
         "c_Season": 2018,
         "c_Event": "100m Backstroke",
         "c_Gender": "Men",
         "n_DateSort": 20180806,
         "c_Person": "Kliment Kolesnikov",
         "c_PersonNatio": "Russia",
         "c_NOC": "Russia",
         "c_Result": "52.51",
         "n_ResultSort": 52510,
         "c_Class": "Elite",
         "_deepnote_index_column": 2
        },
        {
         "c_Sport": "Swimming",
         "c_Season": 2018,
         "c_Event": "100m Backstroke",
         "c_Gender": "Men",
         "n_DateSort": 20180819,
         "c_Person": "Ryosuke Irie",
         "c_PersonNatio": "Japan",
         "c_NOC": "Japan",
         "c_Result": "52.53",
         "n_ResultSort": 52530,
         "c_Class": "Elite",
         "_deepnote_index_column": 3
        },
        {
         "c_Sport": "Swimming",
         "c_Season": 2018,
         "c_Event": "100m Backstroke",
         "c_Gender": "Men",
         "n_DateSort": 20180728,
         "c_Person": "Matt Grevers",
         "c_PersonNatio": "United States",
         "c_NOC": "United States",
         "c_Result": "52.55",
         "n_ResultSort": 52550,
         "c_Class": "Elite",
         "_deepnote_index_column": 4
        }
       ],
       "rows_bottom": null
      },
      "text/plain": "    c_Sport  c_Season          c_Event c_Gender  n_DateSort  \\\n0  Swimming      2018  100m Backstroke      Men    20180809   \n1  Swimming      2018  100m Backstroke      Men    20180822   \n2  Swimming      2018  100m Backstroke      Men    20180806   \n3  Swimming      2018  100m Backstroke      Men    20180819   \n4  Swimming      2018  100m Backstroke      Men    20180728   \n\n             c_Person  c_PersonNatio          c_NOC c_Result  n_ResultSort  \\\n0         Ryan Murphy  United States  United States    51.94         51940   \n1            Xu Jiayu          China          China    52.30         52300   \n2  Kliment Kolesnikov         Russia         Russia    52.51         52510   \n3        Ryosuke Irie          Japan          Japan    52.53         52530   \n4        Matt Grevers  United States  United States    52.55         52550   \n\n  c_Class  \n0   Elite  \n1   Elite  \n2   Elite  \n3   Elite  \n4   Elite  ",
      "text/html": "<div>\n<style scoped>\n    .dataframe tbody tr th:only-of-type {\n        vertical-align: middle;\n    }\n\n    .dataframe tbody tr th {\n        vertical-align: top;\n    }\n\n    .dataframe thead th {\n        text-align: right;\n    }\n</style>\n<table border=\"1\" class=\"dataframe\">\n  <thead>\n    <tr style=\"text-align: right;\">\n      <th></th>\n      <th>c_Sport</th>\n      <th>c_Season</th>\n      <th>c_Event</th>\n      <th>c_Gender</th>\n      <th>n_DateSort</th>\n      <th>c_Person</th>\n      <th>c_PersonNatio</th>\n      <th>c_NOC</th>\n      <th>c_Result</th>\n      <th>n_ResultSort</th>\n      <th>c_Class</th>\n    </tr>\n  </thead>\n  <tbody>\n    <tr>\n      <th>0</th>\n      <td>Swimming</td>\n      <td>2018</td>\n      <td>100m Backstroke</td>\n      <td>Men</td>\n      <td>20180809</td>\n      <td>Ryan Murphy</td>\n      <td>United States</td>\n      <td>United States</td>\n      <td>51.94</td>\n      <td>51940</td>\n      <td>Elite</td>\n    </tr>\n    <tr>\n      <th>1</th>\n      <td>Swimming</td>\n      <td>2018</td>\n      <td>100m Backstroke</td>\n      <td>Men</td>\n      <td>20180822</td>\n      <td>Xu Jiayu</td>\n      <td>China</td>\n      <td>China</td>\n      <td>52.30</td>\n      <td>52300</td>\n      <td>Elite</td>\n    </tr>\n    <tr>\n      <th>2</th>\n      <td>Swimming</td>\n      <td>2018</td>\n      <td>100m Backstroke</td>\n      <td>Men</td>\n      <td>20180806</td>\n      <td>Kliment Kolesnikov</td>\n      <td>Russia</td>\n      <td>Russia</td>\n      <td>52.51</td>\n      <td>52510</td>\n      <td>Elite</td>\n    </tr>\n    <tr>\n      <th>3</th>\n      <td>Swimming</td>\n      <td>2018</td>\n      <td>100m Backstroke</td>\n      <td>Men</td>\n      <td>20180819</td>\n      <td>Ryosuke Irie</td>\n      <td>Japan</td>\n      <td>Japan</td>\n      <td>52.53</td>\n      <td>52530</td>\n      <td>Elite</td>\n    </tr>\n    <tr>\n      <th>4</th>\n      <td>Swimming</td>\n      <td>2018</td>\n      <td>100m Backstroke</td>\n      <td>Men</td>\n      <td>20180728</td>\n      <td>Matt Grevers</td>\n      <td>United States</td>\n      <td>United States</td>\n      <td>52.55</td>\n      <td>52550</td>\n      <td>Elite</td>\n    </tr>\n  </tbody>\n</table>\n</div>"
     },
     "metadata": {}
    }
   ]
  },
  {
   "cell_type": "markdown",
   "source": "#### 1. Remove ```c_Sport```, ```c_Season``` and ```c_Class``` columns.\n> Because you decide you don't need them...",
   "metadata": {
    "tags": [],
    "cell_id": "00003-a49c99ea-ca5b-4959-bbce-757d147350e7",
    "output_cleared": false,
    "deepnote_cell_type": "markdown"
   }
  },
  {
   "cell_type": "code",
   "metadata": {
    "tags": [],
    "cell_id": "00004-07667433-01db-401a-ad18-e2437750ec8a",
    "output_cleared": false,
    "source_hash": "eec1fc3f",
    "execution_millis": 23,
    "execution_start": 1620826580984,
    "deepnote_to_be_reexecuted": false,
    "deepnote_cell_type": "code"
   },
   "source": "psb_df = psb_df.drop(columns=[\"c_Season\",\"c_Sport\",\"c_Class\"]) \n\npsb_df\n\n## Drop function? ",
   "execution_count": 12,
   "outputs": [
    {
     "output_type": "error",
     "ename": "KeyError",
     "evalue": "\"['c_Season' 'c_Sport' 'c_Class'] not found in axis\"",
     "traceback": [
      "\u001b[0;31m---------------------------------------------------------------------------\u001b[0m",
      "\u001b[0;31mKeyError\u001b[0m                                  Traceback (most recent call last)",
      "\u001b[0;32m<ipython-input-12-1dc477950629>\u001b[0m in \u001b[0;36m<module>\u001b[0;34m\u001b[0m\n\u001b[0;32m----> 1\u001b[0;31m \u001b[0mpsb_df\u001b[0m \u001b[0;34m=\u001b[0m \u001b[0mpsb_df\u001b[0m\u001b[0;34m.\u001b[0m\u001b[0mdrop\u001b[0m\u001b[0;34m(\u001b[0m\u001b[0mcolumns\u001b[0m\u001b[0;34m=\u001b[0m\u001b[0;34m[\u001b[0m\u001b[0;34m\"c_Season\"\u001b[0m\u001b[0;34m,\u001b[0m\u001b[0;34m\"c_Sport\"\u001b[0m\u001b[0;34m,\u001b[0m\u001b[0;34m\"c_Class\"\u001b[0m\u001b[0;34m]\u001b[0m\u001b[0;34m)\u001b[0m\u001b[0;34m\u001b[0m\u001b[0;34m\u001b[0m\u001b[0m\n\u001b[0m\u001b[1;32m      2\u001b[0m \u001b[0;34m\u001b[0m\u001b[0m\n\u001b[1;32m      3\u001b[0m \u001b[0mpsb_df\u001b[0m\u001b[0;34m\u001b[0m\u001b[0;34m\u001b[0m\u001b[0m\n",
      "\u001b[0;32m/shared-libs/python3.7/py/lib/python3.7/site-packages/pandas/core/frame.py\u001b[0m in \u001b[0;36mdrop\u001b[0;34m(self, labels, axis, index, columns, level, inplace, errors)\u001b[0m\n\u001b[1;32m   4313\u001b[0m             \u001b[0mlevel\u001b[0m\u001b[0;34m=\u001b[0m\u001b[0mlevel\u001b[0m\u001b[0;34m,\u001b[0m\u001b[0;34m\u001b[0m\u001b[0;34m\u001b[0m\u001b[0m\n\u001b[1;32m   4314\u001b[0m             \u001b[0minplace\u001b[0m\u001b[0;34m=\u001b[0m\u001b[0minplace\u001b[0m\u001b[0;34m,\u001b[0m\u001b[0;34m\u001b[0m\u001b[0;34m\u001b[0m\u001b[0m\n\u001b[0;32m-> 4315\u001b[0;31m             \u001b[0merrors\u001b[0m\u001b[0;34m=\u001b[0m\u001b[0merrors\u001b[0m\u001b[0;34m,\u001b[0m\u001b[0;34m\u001b[0m\u001b[0;34m\u001b[0m\u001b[0m\n\u001b[0m\u001b[1;32m   4316\u001b[0m         )\n\u001b[1;32m   4317\u001b[0m \u001b[0;34m\u001b[0m\u001b[0m\n",
      "\u001b[0;32m/shared-libs/python3.7/py/lib/python3.7/site-packages/pandas/core/generic.py\u001b[0m in \u001b[0;36mdrop\u001b[0;34m(self, labels, axis, index, columns, level, inplace, errors)\u001b[0m\n\u001b[1;32m   4151\u001b[0m         \u001b[0;32mfor\u001b[0m \u001b[0maxis\u001b[0m\u001b[0;34m,\u001b[0m \u001b[0mlabels\u001b[0m \u001b[0;32min\u001b[0m \u001b[0maxes\u001b[0m\u001b[0;34m.\u001b[0m\u001b[0mitems\u001b[0m\u001b[0;34m(\u001b[0m\u001b[0;34m)\u001b[0m\u001b[0;34m:\u001b[0m\u001b[0;34m\u001b[0m\u001b[0;34m\u001b[0m\u001b[0m\n\u001b[1;32m   4152\u001b[0m             \u001b[0;32mif\u001b[0m \u001b[0mlabels\u001b[0m \u001b[0;32mis\u001b[0m \u001b[0;32mnot\u001b[0m \u001b[0;32mNone\u001b[0m\u001b[0;34m:\u001b[0m\u001b[0;34m\u001b[0m\u001b[0;34m\u001b[0m\u001b[0m\n\u001b[0;32m-> 4153\u001b[0;31m                 \u001b[0mobj\u001b[0m \u001b[0;34m=\u001b[0m \u001b[0mobj\u001b[0m\u001b[0;34m.\u001b[0m\u001b[0m_drop_axis\u001b[0m\u001b[0;34m(\u001b[0m\u001b[0mlabels\u001b[0m\u001b[0;34m,\u001b[0m \u001b[0maxis\u001b[0m\u001b[0;34m,\u001b[0m \u001b[0mlevel\u001b[0m\u001b[0;34m=\u001b[0m\u001b[0mlevel\u001b[0m\u001b[0;34m,\u001b[0m \u001b[0merrors\u001b[0m\u001b[0;34m=\u001b[0m\u001b[0merrors\u001b[0m\u001b[0;34m)\u001b[0m\u001b[0;34m\u001b[0m\u001b[0;34m\u001b[0m\u001b[0m\n\u001b[0m\u001b[1;32m   4154\u001b[0m \u001b[0;34m\u001b[0m\u001b[0m\n\u001b[1;32m   4155\u001b[0m         \u001b[0;32mif\u001b[0m \u001b[0minplace\u001b[0m\u001b[0;34m:\u001b[0m\u001b[0;34m\u001b[0m\u001b[0;34m\u001b[0m\u001b[0m\n",
      "\u001b[0;32m/shared-libs/python3.7/py/lib/python3.7/site-packages/pandas/core/generic.py\u001b[0m in \u001b[0;36m_drop_axis\u001b[0;34m(self, labels, axis, level, errors)\u001b[0m\n\u001b[1;32m   4186\u001b[0m                 \u001b[0mnew_axis\u001b[0m \u001b[0;34m=\u001b[0m \u001b[0maxis\u001b[0m\u001b[0;34m.\u001b[0m\u001b[0mdrop\u001b[0m\u001b[0;34m(\u001b[0m\u001b[0mlabels\u001b[0m\u001b[0;34m,\u001b[0m \u001b[0mlevel\u001b[0m\u001b[0;34m=\u001b[0m\u001b[0mlevel\u001b[0m\u001b[0;34m,\u001b[0m \u001b[0merrors\u001b[0m\u001b[0;34m=\u001b[0m\u001b[0merrors\u001b[0m\u001b[0;34m)\u001b[0m\u001b[0;34m\u001b[0m\u001b[0;34m\u001b[0m\u001b[0m\n\u001b[1;32m   4187\u001b[0m             \u001b[0;32melse\u001b[0m\u001b[0;34m:\u001b[0m\u001b[0;34m\u001b[0m\u001b[0;34m\u001b[0m\u001b[0m\n\u001b[0;32m-> 4188\u001b[0;31m                 \u001b[0mnew_axis\u001b[0m \u001b[0;34m=\u001b[0m \u001b[0maxis\u001b[0m\u001b[0;34m.\u001b[0m\u001b[0mdrop\u001b[0m\u001b[0;34m(\u001b[0m\u001b[0mlabels\u001b[0m\u001b[0;34m,\u001b[0m \u001b[0merrors\u001b[0m\u001b[0;34m=\u001b[0m\u001b[0merrors\u001b[0m\u001b[0;34m)\u001b[0m\u001b[0;34m\u001b[0m\u001b[0;34m\u001b[0m\u001b[0m\n\u001b[0m\u001b[1;32m   4189\u001b[0m             \u001b[0mresult\u001b[0m \u001b[0;34m=\u001b[0m \u001b[0mself\u001b[0m\u001b[0;34m.\u001b[0m\u001b[0mreindex\u001b[0m\u001b[0;34m(\u001b[0m\u001b[0;34m**\u001b[0m\u001b[0;34m{\u001b[0m\u001b[0maxis_name\u001b[0m\u001b[0;34m:\u001b[0m \u001b[0mnew_axis\u001b[0m\u001b[0;34m}\u001b[0m\u001b[0;34m)\u001b[0m\u001b[0;34m\u001b[0m\u001b[0;34m\u001b[0m\u001b[0m\n\u001b[1;32m   4190\u001b[0m \u001b[0;34m\u001b[0m\u001b[0m\n",
      "\u001b[0;32m/shared-libs/python3.7/py/lib/python3.7/site-packages/pandas/core/indexes/base.py\u001b[0m in \u001b[0;36mdrop\u001b[0;34m(self, labels, errors)\u001b[0m\n\u001b[1;32m   5589\u001b[0m         \u001b[0;32mif\u001b[0m \u001b[0mmask\u001b[0m\u001b[0;34m.\u001b[0m\u001b[0many\u001b[0m\u001b[0;34m(\u001b[0m\u001b[0;34m)\u001b[0m\u001b[0;34m:\u001b[0m\u001b[0;34m\u001b[0m\u001b[0;34m\u001b[0m\u001b[0m\n\u001b[1;32m   5590\u001b[0m             \u001b[0;32mif\u001b[0m \u001b[0merrors\u001b[0m \u001b[0;34m!=\u001b[0m \u001b[0;34m\"ignore\"\u001b[0m\u001b[0;34m:\u001b[0m\u001b[0;34m\u001b[0m\u001b[0;34m\u001b[0m\u001b[0m\n\u001b[0;32m-> 5591\u001b[0;31m                 \u001b[0;32mraise\u001b[0m \u001b[0mKeyError\u001b[0m\u001b[0;34m(\u001b[0m\u001b[0;34mf\"{labels[mask]} not found in axis\"\u001b[0m\u001b[0;34m)\u001b[0m\u001b[0;34m\u001b[0m\u001b[0;34m\u001b[0m\u001b[0m\n\u001b[0m\u001b[1;32m   5592\u001b[0m             \u001b[0mindexer\u001b[0m \u001b[0;34m=\u001b[0m \u001b[0mindexer\u001b[0m\u001b[0;34m[\u001b[0m\u001b[0;34m~\u001b[0m\u001b[0mmask\u001b[0m\u001b[0;34m]\u001b[0m\u001b[0;34m\u001b[0m\u001b[0;34m\u001b[0m\u001b[0m\n\u001b[1;32m   5593\u001b[0m         \u001b[0;32mreturn\u001b[0m \u001b[0mself\u001b[0m\u001b[0;34m.\u001b[0m\u001b[0mdelete\u001b[0m\u001b[0;34m(\u001b[0m\u001b[0mindexer\u001b[0m\u001b[0;34m)\u001b[0m\u001b[0;34m\u001b[0m\u001b[0;34m\u001b[0m\u001b[0m\n",
      "\u001b[0;31mKeyError\u001b[0m: \"['c_Season' 'c_Sport' 'c_Class'] not found in axis\""
     ]
    }
   ]
  },
  {
   "cell_type": "markdown",
   "source": "#### 2. Output all unique events (```c_Event```).\n> Becasue you want to checkout which Swimming events are in the data.",
   "metadata": {
    "tags": [],
    "cell_id": "00005-4cdacf0c-716f-4671-b911-885ba7c1d343",
    "output_cleared": false,
    "deepnote_cell_type": "markdown"
   }
  },
  {
   "cell_type": "code",
   "metadata": {
    "tags": [],
    "cell_id": "00006-459bd204-1341-45cb-8d0d-ecb2140cddf4",
    "output_cleared": false,
    "source_hash": "3a7c613c",
    "execution_millis": 4,
    "execution_start": 1620826509118,
    "deepnote_to_be_reexecuted": false,
    "deepnote_cell_type": "code"
   },
   "source": "## Unique Events\n\na = psb_df[\"c_Event\"].unique()\na",
   "execution_count": 3,
   "outputs": [
    {
     "output_type": "execute_result",
     "execution_count": 3,
     "data": {
      "text/plain": "array(['100m Backstroke', '100m Breaststroke', '100m Butterfly',\n       '100m Freestyle', '1500m Freestyle', '200m Backstroke',\n       '200m Breaststroke', '200m Butterfly', '200m Freestyle',\n       '200m Individual Medley', '4 x 100m Freestyle Relay',\n       '4 x 100m Medley Relay', '4 x 200m Freestyle Relay',\n       '400m Freestyle', '400m Individual Medley', '50m Backstroke',\n       '50m Breaststroke', '50m Butterfly', '50m Freestyle',\n       '800m Freestyle'], dtype=object)"
     },
     "metadata": {}
    }
   ]
  },
  {
   "cell_type": "markdown",
   "source": "#### 3a. Find all rows with NaN values.\n> Because you want to identify where these values are coming from...more examples [here](https://datatofish.com/rows-with-nan-pandas-dataframe/).",
   "metadata": {
    "tags": [],
    "cell_id": "00005-e0316efe-f8fa-42a2-b1be-1e08d1973043",
    "output_cleared": false,
    "deepnote_cell_type": "markdown"
   }
  },
  {
   "cell_type": "code",
   "metadata": {
    "tags": [],
    "cell_id": "00006-4f25e091-3cff-4502-868c-4cb3e1acaab5",
    "output_cleared": false,
    "source_hash": "21347394",
    "execution_millis": 21,
    "execution_start": 1620826509119,
    "deepnote_to_be_reexecuted": false,
    "deepnote_cell_type": "code"
   },
   "source": "# Example\n# rows_with_nan_values = psb_df[psb_df.isnull().any(axis=1)]\nrows_with_nan_values = psb_df[psb_df.isnull().any(axis=1)]\n\n# rows_with_nan_values\nrows_with_nan_values",
   "execution_count": 4,
   "outputs": [
    {
     "output_type": "execute_result",
     "execution_count": 4,
     "data": {
      "application/vnd.deepnote.dataframe.v2+json": {
       "row_count": 308,
       "column_count": 11,
       "columns": [
        {
         "name": "c_Sport",
         "dtype": "object",
         "stats": {
          "unique_count": 1,
          "nan_count": 0,
          "categories": [
           {
            "name": "Swimming",
            "count": 308
           }
          ]
         }
        },
        {
         "name": "c_Season",
         "dtype": "int64",
         "stats": {
          "unique_count": 1,
          "nan_count": 0,
          "min": "2018",
          "max": "2018",
          "histogram": [
           {
            "bin_start": 2017.5,
            "bin_end": 2017.6,
            "count": 0
           },
           {
            "bin_start": 2017.6,
            "bin_end": 2017.7,
            "count": 0
           },
           {
            "bin_start": 2017.7,
            "bin_end": 2017.8,
            "count": 0
           },
           {
            "bin_start": 2017.8,
            "bin_end": 2017.9,
            "count": 0
           },
           {
            "bin_start": 2017.9,
            "bin_end": 2018,
            "count": 0
           },
           {
            "bin_start": 2018,
            "bin_end": 2018.1,
            "count": 308
           },
           {
            "bin_start": 2018.1,
            "bin_end": 2018.2,
            "count": 0
           },
           {
            "bin_start": 2018.2,
            "bin_end": 2018.3,
            "count": 0
           },
           {
            "bin_start": 2018.3,
            "bin_end": 2018.4,
            "count": 0
           },
           {
            "bin_start": 2018.4,
            "bin_end": 2018.5,
            "count": 0
           }
          ]
         }
        },
        {
         "name": "c_Event",
         "dtype": "object",
         "stats": {
          "unique_count": 3,
          "nan_count": 0,
          "categories": [
           {
            "name": "4 x 100m Medley Relay",
            "count": 128
           },
           {
            "name": "4 x 100m Freestyle Relay",
            "count": 110
           },
           {
            "name": "4 x 200m Freestyle Relay",
            "count": 70
           }
          ]
         }
        },
        {
         "name": "c_Gender",
         "dtype": "object",
         "stats": {
          "unique_count": 3,
          "nan_count": 0,
          "categories": [
           {
            "name": "Men",
            "count": 117
           },
           {
            "name": "Mixed",
            "count": 96
           },
           {
            "name": "Women",
            "count": 95
           }
          ]
         }
        },
        {
         "name": "n_DateSort",
         "dtype": "int64",
         "stats": {
          "unique_count": 42,
          "nan_count": 0,
          "min": "20180622",
          "max": "20181211",
          "histogram": [
           {
            "bin_start": 20180622,
            "bin_end": 20180680.9,
            "count": 1
           },
           {
            "bin_start": 20180680.9,
            "bin_end": 20180739.8,
            "count": 59
           },
           {
            "bin_start": 20180739.8,
            "bin_end": 20180798.7,
            "count": 0
           },
           {
            "bin_start": 20180798.7,
            "bin_end": 20180857.6,
            "count": 207
           },
           {
            "bin_start": 20180857.6,
            "bin_end": 20180916.5,
            "count": 10
           },
           {
            "bin_start": 20180916.5,
            "bin_end": 20180975.4,
            "count": 0
           },
           {
            "bin_start": 20180975.4,
            "bin_end": 20181034.3,
            "count": 29
           },
           {
            "bin_start": 20181034.3,
            "bin_end": 20181093.2,
            "count": 0
           },
           {
            "bin_start": 20181093.2,
            "bin_end": 20181152.1,
            "count": 0
           },
           {
            "bin_start": 20181152.1,
            "bin_end": 20181211,
            "count": 2
           }
          ]
         }
        },
        {
         "name": "c_Person",
         "dtype": "object",
         "stats": {
          "unique_count": 0,
          "nan_count": 308,
          "categories": [
           {
            "name": "Missing",
            "count": 308
           }
          ]
         }
        },
        {
         "name": "c_PersonNatio",
         "dtype": "object",
         "stats": {
          "unique_count": 0,
          "nan_count": 308,
          "categories": [
           {
            "name": "Missing",
            "count": 308
           }
          ]
         }
        },
        {
         "name": "c_NOC",
         "dtype": "object",
         "stats": {
          "unique_count": 64,
          "nan_count": 0,
          "categories": [
           {
            "name": "Russia",
            "count": 9
           },
           {
            "name": "Italy",
            "count": 9
           },
           {
            "name": "62 others",
            "count": 290
           }
          ]
         }
        },
        {
         "name": "c_Result",
         "dtype": "object",
         "stats": {
          "unique_count": 303,
          "nan_count": 0,
          "categories": [
           {
            "name": "3:17.31",
            "count": 2
           },
           {
            "name": "3:45.93",
            "count": 2
           },
           {
            "name": "301 others",
            "count": 304
           }
          ]
         }
        },
        {
         "name": "n_ResultSort",
         "dtype": "int64",
         "stats": {
          "unique_count": 303,
          "nan_count": 0,
          "min": "192020",
          "max": "508370",
          "histogram": [
           {
            "bin_start": 192020,
            "bin_end": 223655,
            "count": 118
           },
           {
            "bin_start": 223655,
            "bin_end": 255290,
            "count": 106
           },
           {
            "bin_start": 255290,
            "bin_end": 286925,
            "count": 14
           },
           {
            "bin_start": 286925,
            "bin_end": 318560,
            "count": 0
           },
           {
            "bin_start": 318560,
            "bin_end": 350195,
            "count": 0
           },
           {
            "bin_start": 350195,
            "bin_end": 381830,
            "count": 0
           },
           {
            "bin_start": 381830,
            "bin_end": 413465,
            "count": 0
           },
           {
            "bin_start": 413465,
            "bin_end": 445100,
            "count": 22
           },
           {
            "bin_start": 445100,
            "bin_end": 476735,
            "count": 29
           },
           {
            "bin_start": 476735,
            "bin_end": 508370,
            "count": 19
           }
          ]
         }
        },
        {
         "name": "c_Class",
         "dtype": "object",
         "stats": {
          "unique_count": 1,
          "nan_count": 0,
          "categories": [
           {
            "name": "Elite",
            "count": 308
           }
          ]
         }
        },
        {
         "name": "_deepnote_index_column",
         "dtype": "int64"
        }
       ],
       "rows_top": [
        {
         "c_Sport": "Swimming",
         "c_Season": 2018,
         "c_Event": "4 x 100m Freestyle Relay",
         "c_Gender": "Men",
         "n_DateSort": 20180809,
         "c_Person": "nan",
         "c_PersonNatio": "nan",
         "c_NOC": "Brazil",
         "c_Result": "3:12.02",
         "n_ResultSort": 192020,
         "c_Class": "Elite",
         "_deepnote_index_column": 9743
        },
        {
         "c_Sport": "Swimming",
         "c_Season": 2018,
         "c_Event": "4 x 100m Freestyle Relay",
         "c_Gender": "Men",
         "n_DateSort": 20180803,
         "c_Person": "nan",
         "c_PersonNatio": "nan",
         "c_NOC": "Russia",
         "c_Result": "3:12.23",
         "n_ResultSort": 192230,
         "c_Class": "Elite",
         "_deepnote_index_column": 9744
        },
        {
         "c_Sport": "Swimming",
         "c_Season": 2018,
         "c_Event": "4 x 100m Freestyle Relay",
         "c_Gender": "Men",
         "n_DateSort": 20180809,
         "c_Person": "nan",
         "c_PersonNatio": "nan",
         "c_NOC": "Australia",
         "c_Result": "3:12.53",
         "n_ResultSort": 192530,
         "c_Class": "Elite",
         "_deepnote_index_column": 9745
        },
        {
         "c_Sport": "Swimming",
         "c_Season": 2018,
         "c_Event": "4 x 100m Freestyle Relay",
         "c_Gender": "Men",
         "n_DateSort": 20180809,
         "c_Person": "nan",
         "c_PersonNatio": "nan",
         "c_NOC": "Japan",
         "c_Result": "3:12.54",
         "n_ResultSort": 192540,
         "c_Class": "Elite",
         "_deepnote_index_column": 9746
        },
        {
         "c_Sport": "Swimming",
         "c_Season": 2018,
         "c_Event": "4 x 100m Freestyle Relay",
         "c_Gender": "Men",
         "n_DateSort": 20180803,
         "c_Person": "nan",
         "c_PersonNatio": "nan",
         "c_NOC": "Italy",
         "c_Result": "3:12.90",
         "n_ResultSort": 192900,
         "c_Class": "Elite",
         "_deepnote_index_column": 9747
        },
        {
         "c_Sport": "Swimming",
         "c_Season": 2018,
         "c_Event": "4 x 100m Freestyle Relay",
         "c_Gender": "Men",
         "n_DateSort": 20180822,
         "c_Person": "nan",
         "c_PersonNatio": "nan",
         "c_NOC": "China",
         "c_Result": "3:13.29",
         "n_ResultSort": 193290,
         "c_Class": "Elite",
         "_deepnote_index_column": 9748
        },
        {
         "c_Sport": "Swimming",
         "c_Season": 2018,
         "c_Event": "4 x 100m Freestyle Relay",
         "c_Gender": "Men",
         "n_DateSort": 20180803,
         "c_Person": "nan",
         "c_PersonNatio": "nan",
         "c_NOC": "Poland",
         "c_Result": "3:14.20",
         "n_ResultSort": 194200,
         "c_Class": "Elite",
         "_deepnote_index_column": 9749
        },
        {
         "c_Sport": "Swimming",
         "c_Season": 2018,
         "c_Event": "4 x 100m Freestyle Relay",
         "c_Gender": "Men",
         "n_DateSort": 20180809,
         "c_Person": "nan",
         "c_PersonNatio": "nan",
         "c_NOC": "Canada",
         "c_Result": "3:14.50",
         "n_ResultSort": 194500,
         "c_Class": "Elite",
         "_deepnote_index_column": 9750
        },
        {
         "c_Sport": "Swimming",
         "c_Season": 2018,
         "c_Event": "4 x 100m Freestyle Relay",
         "c_Gender": "Men",
         "n_DateSort": 20180803,
         "c_Person": "nan",
         "c_PersonNatio": "nan",
         "c_NOC": "Hungary",
         "c_Result": "3:14.51",
         "n_ResultSort": 194510,
         "c_Class": "Elite",
         "_deepnote_index_column": 9751
        },
        {
         "c_Sport": "Swimming",
         "c_Season": 2018,
         "c_Event": "4 x 100m Freestyle Relay",
         "c_Gender": "Men",
         "n_DateSort": 20180803,
         "c_Person": "nan",
         "c_PersonNatio": "nan",
         "c_NOC": "Greece",
         "c_Result": "3:14.52",
         "n_ResultSort": 194520,
         "c_Class": "Elite",
         "_deepnote_index_column": 9752
        },
        {
         "c_Sport": "Swimming",
         "c_Season": 2018,
         "c_Event": "4 x 100m Freestyle Relay",
         "c_Gender": "Men",
         "n_DateSort": 20180803,
         "c_Person": "nan",
         "c_PersonNatio": "nan",
         "c_NOC": "Netherlands",
         "c_Result": "3:14.60",
         "n_ResultSort": 194600,
         "c_Class": "Elite",
         "_deepnote_index_column": 9753
        },
        {
         "c_Sport": "Swimming",
         "c_Season": 2018,
         "c_Event": "4 x 100m Freestyle Relay",
         "c_Gender": "Men",
         "n_DateSort": 20180803,
         "c_Person": "nan",
         "c_PersonNatio": "nan",
         "c_NOC": "Germany",
         "c_Result": "3:15.12",
         "n_ResultSort": 195120,
         "c_Class": "Elite",
         "_deepnote_index_column": 9754
        },
        {
         "c_Sport": "Swimming",
         "c_Season": 2018,
         "c_Event": "4 x 100m Freestyle Relay",
         "c_Gender": "Men",
         "n_DateSort": 20180803,
         "c_Person": "nan",
         "c_PersonNatio": "nan",
         "c_NOC": "Serbia",
         "c_Result": "3:15.16",
         "n_ResultSort": 195160,
         "c_Class": "Elite",
         "_deepnote_index_column": 9755
        },
        {
         "c_Sport": "Swimming",
         "c_Season": 2018,
         "c_Event": "4 x 100m Freestyle Relay",
         "c_Gender": "Men",
         "n_DateSort": 20180803,
         "c_Person": "nan",
         "c_PersonNatio": "nan",
         "c_NOC": "France",
         "c_Result": "3:17.15",
         "n_ResultSort": 197150,
         "c_Class": "Elite",
         "_deepnote_index_column": 9756
        },
        {
         "c_Sport": "Swimming",
         "c_Season": 2018,
         "c_Event": "4 x 100m Freestyle Relay",
         "c_Gender": "Men",
         "n_DateSort": 20180822,
         "c_Person": "nan",
         "c_PersonNatio": "nan",
         "c_NOC": "Singapore",
         "c_Result": "3:17.22",
         "n_ResultSort": 197220,
         "c_Class": "Elite",
         "_deepnote_index_column": 9757
        },
        {
         "c_Sport": "Swimming",
         "c_Season": 2018,
         "c_Event": "4 x 100m Freestyle Relay",
         "c_Gender": "Men",
         "n_DateSort": 20180803,
         "c_Person": "nan",
         "c_PersonNatio": "nan",
         "c_NOC": "Sweden",
         "c_Result": "3:17.31",
         "n_ResultSort": 197310,
         "c_Class": "Elite",
         "_deepnote_index_column": 9758
        },
        {
         "c_Sport": "Swimming",
         "c_Season": 2018,
         "c_Event": "4 x 100m Freestyle Relay",
         "c_Gender": "Men",
         "n_DateSort": 20180803,
         "c_Person": "nan",
         "c_PersonNatio": "nan",
         "c_NOC": "Great Britain",
         "c_Result": "3:17.31",
         "n_ResultSort": 197310,
         "c_Class": "Elite",
         "_deepnote_index_column": 9759
        },
        {
         "c_Sport": "Swimming",
         "c_Season": 2018,
         "c_Event": "4 x 100m Freestyle Relay",
         "c_Gender": "Men",
         "n_DateSort": 20180803,
         "c_Person": "nan",
         "c_PersonNatio": "nan",
         "c_NOC": "Lithuania",
         "c_Result": "3:17.88",
         "n_ResultSort": 197880,
         "c_Class": "Elite",
         "_deepnote_index_column": 9760
        },
        {
         "c_Sport": "Swimming",
         "c_Season": 2018,
         "c_Event": "4 x 100m Freestyle Relay",
         "c_Gender": "Men",
         "n_DateSort": 20180822,
         "c_Person": "nan",
         "c_PersonNatio": "nan",
         "c_NOC": "Korea",
         "c_Result": "3:17.92",
         "n_ResultSort": 197920,
         "c_Class": "Elite",
         "_deepnote_index_column": 9761
        },
        {
         "c_Sport": "Swimming",
         "c_Season": 2018,
         "c_Event": "4 x 100m Freestyle Relay",
         "c_Gender": "Men",
         "n_DateSort": 20180803,
         "c_Person": "nan",
         "c_PersonNatio": "nan",
         "c_NOC": "Belgium",
         "c_Result": "3:18.36",
         "n_ResultSort": 198360,
         "c_Class": "Elite",
         "_deepnote_index_column": 9762
        },
        {
         "c_Sport": "Swimming",
         "c_Season": 2018,
         "c_Event": "4 x 100m Freestyle Relay",
         "c_Gender": "Men",
         "n_DateSort": 20180822,
         "c_Person": "nan",
         "c_PersonNatio": "nan",
         "c_NOC": "Chinese Taipei",
         "c_Result": "3:19.02",
         "n_ResultSort": 199020,
         "c_Class": "Elite",
         "_deepnote_index_column": 9763
        },
        {
         "c_Sport": "Swimming",
         "c_Season": 2018,
         "c_Event": "4 x 100m Freestyle Relay",
         "c_Gender": "Men",
         "n_DateSort": 20180803,
         "c_Person": "nan",
         "c_PersonNatio": "nan",
         "c_NOC": "Israel",
         "c_Result": "3:19.40",
         "n_ResultSort": 199400,
         "c_Class": "Elite",
         "_deepnote_index_column": 9764
        },
        {
         "c_Sport": "Swimming",
         "c_Season": 2018,
         "c_Event": "4 x 100m Freestyle Relay",
         "c_Gender": "Men",
         "n_DateSort": 20180823,
         "c_Person": "nan",
         "c_PersonNatio": "nan",
         "c_NOC": "United States",
         "c_Result": "3:19.44",
         "n_ResultSort": 199440,
         "c_Class": "Elite",
         "_deepnote_index_column": 9765
        },
        {
         "c_Sport": "Swimming",
         "c_Season": 2018,
         "c_Event": "4 x 100m Freestyle Relay",
         "c_Gender": "Men",
         "n_DateSort": 20180803,
         "c_Person": "nan",
         "c_PersonNatio": "nan",
         "c_NOC": "Turkey",
         "c_Result": "3:20.28",
         "n_ResultSort": 200280,
         "c_Class": "Elite",
         "_deepnote_index_column": 9766
        },
        {
         "c_Sport": "Swimming",
         "c_Season": 2018,
         "c_Event": "4 x 100m Freestyle Relay",
         "c_Gender": "Men",
         "n_DateSort": 20180822,
         "c_Person": "nan",
         "c_PersonNatio": "nan",
         "c_NOC": "Malaysia",
         "c_Result": "3:21.06",
         "n_ResultSort": 201060,
         "c_Class": "Elite",
         "_deepnote_index_column": 9767
        },
        {
         "c_Sport": "Swimming",
         "c_Season": 2018,
         "c_Event": "4 x 100m Freestyle Relay",
         "c_Gender": "Men",
         "n_DateSort": 20180803,
         "c_Person": "nan",
         "c_PersonNatio": "nan",
         "c_NOC": "Belarus",
         "c_Result": "3:21.35",
         "n_ResultSort": 201350,
         "c_Class": "Elite",
         "_deepnote_index_column": 9768
        },
        {
         "c_Sport": "Swimming",
         "c_Season": 2018,
         "c_Event": "4 x 100m Freestyle Relay",
         "c_Gender": "Mixed",
         "n_DateSort": 20180808,
         "c_Person": "nan",
         "c_PersonNatio": "nan",
         "c_NOC": "France",
         "c_Result": "3:22.07",
         "n_ResultSort": 202070,
         "c_Class": "Elite",
         "_deepnote_index_column": 9769
        },
        {
         "c_Sport": "Swimming",
         "c_Season": 2018,
         "c_Event": "4 x 100m Freestyle Relay",
         "c_Gender": "Mixed",
         "n_DateSort": 20180808,
         "c_Person": "nan",
         "c_PersonNatio": "nan",
         "c_NOC": "Netherlands",
         "c_Result": "3:23.97",
         "n_ResultSort": 203970,
         "c_Class": "Elite",
         "_deepnote_index_column": 9770
        },
        {
         "c_Sport": "Swimming",
         "c_Season": 2018,
         "c_Event": "4 x 100m Freestyle Relay",
         "c_Gender": "Mixed",
         "n_DateSort": 20180808,
         "c_Person": "nan",
         "c_PersonNatio": "nan",
         "c_NOC": "Russia",
         "c_Result": "3:24.50",
         "n_ResultSort": 204500,
         "c_Class": "Elite",
         "_deepnote_index_column": 9771
        },
        {
         "c_Sport": "Swimming",
         "c_Season": 2018,
         "c_Event": "4 x 100m Freestyle Relay",
         "c_Gender": "Mixed",
         "n_DateSort": 20180808,
         "c_Person": "nan",
         "c_PersonNatio": "nan",
         "c_NOC": "Italy",
         "c_Result": "3:24.94",
         "n_ResultSort": 204940,
         "c_Class": "Elite",
         "_deepnote_index_column": 9772
        },
        {
         "c_Sport": "Swimming",
         "c_Season": 2018,
         "c_Event": "4 x 100m Freestyle Relay",
         "c_Gender": "Men",
         "n_DateSort": 20180822,
         "c_Person": "nan",
         "c_PersonNatio": "nan",
         "c_NOC": "Indonesia",
         "c_Result": "3:25.14",
         "n_ResultSort": 205140,
         "c_Class": "Elite",
         "_deepnote_index_column": 9773
        },
        {
         "c_Sport": "Swimming",
         "c_Season": 2018,
         "c_Event": "4 x 100m Freestyle Relay",
         "c_Gender": "Men",
         "n_DateSort": 20180822,
         "c_Person": "nan",
         "c_PersonNatio": "nan",
         "c_NOC": "India",
         "c_Result": "3:25.17",
         "n_ResultSort": 205170,
         "c_Class": "Elite",
         "_deepnote_index_column": 9774
        },
        {
         "c_Sport": "Swimming",
         "c_Season": 2018,
         "c_Event": "4 x 100m Freestyle Relay",
         "c_Gender": "Men",
         "n_DateSort": 20180822,
         "c_Person": "nan",
         "c_PersonNatio": "nan",
         "c_NOC": "Hong Kong, China",
         "c_Result": "3:25.50",
         "n_ResultSort": 205500,
         "c_Class": "Elite",
         "_deepnote_index_column": 9775
        },
        {
         "c_Sport": "Swimming",
         "c_Season": 2018,
         "c_Event": "4 x 100m Freestyle Relay",
         "c_Gender": "Mixed",
         "n_DateSort": 20180808,
         "c_Person": "nan",
         "c_PersonNatio": "nan",
         "c_NOC": "Germany",
         "c_Result": "3:26.59",
         "n_ResultSort": 206590,
         "c_Class": "Elite",
         "_deepnote_index_column": 9776
        },
        {
         "c_Sport": "Swimming",
         "c_Season": 2018,
         "c_Event": "4 x 100m Freestyle Relay",
         "c_Gender": "Men",
         "n_DateSort": 20180822,
         "c_Person": "nan",
         "c_PersonNatio": "nan",
         "c_NOC": "Uzbekistan",
         "c_Result": "3:27.15",
         "n_ResultSort": 207150,
         "c_Class": "Elite",
         "_deepnote_index_column": 9777
        },
        {
         "c_Sport": "Swimming",
         "c_Season": 2018,
         "c_Event": "4 x 100m Freestyle Relay",
         "c_Gender": "Men",
         "n_DateSort": 20181209,
         "c_Person": "nan",
         "c_PersonNatio": "nan",
         "c_NOC": "South Africa",
         "c_Result": "3:27.21",
         "n_ResultSort": 207210,
         "c_Class": "Elite",
         "_deepnote_index_column": 9778
        },
        {
         "c_Sport": "Swimming",
         "c_Season": 2018,
         "c_Event": "4 x 100m Freestyle Relay",
         "c_Gender": "Men",
         "n_DateSort": 20180913,
         "c_Person": "nan",
         "c_PersonNatio": "nan",
         "c_NOC": "Tunisia",
         "c_Result": "3:27.92",
         "n_ResultSort": 207920,
         "c_Class": "Elite",
         "_deepnote_index_column": 9779
        },
        {
         "c_Sport": "Swimming",
         "c_Season": 2018,
         "c_Event": "4 x 100m Freestyle Relay",
         "c_Gender": "Men",
         "n_DateSort": 20180715,
         "c_Person": "nan",
         "c_PersonNatio": "nan",
         "c_NOC": "Algeria",
         "c_Result": "3:28.79",
         "n_ResultSort": 208790,
         "c_Class": "Elite",
         "_deepnote_index_column": 9780
        },
        {
         "c_Sport": "Swimming",
         "c_Season": 2018,
         "c_Event": "4 x 100m Freestyle Relay",
         "c_Gender": "Mixed",
         "n_DateSort": 20180808,
         "c_Person": "nan",
         "c_PersonNatio": "nan",
         "c_NOC": "Hungary",
         "c_Result": "3:29.30",
         "n_ResultSort": 209300,
         "c_Class": "Elite",
         "_deepnote_index_column": 9781
        },
        {
         "c_Sport": "Swimming",
         "c_Season": 2018,
         "c_Event": "4 x 100m Freestyle Relay",
         "c_Gender": "Men",
         "n_DateSort": 20180704,
         "c_Person": "nan",
         "c_PersonNatio": "nan",
         "c_NOC": "Finland",
         "c_Result": "3:29.59",
         "n_ResultSort": 209590,
         "c_Class": "Elite",
         "_deepnote_index_column": 9782
        },
        {
         "c_Sport": "Swimming",
         "c_Season": 2018,
         "c_Event": "4 x 100m Freestyle Relay",
         "c_Gender": "Mixed",
         "n_DateSort": 20180808,
         "c_Person": "nan",
         "c_PersonNatio": "nan",
         "c_NOC": "Poland",
         "c_Result": "3:29.62",
         "n_ResultSort": 209620,
         "c_Class": "Elite",
         "_deepnote_index_column": 9783
        },
        {
         "c_Sport": "Swimming",
         "c_Season": 2018,
         "c_Event": "4 x 100m Freestyle Relay",
         "c_Gender": "Mixed",
         "n_DateSort": 20180808,
         "c_Person": "nan",
         "c_PersonNatio": "nan",
         "c_NOC": "Israel",
         "c_Result": "3:29.73",
         "n_ResultSort": 209730,
         "c_Class": "Elite",
         "_deepnote_index_column": 9784
        },
        {
         "c_Sport": "Swimming",
         "c_Season": 2018,
         "c_Event": "4 x 100m Freestyle Relay",
         "c_Gender": "Men",
         "n_DateSort": 20180822,
         "c_Person": "nan",
         "c_PersonNatio": "nan",
         "c_NOC": "Macau, China",
         "c_Result": "3:29.97",
         "n_ResultSort": 209970,
         "c_Class": "Elite",
         "_deepnote_index_column": 9785
        },
        {
         "c_Sport": "Swimming",
         "c_Season": 2018,
         "c_Event": "4 x 100m Freestyle Relay",
         "c_Gender": "Mixed",
         "n_DateSort": 20181007,
         "c_Person": "nan",
         "c_PersonNatio": "nan",
         "c_NOC": "Brazil",
         "c_Result": "3:30.13",
         "n_ResultSort": 210130,
         "c_Class": "Elite",
         "_deepnote_index_column": 9786
        },
        {
         "c_Sport": "Swimming",
         "c_Season": 2018,
         "c_Event": "4 x 100m Freestyle Relay",
         "c_Gender": "Mixed",
         "n_DateSort": 20181007,
         "c_Person": "nan",
         "c_PersonNatio": "nan",
         "c_NOC": "China",
         "c_Result": "3:30.45",
         "n_ResultSort": 210450,
         "c_Class": "Elite",
         "_deepnote_index_column": 9787
        }
       ],
       "rows_bottom": [
        {
         "c_Sport": "Swimming",
         "c_Season": 2018,
         "c_Event": "4 x 200m Freestyle Relay",
         "c_Gender": "Mixed",
         "n_DateSort": 20180805,
         "c_Person": "nan",
         "c_PersonNatio": "nan",
         "c_NOC": "Russia",
         "c_Result": "7:29.37",
         "n_ResultSort": 449370,
         "c_Class": "Elite",
         "_deepnote_index_column": 10006
        },
        {
         "c_Sport": "Swimming",
         "c_Season": 2018,
         "c_Event": "4 x 200m Freestyle Relay",
         "c_Gender": "Mixed",
         "n_DateSort": 20180806,
         "c_Person": "nan",
         "c_PersonNatio": "nan",
         "c_NOC": "Great Britain",
         "c_Result": "7:29.72",
         "n_ResultSort": 449720,
         "c_Class": "Elite",
         "_deepnote_index_column": 10007
        },
        {
         "c_Sport": "Swimming",
         "c_Season": 2018,
         "c_Event": "4 x 200m Freestyle Relay",
         "c_Gender": "Men",
         "n_DateSort": 20180706,
         "c_Person": "nan",
         "c_PersonNatio": "nan",
         "c_NOC": "Poland",
         "c_Result": "7:30.36",
         "n_ResultSort": 450360,
         "c_Class": "Elite",
         "_deepnote_index_column": 10008
        },
        {
         "c_Sport": "Swimming",
         "c_Season": 2018,
         "c_Event": "4 x 200m Freestyle Relay",
         "c_Gender": "Men",
         "n_DateSort": 20180820,
         "c_Person": "nan",
         "c_PersonNatio": "nan",
         "c_NOC": "Vietnam",
         "c_Result": "7:30.37",
         "n_ResultSort": 450370,
         "c_Class": "Elite",
         "_deepnote_index_column": 10009
        },
        {
         "c_Sport": "Swimming",
         "c_Season": 2018,
         "c_Event": "4 x 200m Freestyle Relay",
         "c_Gender": "Mixed",
         "n_DateSort": 20180807,
         "c_Person": "nan",
         "c_PersonNatio": "nan",
         "c_NOC": "Hungary",
         "c_Result": "7:31.19",
         "n_ResultSort": 451190,
         "c_Class": "Elite",
         "_deepnote_index_column": 10010
        },
        {
         "c_Sport": "Swimming",
         "c_Season": 2018,
         "c_Event": "4 x 200m Freestyle Relay",
         "c_Gender": "Men",
         "n_DateSort": 20180912,
         "c_Person": "nan",
         "c_PersonNatio": "nan",
         "c_NOC": "Tunisia",
         "c_Result": "7:31.55",
         "n_ResultSort": 451550,
         "c_Class": "Elite",
         "_deepnote_index_column": 10011
        },
        {
         "c_Sport": "Swimming",
         "c_Season": 2018,
         "c_Event": "4 x 200m Freestyle Relay",
         "c_Gender": "Mixed",
         "n_DateSort": 20180808,
         "c_Person": "nan",
         "c_PersonNatio": "nan",
         "c_NOC": "Italy",
         "c_Result": "7:32.37",
         "n_ResultSort": 452370,
         "c_Class": "Elite",
         "_deepnote_index_column": 10012
        },
        {
         "c_Sport": "Swimming",
         "c_Season": 2018,
         "c_Event": "4 x 200m Freestyle Relay",
         "c_Gender": "Mixed",
         "n_DateSort": 20180809,
         "c_Person": "nan",
         "c_PersonNatio": "nan",
         "c_NOC": "Netherlands",
         "c_Result": "7:32.39",
         "n_ResultSort": 452390,
         "c_Class": "Elite",
         "_deepnote_index_column": 10013
        },
        {
         "c_Sport": "Swimming",
         "c_Season": 2018,
         "c_Event": "4 x 200m Freestyle Relay",
         "c_Gender": "Men",
         "n_DateSort": 20180706,
         "c_Person": "nan",
         "c_PersonNatio": "nan",
         "c_NOC": "Ireland",
         "c_Result": "7:33.73",
         "n_ResultSort": 453730,
         "c_Class": "Elite",
         "_deepnote_index_column": 10014
        },
        {
         "c_Sport": "Swimming",
         "c_Season": 2018,
         "c_Event": "4 x 200m Freestyle Relay",
         "c_Gender": "Men",
         "n_DateSort": 20180820,
         "c_Person": "nan",
         "c_PersonNatio": "nan",
         "c_NOC": "India",
         "c_Result": "7:34.69",
         "n_ResultSort": 454690,
         "c_Class": "Elite",
         "_deepnote_index_column": 10015
        },
        {
         "c_Sport": "Swimming",
         "c_Season": 2018,
         "c_Event": "4 x 200m Freestyle Relay",
         "c_Gender": "Men",
         "n_DateSort": 20180706,
         "c_Person": "nan",
         "c_PersonNatio": "nan",
         "c_NOC": "Serbia",
         "c_Result": "7:35.31",
         "n_ResultSort": 455310,
         "c_Class": "Elite",
         "_deepnote_index_column": 10016
        },
        {
         "c_Sport": "Swimming",
         "c_Season": 2018,
         "c_Event": "4 x 200m Freestyle Relay",
         "c_Gender": "Men",
         "n_DateSort": 20180824,
         "c_Person": "nan",
         "c_PersonNatio": "nan",
         "c_NOC": "New Zealand",
         "c_Result": "7:37.70",
         "n_ResultSort": 457700,
         "c_Class": "Elite",
         "_deepnote_index_column": 10017
        },
        {
         "c_Sport": "Swimming",
         "c_Season": 2018,
         "c_Event": "4 x 200m Freestyle Relay",
         "c_Gender": "Men",
         "n_DateSort": 20180912,
         "c_Person": "nan",
         "c_PersonNatio": "nan",
         "c_NOC": "Algeria",
         "c_Result": "7:39.30",
         "n_ResultSort": 459300,
         "c_Class": "Elite",
         "_deepnote_index_column": 10018
        },
        {
         "c_Sport": "Swimming",
         "c_Season": 2018,
         "c_Event": "4 x 200m Freestyle Relay",
         "c_Gender": "Men",
         "n_DateSort": 20180706,
         "c_Person": "nan",
         "c_PersonNatio": "nan",
         "c_NOC": "Turkey",
         "c_Result": "7:39.55",
         "n_ResultSort": 459550,
         "c_Class": "Elite",
         "_deepnote_index_column": 10019
        },
        {
         "c_Sport": "Swimming",
         "c_Season": 2018,
         "c_Event": "4 x 200m Freestyle Relay",
         "c_Gender": "Mixed",
         "n_DateSort": 20180810,
         "c_Person": "nan",
         "c_PersonNatio": "nan",
         "c_NOC": "Israel",
         "c_Result": "7:40.07",
         "n_ResultSort": 460070,
         "c_Class": "Elite",
         "_deepnote_index_column": 10020
        },
        {
         "c_Sport": "Swimming",
         "c_Season": 2018,
         "c_Event": "4 x 200m Freestyle Relay",
         "c_Gender": "Men",
         "n_DateSort": 20180820,
         "c_Person": "nan",
         "c_PersonNatio": "nan",
         "c_NOC": "Hong Kong, China",
         "c_Result": "7:43.57",
         "n_ResultSort": 463570,
         "c_Class": "Elite",
         "_deepnote_index_column": 10021
        },
        {
         "c_Sport": "Swimming",
         "c_Season": 2018,
         "c_Event": "4 x 200m Freestyle Relay",
         "c_Gender": "Women",
         "n_DateSort": 20180809,
         "c_Person": "nan",
         "c_PersonNatio": "nan",
         "c_NOC": "Australia",
         "c_Result": "7:44.12",
         "n_ResultSort": 464120,
         "c_Class": "Elite",
         "_deepnote_index_column": 10022
        },
        {
         "c_Sport": "Swimming",
         "c_Season": 2018,
         "c_Event": "4 x 200m Freestyle Relay",
         "c_Gender": "Women",
         "n_DateSort": 20180809,
         "c_Person": "nan",
         "c_PersonNatio": "nan",
         "c_NOC": "United States",
         "c_Result": "7:44.37",
         "n_ResultSort": 464370,
         "c_Class": "Elite",
         "_deepnote_index_column": 10023
        },
        {
         "c_Sport": "Swimming",
         "c_Season": 2018,
         "c_Event": "4 x 200m Freestyle Relay",
         "c_Gender": "Women",
         "n_DateSort": 20180809,
         "c_Person": "nan",
         "c_PersonNatio": "nan",
         "c_NOC": "Canada",
         "c_Result": "7:47.28",
         "n_ResultSort": 467280,
         "c_Class": "Elite",
         "_deepnote_index_column": 10024
        },
        {
         "c_Sport": "Swimming",
         "c_Season": 2018,
         "c_Event": "4 x 200m Freestyle Relay",
         "c_Gender": "Women",
         "n_DateSort": 20180821,
         "c_Person": "nan",
         "c_PersonNatio": "nan",
         "c_NOC": "China",
         "c_Result": "7:48.61",
         "n_ResultSort": 468610,
         "c_Class": "Elite",
         "_deepnote_index_column": 10025
        },
        {
         "c_Sport": "Swimming",
         "c_Season": 2018,
         "c_Event": "4 x 200m Freestyle Relay",
         "c_Gender": "Women",
         "n_DateSort": 20180809,
         "c_Person": "nan",
         "c_PersonNatio": "nan",
         "c_NOC": "Japan",
         "c_Result": "7:48.96",
         "n_ResultSort": 468960,
         "c_Class": "Elite",
         "_deepnote_index_column": 10026
        },
        {
         "c_Sport": "Swimming",
         "c_Season": 2018,
         "c_Event": "4 x 200m Freestyle Relay",
         "c_Gender": "Men",
         "n_DateSort": 20180820,
         "c_Person": "nan",
         "c_PersonNatio": "nan",
         "c_NOC": "Macau, China",
         "c_Result": "7:51.00",
         "n_ResultSort": 471000,
         "c_Class": "Elite",
         "_deepnote_index_column": 10027
        },
        {
         "c_Sport": "Swimming",
         "c_Season": 2018,
         "c_Event": "4 x 200m Freestyle Relay",
         "c_Gender": "Women",
         "n_DateSort": 20180807,
         "c_Person": "nan",
         "c_PersonNatio": "nan",
         "c_NOC": "Great Britain",
         "c_Result": "7:51.65",
         "n_ResultSort": 471650,
         "c_Class": "Elite",
         "_deepnote_index_column": 10028
        },
        {
         "c_Sport": "Swimming",
         "c_Season": 2018,
         "c_Event": "4 x 200m Freestyle Relay",
         "c_Gender": "Women",
         "n_DateSort": 20180807,
         "c_Person": "nan",
         "c_PersonNatio": "nan",
         "c_NOC": "Russia",
         "c_Result": "7:52.87",
         "n_ResultSort": 472870,
         "c_Class": "Elite",
         "_deepnote_index_column": 10029
        },
        {
         "c_Sport": "Swimming",
         "c_Season": 2018,
         "c_Event": "4 x 200m Freestyle Relay",
         "c_Gender": "Women",
         "n_DateSort": 20180807,
         "c_Person": "nan",
         "c_PersonNatio": "nan",
         "c_NOC": "Germany",
         "c_Result": "7:53.76",
         "n_ResultSort": 473760,
         "c_Class": "Elite",
         "_deepnote_index_column": 10030
        },
        {
         "c_Sport": "Swimming",
         "c_Season": 2018,
         "c_Event": "4 x 200m Freestyle Relay",
         "c_Gender": "Women",
         "n_DateSort": 20180807,
         "c_Person": "nan",
         "c_PersonNatio": "nan",
         "c_NOC": "France",
         "c_Result": "7:53.86",
         "n_ResultSort": 473860,
         "c_Class": "Elite",
         "_deepnote_index_column": 10031
        },
        {
         "c_Sport": "Swimming",
         "c_Season": 2018,
         "c_Event": "4 x 200m Freestyle Relay",
         "c_Gender": "Women",
         "n_DateSort": 20180807,
         "c_Person": "nan",
         "c_PersonNatio": "nan",
         "c_NOC": "Spain",
         "c_Result": "8:02.04",
         "n_ResultSort": 482040,
         "c_Class": "Elite",
         "_deepnote_index_column": 10032
        },
        {
         "c_Sport": "Swimming",
         "c_Season": 2018,
         "c_Event": "4 x 200m Freestyle Relay",
         "c_Gender": "Women",
         "n_DateSort": 20180708,
         "c_Person": "nan",
         "c_PersonNatio": "nan",
         "c_NOC": "Hungary",
         "c_Result": "8:02.24",
         "n_ResultSort": 482240,
         "c_Class": "Elite",
         "_deepnote_index_column": 10033
        },
        {
         "c_Sport": "Swimming",
         "c_Season": 2018,
         "c_Event": "4 x 200m Freestyle Relay",
         "c_Gender": "Women",
         "n_DateSort": 20180807,
         "c_Person": "nan",
         "c_PersonNatio": "nan",
         "c_NOC": "Netherlands",
         "c_Result": "8:02.94",
         "n_ResultSort": 482940,
         "c_Class": "Elite",
         "_deepnote_index_column": 10034
        },
        {
         "c_Sport": "Swimming",
         "c_Season": 2018,
         "c_Event": "4 x 200m Freestyle Relay",
         "c_Gender": "Mixed",
         "n_DateSort": 20180811,
         "c_Person": "nan",
         "c_PersonNatio": "nan",
         "c_NOC": "Slovakia",
         "c_Result": "8:03.50",
         "n_ResultSort": 483500,
         "c_Class": "Elite",
         "_deepnote_index_column": 10035
        },
        {
         "c_Sport": "Swimming",
         "c_Season": 2018,
         "c_Event": "4 x 200m Freestyle Relay",
         "c_Gender": "Women",
         "n_DateSort": 20180807,
         "c_Person": "nan",
         "c_PersonNatio": "nan",
         "c_NOC": "Denmark",
         "c_Result": "8:04.43",
         "n_ResultSort": 484430,
         "c_Class": "Elite",
         "_deepnote_index_column": 10036
        },
        {
         "c_Sport": "Swimming",
         "c_Season": 2018,
         "c_Event": "4 x 200m Freestyle Relay",
         "c_Gender": "Men",
         "n_DateSort": 20180702,
         "c_Person": "nan",
         "c_PersonNatio": "nan",
         "c_NOC": "Trinidad & Tobago",
         "c_Result": "8:06.30",
         "n_ResultSort": 486300,
         "c_Class": "Elite",
         "_deepnote_index_column": 10037
        },
        {
         "c_Sport": "Swimming",
         "c_Season": 2018,
         "c_Event": "4 x 200m Freestyle Relay",
         "c_Gender": "Women",
         "n_DateSort": 20180821,
         "c_Person": "nan",
         "c_PersonNatio": "nan",
         "c_NOC": "Hong Kong, China",
         "c_Result": "8:07.17",
         "n_ResultSort": 487170,
         "c_Class": "Elite",
         "_deepnote_index_column": 10038
        },
        {
         "c_Sport": "Swimming",
         "c_Season": 2018,
         "c_Event": "4 x 200m Freestyle Relay",
         "c_Gender": "Women",
         "n_DateSort": 20180807,
         "c_Person": "nan",
         "c_PersonNatio": "nan",
         "c_NOC": "Belgium",
         "c_Result": "8:08.59",
         "n_ResultSort": 488590,
         "c_Class": "Elite",
         "_deepnote_index_column": 10039
        },
        {
         "c_Sport": "Swimming",
         "c_Season": 2018,
         "c_Event": "4 x 200m Freestyle Relay",
         "c_Gender": "Women",
         "n_DateSort": 20180807,
         "c_Person": "nan",
         "c_PersonNatio": "nan",
         "c_NOC": "Austria",
         "c_Result": "8:10.94",
         "n_ResultSort": 490940,
         "c_Class": "Elite",
         "_deepnote_index_column": 10040
        },
        {
         "c_Sport": "Swimming",
         "c_Season": 2018,
         "c_Event": "4 x 200m Freestyle Relay",
         "c_Gender": "Women",
         "n_DateSort": 20180708,
         "c_Person": "nan",
         "c_PersonNatio": "nan",
         "c_NOC": "Slovenia",
         "c_Result": "8:12.75",
         "n_ResultSort": 492750,
         "c_Class": "Elite",
         "_deepnote_index_column": 10041
        },
        {
         "c_Sport": "Swimming",
         "c_Season": 2018,
         "c_Event": "4 x 200m Freestyle Relay",
         "c_Gender": "Women",
         "n_DateSort": 20180821,
         "c_Person": "nan",
         "c_PersonNatio": "nan",
         "c_NOC": "Korea",
         "c_Result": "8:14.36",
         "n_ResultSort": 494360,
         "c_Class": "Elite",
         "_deepnote_index_column": 10042
        },
        {
         "c_Sport": "Swimming",
         "c_Season": 2018,
         "c_Event": "4 x 200m Freestyle Relay",
         "c_Gender": "Women",
         "n_DateSort": 20180821,
         "c_Person": "nan",
         "c_PersonNatio": "nan",
         "c_NOC": "Singapore",
         "c_Result": "8:15.12",
         "n_ResultSort": 495120,
         "c_Class": "Elite",
         "_deepnote_index_column": 10043
        },
        {
         "c_Sport": "Swimming",
         "c_Season": 2018,
         "c_Event": "4 x 200m Freestyle Relay",
         "c_Gender": "Women",
         "n_DateSort": 20180708,
         "c_Person": "nan",
         "c_PersonNatio": "nan",
         "c_NOC": "Italy",
         "c_Result": "8:15.93",
         "n_ResultSort": 495930,
         "c_Class": "Elite",
         "_deepnote_index_column": 10044
        },
        {
         "c_Sport": "Swimming",
         "c_Season": 2018,
         "c_Event": "4 x 200m Freestyle Relay",
         "c_Gender": "Men",
         "n_DateSort": 20180702,
         "c_Person": "nan",
         "c_PersonNatio": "nan",
         "c_NOC": "Aruba",
         "c_Result": "8:16.37",
         "n_ResultSort": 496370,
         "c_Class": "Elite",
         "_deepnote_index_column": 10045
        },
        {
         "c_Sport": "Swimming",
         "c_Season": 2018,
         "c_Event": "4 x 200m Freestyle Relay",
         "c_Gender": "Women",
         "n_DateSort": 20180824,
         "c_Person": "nan",
         "c_PersonNatio": "nan",
         "c_NOC": "New Zealand",
         "c_Result": "8:18.91",
         "n_ResultSort": 498910,
         "c_Class": "Elite",
         "_deepnote_index_column": 10046
        },
        {
         "c_Sport": "Swimming",
         "c_Season": 2018,
         "c_Event": "4 x 200m Freestyle Relay",
         "c_Gender": "Women",
         "n_DateSort": 20180821,
         "c_Person": "nan",
         "c_PersonNatio": "nan",
         "c_NOC": "Indonesia",
         "c_Result": "8:21.51",
         "n_ResultSort": 501510,
         "c_Class": "Elite",
         "_deepnote_index_column": 10047
        },
        {
         "c_Sport": "Swimming",
         "c_Season": 2018,
         "c_Event": "4 x 200m Freestyle Relay",
         "c_Gender": "Women",
         "n_DateSort": 20180708,
         "c_Person": "nan",
         "c_PersonNatio": "nan",
         "c_NOC": "Portugal",
         "c_Result": "8:24.56",
         "n_ResultSort": 504560,
         "c_Class": "Elite",
         "_deepnote_index_column": 10048
        },
        {
         "c_Sport": "Swimming",
         "c_Season": 2018,
         "c_Event": "4 x 200m Freestyle Relay",
         "c_Gender": "Women",
         "n_DateSort": 20180708,
         "c_Person": "nan",
         "c_PersonNatio": "nan",
         "c_NOC": "Slovakia",
         "c_Result": "8:27.47",
         "n_ResultSort": 507470,
         "c_Class": "Elite",
         "_deepnote_index_column": 10049
        },
        {
         "c_Sport": "Swimming",
         "c_Season": 2018,
         "c_Event": "4 x 200m Freestyle Relay",
         "c_Gender": "Women",
         "n_DateSort": 20180708,
         "c_Person": "nan",
         "c_PersonNatio": "nan",
         "c_NOC": "Turkey",
         "c_Result": "8:28.37",
         "n_ResultSort": 508370,
         "c_Class": "Elite",
         "_deepnote_index_column": 10050
        }
       ]
      },
      "text/plain": "        c_Sport  c_Season                   c_Event c_Gender  n_DateSort  \\\n9743   Swimming      2018  4 x 100m Freestyle Relay      Men    20180809   \n9744   Swimming      2018  4 x 100m Freestyle Relay      Men    20180803   \n9745   Swimming      2018  4 x 100m Freestyle Relay      Men    20180809   \n9746   Swimming      2018  4 x 100m Freestyle Relay      Men    20180809   \n9747   Swimming      2018  4 x 100m Freestyle Relay      Men    20180803   \n...         ...       ...                       ...      ...         ...   \n10046  Swimming      2018  4 x 200m Freestyle Relay    Women    20180824   \n10047  Swimming      2018  4 x 200m Freestyle Relay    Women    20180821   \n10048  Swimming      2018  4 x 200m Freestyle Relay    Women    20180708   \n10049  Swimming      2018  4 x 200m Freestyle Relay    Women    20180708   \n10050  Swimming      2018  4 x 200m Freestyle Relay    Women    20180708   \n\n      c_Person c_PersonNatio        c_NOC c_Result  n_ResultSort c_Class  \n9743       NaN           NaN       Brazil  3:12.02        192020   Elite  \n9744       NaN           NaN       Russia  3:12.23        192230   Elite  \n9745       NaN           NaN    Australia  3:12.53        192530   Elite  \n9746       NaN           NaN        Japan  3:12.54        192540   Elite  \n9747       NaN           NaN        Italy  3:12.90        192900   Elite  \n...        ...           ...          ...      ...           ...     ...  \n10046      NaN           NaN  New Zealand  8:18.91        498910   Elite  \n10047      NaN           NaN    Indonesia  8:21.51        501510   Elite  \n10048      NaN           NaN     Portugal  8:24.56        504560   Elite  \n10049      NaN           NaN     Slovakia  8:27.47        507470   Elite  \n10050      NaN           NaN       Turkey  8:28.37        508370   Elite  \n\n[308 rows x 11 columns]",
      "text/html": "<div>\n<style scoped>\n    .dataframe tbody tr th:only-of-type {\n        vertical-align: middle;\n    }\n\n    .dataframe tbody tr th {\n        vertical-align: top;\n    }\n\n    .dataframe thead th {\n        text-align: right;\n    }\n</style>\n<table border=\"1\" class=\"dataframe\">\n  <thead>\n    <tr style=\"text-align: right;\">\n      <th></th>\n      <th>c_Sport</th>\n      <th>c_Season</th>\n      <th>c_Event</th>\n      <th>c_Gender</th>\n      <th>n_DateSort</th>\n      <th>c_Person</th>\n      <th>c_PersonNatio</th>\n      <th>c_NOC</th>\n      <th>c_Result</th>\n      <th>n_ResultSort</th>\n      <th>c_Class</th>\n    </tr>\n  </thead>\n  <tbody>\n    <tr>\n      <th>9743</th>\n      <td>Swimming</td>\n      <td>2018</td>\n      <td>4 x 100m Freestyle Relay</td>\n      <td>Men</td>\n      <td>20180809</td>\n      <td>NaN</td>\n      <td>NaN</td>\n      <td>Brazil</td>\n      <td>3:12.02</td>\n      <td>192020</td>\n      <td>Elite</td>\n    </tr>\n    <tr>\n      <th>9744</th>\n      <td>Swimming</td>\n      <td>2018</td>\n      <td>4 x 100m Freestyle Relay</td>\n      <td>Men</td>\n      <td>20180803</td>\n      <td>NaN</td>\n      <td>NaN</td>\n      <td>Russia</td>\n      <td>3:12.23</td>\n      <td>192230</td>\n      <td>Elite</td>\n    </tr>\n    <tr>\n      <th>9745</th>\n      <td>Swimming</td>\n      <td>2018</td>\n      <td>4 x 100m Freestyle Relay</td>\n      <td>Men</td>\n      <td>20180809</td>\n      <td>NaN</td>\n      <td>NaN</td>\n      <td>Australia</td>\n      <td>3:12.53</td>\n      <td>192530</td>\n      <td>Elite</td>\n    </tr>\n    <tr>\n      <th>9746</th>\n      <td>Swimming</td>\n      <td>2018</td>\n      <td>4 x 100m Freestyle Relay</td>\n      <td>Men</td>\n      <td>20180809</td>\n      <td>NaN</td>\n      <td>NaN</td>\n      <td>Japan</td>\n      <td>3:12.54</td>\n      <td>192540</td>\n      <td>Elite</td>\n    </tr>\n    <tr>\n      <th>9747</th>\n      <td>Swimming</td>\n      <td>2018</td>\n      <td>4 x 100m Freestyle Relay</td>\n      <td>Men</td>\n      <td>20180803</td>\n      <td>NaN</td>\n      <td>NaN</td>\n      <td>Italy</td>\n      <td>3:12.90</td>\n      <td>192900</td>\n      <td>Elite</td>\n    </tr>\n    <tr>\n      <th>...</th>\n      <td>...</td>\n      <td>...</td>\n      <td>...</td>\n      <td>...</td>\n      <td>...</td>\n      <td>...</td>\n      <td>...</td>\n      <td>...</td>\n      <td>...</td>\n      <td>...</td>\n      <td>...</td>\n    </tr>\n    <tr>\n      <th>10046</th>\n      <td>Swimming</td>\n      <td>2018</td>\n      <td>4 x 200m Freestyle Relay</td>\n      <td>Women</td>\n      <td>20180824</td>\n      <td>NaN</td>\n      <td>NaN</td>\n      <td>New Zealand</td>\n      <td>8:18.91</td>\n      <td>498910</td>\n      <td>Elite</td>\n    </tr>\n    <tr>\n      <th>10047</th>\n      <td>Swimming</td>\n      <td>2018</td>\n      <td>4 x 200m Freestyle Relay</td>\n      <td>Women</td>\n      <td>20180821</td>\n      <td>NaN</td>\n      <td>NaN</td>\n      <td>Indonesia</td>\n      <td>8:21.51</td>\n      <td>501510</td>\n      <td>Elite</td>\n    </tr>\n    <tr>\n      <th>10048</th>\n      <td>Swimming</td>\n      <td>2018</td>\n      <td>4 x 200m Freestyle Relay</td>\n      <td>Women</td>\n      <td>20180708</td>\n      <td>NaN</td>\n      <td>NaN</td>\n      <td>Portugal</td>\n      <td>8:24.56</td>\n      <td>504560</td>\n      <td>Elite</td>\n    </tr>\n    <tr>\n      <th>10049</th>\n      <td>Swimming</td>\n      <td>2018</td>\n      <td>4 x 200m Freestyle Relay</td>\n      <td>Women</td>\n      <td>20180708</td>\n      <td>NaN</td>\n      <td>NaN</td>\n      <td>Slovakia</td>\n      <td>8:27.47</td>\n      <td>507470</td>\n      <td>Elite</td>\n    </tr>\n    <tr>\n      <th>10050</th>\n      <td>Swimming</td>\n      <td>2018</td>\n      <td>4 x 200m Freestyle Relay</td>\n      <td>Women</td>\n      <td>20180708</td>\n      <td>NaN</td>\n      <td>NaN</td>\n      <td>Turkey</td>\n      <td>8:28.37</td>\n      <td>508370</td>\n      <td>Elite</td>\n    </tr>\n  </tbody>\n</table>\n<p>308 rows × 11 columns</p>\n</div>"
     },
     "metadata": {}
    }
   ]
  },
  {
   "cell_type": "markdown",
   "source": "#### 3b. Find all Unique values in the ```c_Event``` column from the ```rows_with_nan_values``` you created above.\n> Because you want to confirm all the NaN values are coming specificly from relay events maybe???",
   "metadata": {
    "tags": [],
    "cell_id": "00007-21b48232-b8de-41f9-a81e-7ec373050db0",
    "output_cleared": false,
    "deepnote_cell_type": "markdown"
   }
  },
  {
   "cell_type": "code",
   "metadata": {
    "tags": [],
    "cell_id": "00007-8bc53f82-e25d-46ac-9760-6a53f7c68f8e",
    "output_cleared": false,
    "source_hash": "5034e78",
    "execution_millis": 0,
    "execution_start": 1620826509178,
    "deepnote_to_be_reexecuted": false,
    "deepnote_cell_type": "code"
   },
   "source": "#rows_with_nan_values = psb_df[psb_df.isnull().any(axis=1)]\n##df[df['column name'].isnull()]\n\nb = rows_with_nan_values[\"c_Event\"].unique()\nb\n",
   "execution_count": 5,
   "outputs": [
    {
     "output_type": "execute_result",
     "execution_count": 5,
     "data": {
      "text/plain": "array(['4 x 100m Freestyle Relay', '4 x 100m Medley Relay',\n       '4 x 200m Freestyle Relay'], dtype=object)"
     },
     "metadata": {}
    }
   ]
  },
  {
   "cell_type": "markdown",
   "source": "#### 4. Drop all rows in `psb_df` with a NaN values. \n> There are several solutions here...you could actually try provide a value for the missing data...however, in this instance, you decide it's ok to just drop all the rows with NaN values.",
   "metadata": {
    "tags": [],
    "cell_id": "00009-692c5343-ef3b-41c3-b3c3-a46c63697173",
    "output_cleared": false,
    "deepnote_cell_type": "markdown"
   }
  },
  {
   "cell_type": "code",
   "metadata": {
    "tags": [],
    "cell_id": "00010-869e7877-d36b-4b4c-b593-7cdb92245957",
    "output_cleared": false,
    "source_hash": "b09e31d5",
    "execution_millis": 92,
    "execution_start": 1620826618823,
    "deepnote_to_be_reexecuted": false,
    "deepnote_cell_type": "code"
   },
   "source": "cleaned_df = psb_df.dropna()\ncleaned_df\n\n## How to check if this has successfully dropped Nan rows?",
   "execution_count": 14,
   "outputs": [
    {
     "output_type": "execute_result",
     "execution_count": 14,
     "data": {
      "application/vnd.deepnote.dataframe.v2+json": {
       "row_count": 16640,
       "column_count": 8,
       "columns": [
        {
         "name": "c_Event",
         "dtype": "object",
         "stats": {
          "unique_count": 17,
          "nan_count": 0,
          "categories": [
           {
            "name": "800m Freestyle",
            "count": 989
           },
           {
            "name": "200m Individual Medley",
            "count": 988
           },
           {
            "name": "15 others",
            "count": 14663
           }
          ]
         }
        },
        {
         "name": "c_Gender",
         "dtype": "object",
         "stats": {
          "unique_count": 2,
          "nan_count": 0,
          "categories": [
           {
            "name": "Men",
            "count": 8341
           },
           {
            "name": "Women",
            "count": 8299
           }
          ]
         }
        },
        {
         "name": "n_DateSort",
         "dtype": "int64",
         "stats": {
          "unique_count": 232,
          "nan_count": 0,
          "min": "20180104",
          "max": "20181223",
          "histogram": [
           {
            "bin_start": 20180104,
            "bin_end": 20180215.9,
            "count": 521
           },
           {
            "bin_start": 20180215.9,
            "bin_end": 20180327.8,
            "count": 844
           },
           {
            "bin_start": 20180327.8,
            "bin_end": 20180439.7,
            "count": 4274
           },
           {
            "bin_start": 20180439.7,
            "bin_end": 20180551.6,
            "count": 1718
           },
           {
            "bin_start": 20180551.6,
            "bin_end": 20180663.5,
            "count": 1209
           },
           {
            "bin_start": 20180663.5,
            "bin_end": 20180775.4,
            "count": 4268
           },
           {
            "bin_start": 20180775.4,
            "bin_end": 20180887.3,
            "count": 2440
           },
           {
            "bin_start": 20180887.3,
            "bin_end": 20180999.2,
            "count": 674
           },
           {
            "bin_start": 20180999.2,
            "bin_end": 20181111.1,
            "count": 384
           },
           {
            "bin_start": 20181111.1,
            "bin_end": 20181223,
            "count": 308
           }
          ]
         }
        },
        {
         "name": "c_Person",
         "dtype": "object",
         "stats": {
          "unique_count": 6959,
          "nan_count": 0,
          "categories": [
           {
            "name": "Katinka Hosszú",
            "count": 16
           },
           {
            "name": "Zsuzsanna Jakabos",
            "count": 12
           },
           {
            "name": "6957 others",
            "count": 16612
           }
          ]
         }
        },
        {
         "name": "c_PersonNatio",
         "dtype": "object",
         "stats": {
          "unique_count": 126,
          "nan_count": 0,
          "categories": [
           {
            "name": "United States",
            "count": 3184
           },
           {
            "name": "Japan",
            "count": 2064
           },
           {
            "name": "124 others",
            "count": 11392
           }
          ]
         }
        },
        {
         "name": "c_NOC",
         "dtype": "object",
         "stats": {
          "unique_count": 119,
          "nan_count": 0,
          "categories": [
           {
            "name": "United States",
            "count": 3188
           },
           {
            "name": "Japan",
            "count": 2064
           },
           {
            "name": "117 others",
            "count": 11388
           }
          ]
         }
        },
        {
         "name": "c_Result",
         "dtype": "object"
        },
        {
         "name": "n_ResultSort",
         "dtype": "int64"
        },
        {
         "name": "_deepnote_index_column",
         "dtype": "int64"
        }
       ],
       "rows_top": [
        {
         "c_Event": "100m Backstroke",
         "c_Gender": "Men",
         "n_DateSort": 20180809,
         "c_Person": "Ryan Murphy",
         "c_PersonNatio": "United States",
         "c_NOC": "United States",
         "c_Result": "51.94",
         "n_ResultSort": 51940,
         "_deepnote_index_column": 0
        },
        {
         "c_Event": "100m Backstroke",
         "c_Gender": "Men",
         "n_DateSort": 20180822,
         "c_Person": "Xu Jiayu",
         "c_PersonNatio": "China",
         "c_NOC": "China",
         "c_Result": "52.30",
         "n_ResultSort": 52300,
         "_deepnote_index_column": 1
        },
        {
         "c_Event": "100m Backstroke",
         "c_Gender": "Men",
         "n_DateSort": 20180806,
         "c_Person": "Kliment Kolesnikov",
         "c_PersonNatio": "Russia",
         "c_NOC": "Russia",
         "c_Result": "52.51",
         "n_ResultSort": 52510,
         "_deepnote_index_column": 2
        },
        {
         "c_Event": "100m Backstroke",
         "c_Gender": "Men",
         "n_DateSort": 20180819,
         "c_Person": "Ryosuke Irie",
         "c_PersonNatio": "Japan",
         "c_NOC": "Japan",
         "c_Result": "52.53",
         "n_ResultSort": 52530,
         "_deepnote_index_column": 3
        },
        {
         "c_Event": "100m Backstroke",
         "c_Gender": "Men",
         "n_DateSort": 20180728,
         "c_Person": "Matt Grevers",
         "c_PersonNatio": "United States",
         "c_NOC": "United States",
         "c_Result": "52.55",
         "n_ResultSort": 52550,
         "_deepnote_index_column": 4
        },
        {
         "c_Event": "100m Backstroke",
         "c_Gender": "Men",
         "n_DateSort": 20180809,
         "c_Person": "Evgeniy Rylov",
         "c_PersonNatio": "Russia",
         "c_NOC": "Russia",
         "c_Result": "52.66",
         "n_ResultSort": 52660,
         "_deepnote_index_column": 5
        },
        {
         "c_Event": "100m Backstroke",
         "c_Gender": "Men",
         "n_DateSort": 20180810,
         "c_Person": "Mitch Larkin",
         "c_PersonNatio": "Australia",
         "c_NOC": "Australia",
         "c_Result": "52.88",
         "n_ResultSort": 52880,
         "_deepnote_index_column": 6
        },
        {
         "c_Event": "100m Backstroke",
         "c_Gender": "Men",
         "n_DateSort": 20180806,
         "c_Person": "Grigoriy Tarasevich",
         "c_PersonNatio": "Russia",
         "c_NOC": "Russia",
         "c_Result": "53.22",
         "n_ResultSort": 53220,
         "_deepnote_index_column": 7
        },
        {
         "c_Event": "100m Backstroke",
         "c_Gender": "Men",
         "n_DateSort": 20180728,
         "c_Person": "Justin Ress",
         "c_PersonNatio": "United States",
         "c_NOC": "United States",
         "c_Result": "53.26",
         "n_ResultSort": 53260,
         "_deepnote_index_column": 8
        },
        {
         "c_Event": "100m Backstroke",
         "c_Gender": "Men",
         "n_DateSort": 20180527,
         "c_Person": "Robert Glinta",
         "c_PersonNatio": "Romania",
         "c_NOC": "Romania",
         "c_Result": "53.32",
         "n_ResultSort": 53320,
         "_deepnote_index_column": 9
        },
        {
         "c_Event": "100m Backstroke",
         "c_Gender": "Men",
         "n_DateSort": 20180805,
         "c_Person": "Simone Sabbioni",
         "c_PersonNatio": "Italy",
         "c_NOC": "Italy",
         "c_Result": "53.39",
         "n_ResultSort": 53390,
         "_deepnote_index_column": 10
        },
        {
         "c_Event": "100m Backstroke",
         "c_Gender": "Men",
         "n_DateSort": 20180705,
         "c_Person": "Daniel-Cristian Martin",
         "c_PersonNatio": "Romania",
         "c_NOC": "Romania",
         "c_Result": "53.52",
         "n_ResultSort": 53520,
         "_deepnote_index_column": 11
        },
        {
         "c_Event": "100m Backstroke",
         "c_Gender": "Men",
         "n_DateSort": 20180810,
         "c_Person": "Michael Andrew",
         "c_PersonNatio": "United States",
         "c_NOC": "United States",
         "c_Result": "53.55",
         "n_ResultSort": 53550,
         "_deepnote_index_column": 12
        },
        {
         "c_Event": "100m Backstroke",
         "c_Gender": "Men",
         "n_DateSort": 20180403,
         "c_Person": "Junya Koga",
         "c_PersonNatio": "Japan",
         "c_NOC": "Japan",
         "c_Result": "53.60",
         "n_ResultSort": 53600,
         "_deepnote_index_column": 13
        },
        {
         "c_Event": "100m Backstroke",
         "c_Gender": "Men",
         "n_DateSort": 20180423,
         "c_Person": "Nikita Ulyanov",
         "c_PersonNatio": "Russia",
         "c_NOC": "Russia",
         "c_Result": "53.60",
         "n_ResultSort": 53600,
         "_deepnote_index_column": 14
        },
        {
         "c_Event": "100m Backstroke",
         "c_Gender": "Men",
         "n_DateSort": 20181008,
         "c_Person": "Thomas Ceccon",
         "c_PersonNatio": "Italy",
         "c_NOC": "Italy",
         "c_Result": "53.65",
         "n_ResultSort": 53650,
         "_deepnote_index_column": 15
        },
        {
         "c_Event": "100m Backstroke",
         "c_Gender": "Men",
         "n_DateSort": 20180713,
         "c_Person": "Mark Nikolaev",
         "c_PersonNatio": "Russia",
         "c_NOC": "Russia",
         "c_Result": "53.68",
         "n_ResultSort": 53680,
         "_deepnote_index_column": 16
        },
        {
         "c_Event": "100m Backstroke",
         "c_Gender": "Men",
         "n_DateSort": 20180806,
         "c_Person": "Apostolos Christou",
         "c_PersonNatio": "Greece",
         "c_NOC": "Greece",
         "c_Result": "53.72",
         "n_ResultSort": 53720,
         "_deepnote_index_column": 17
        },
        {
         "c_Event": "100m Backstroke",
         "c_Gender": "Men",
         "n_DateSort": 20180809,
         "c_Person": "Gabriel Fantoni",
         "c_PersonNatio": "Brazil",
         "c_NOC": "Brazil",
         "c_Result": "53.72",
         "n_ResultSort": 53720,
         "_deepnote_index_column": 18
        },
        {
         "c_Event": "100m Backstroke",
         "c_Gender": "Men",
         "n_DateSort": 20180525,
         "c_Person": "Kacper Stokowski",
         "c_PersonNatio": "Poland",
         "c_NOC": "Poland",
         "c_Result": "53.82",
         "n_ResultSort": 53820,
         "_deepnote_index_column": 19
        },
        {
         "c_Event": "100m Backstroke",
         "c_Gender": "Men",
         "n_DateSort": 20180728,
         "c_Person": "Bryce Mefford",
         "c_PersonNatio": "United States",
         "c_NOC": "United States",
         "c_Result": "53.84",
         "n_ResultSort": 53840,
         "_deepnote_index_column": 20
        },
        {
         "c_Event": "100m Backstroke",
         "c_Gender": "Men",
         "n_DateSort": 20180405,
         "c_Person": "Markus Thormeyer",
         "c_PersonNatio": "Canada",
         "c_NOC": "Canada",
         "c_Result": "53.86",
         "n_ResultSort": 53860,
         "_deepnote_index_column": 21
        },
        {
         "c_Event": "100m Backstroke",
         "c_Gender": "Men",
         "n_DateSort": 20180630,
         "c_Person": "Bradley Woodward",
         "c_PersonNatio": "Australia",
         "c_NOC": "Australia",
         "c_Result": "53.89",
         "n_ResultSort": 53890,
         "_deepnote_index_column": 22
        },
        {
         "c_Event": "100m Backstroke",
         "c_Gender": "Men",
         "n_DateSort": 20180810,
         "c_Person": "Javier Acevedo",
         "c_PersonNatio": "Canada",
         "c_NOC": "Canada",
         "c_Result": "53.90",
         "n_ResultSort": 53900,
         "_deepnote_index_column": 23
        },
        {
         "c_Event": "100m Backstroke",
         "c_Gender": "Men",
         "n_DateSort": 20181130,
         "c_Person": "Christopher Reid",
         "c_PersonNatio": "South Africa",
         "c_NOC": "South Africa",
         "c_Result": "53.92",
         "n_ResultSort": 53920,
         "_deepnote_index_column": 24
        },
        {
         "c_Event": "100m Backstroke",
         "c_Gender": "Men",
         "n_DateSort": 20180806,
         "c_Person": "Christian Diener",
         "c_PersonNatio": "Germany",
         "c_NOC": "Germany",
         "c_Result": "53.92",
         "n_ResultSort": 53920,
         "_deepnote_index_column": 25
        },
        {
         "c_Event": "100m Backstroke",
         "c_Gender": "Men",
         "n_DateSort": 20180303,
         "c_Person": "Jacob Pebley",
         "c_PersonNatio": "United States",
         "c_NOC": "United States",
         "c_Result": "53.93",
         "n_ResultSort": 53930,
         "_deepnote_index_column": 26
        },
        {
         "c_Event": "100m Backstroke",
         "c_Gender": "Men",
         "n_DateSort": 20180407,
         "c_Person": "Shane Ryan",
         "c_PersonNatio": "Ireland",
         "c_NOC": "Ireland",
         "c_Result": "53.96",
         "n_ResultSort": 53960,
         "_deepnote_index_column": 27
        },
        {
         "c_Event": "100m Backstroke",
         "c_Gender": "Men",
         "n_DateSort": 20180630,
         "c_Person": "Tristan Hollard",
         "c_PersonNatio": "Australia",
         "c_NOC": "Australia",
         "c_Result": "53.98",
         "n_ResultSort": 53980,
         "_deepnote_index_column": 28
        },
        {
         "c_Event": "100m Backstroke",
         "c_Gender": "Men",
         "n_DateSort": 20180427,
         "c_Person": "Yakov Toumarkin",
         "c_PersonNatio": "Israel",
         "c_NOC": "Israel",
         "c_Result": "54.00",
         "n_ResultSort": 54000,
         "_deepnote_index_column": 29
        },
        {
         "c_Event": "100m Backstroke",
         "c_Gender": "Men",
         "n_DateSort": 20180728,
         "c_Person": "Daniel Carr",
         "c_PersonNatio": "United States",
         "c_NOC": "United States",
         "c_Result": "54.01",
         "n_ResultSort": 54010,
         "_deepnote_index_column": 30
        },
        {
         "c_Event": "100m Backstroke",
         "c_Gender": "Men",
         "n_DateSort": 20180728,
         "c_Person": "Coleman Stewart",
         "c_PersonNatio": "United States",
         "c_NOC": "United States",
         "c_Result": "54.03",
         "n_ResultSort": 54030,
         "_deepnote_index_column": 31
        },
        {
         "c_Event": "100m Backstroke",
         "c_Gender": "Men",
         "n_DateSort": 20181221,
         "c_Person": "Richárd Bohus",
         "c_PersonNatio": "Hungary",
         "c_NOC": "Hungary",
         "c_Result": "54.05",
         "n_ResultSort": 54050,
         "_deepnote_index_column": 32
        },
        {
         "c_Event": "100m Backstroke",
         "c_Gender": "Men",
         "n_DateSort": 20181107,
         "c_Person": "Guilherme Guido",
         "c_PersonNatio": "Brazil",
         "c_NOC": "Brazil",
         "c_Result": "54.06",
         "n_ResultSort": 54060,
         "_deepnote_index_column": 33
        },
        {
         "c_Event": "100m Backstroke",
         "c_Gender": "Men",
         "n_DateSort": 20180728,
         "c_Person": "Austin Katz",
         "c_PersonNatio": "United States",
         "c_NOC": "United States",
         "c_Result": "54.06",
         "n_ResultSort": 54060,
         "_deepnote_index_column": 34
        },
        {
         "c_Event": "100m Backstroke",
         "c_Gender": "Men",
         "n_DateSort": 20180404,
         "c_Person": "Masaki Kaneko",
         "c_PersonNatio": "Japan",
         "c_NOC": "Japan",
         "c_Result": "54.10",
         "n_ResultSort": 54100,
         "_deepnote_index_column": 35
        },
        {
         "c_Event": "100m Backstroke",
         "c_Gender": "Men",
         "n_DateSort": 20180413,
         "c_Person": "Li Guangyuan",
         "c_PersonNatio": "China",
         "c_NOC": "China",
         "c_Result": "54.13",
         "n_ResultSort": 54130,
         "_deepnote_index_column": 36
        },
        {
         "c_Event": "100m Backstroke",
         "c_Gender": "Men",
         "n_DateSort": 20180427,
         "c_Person": "Lee Ju-Ho",
         "c_PersonNatio": "Korea",
         "c_NOC": "Korea",
         "c_Result": "54.17",
         "n_ResultSort": 54170,
         "_deepnote_index_column": 37
        },
        {
         "c_Event": "100m Backstroke",
         "c_Gender": "Men",
         "n_DateSort": 20180728,
         "c_Person": "Dean Farris",
         "c_PersonNatio": "United States",
         "c_NOC": "United States",
         "c_Result": "54.21",
         "n_ResultSort": 54210,
         "_deepnote_index_column": 38
        },
        {
         "c_Event": "100m Backstroke",
         "c_Gender": "Men",
         "n_DateSort": 20180407,
         "c_Person": "Chris Walker-Hebborn",
         "c_PersonNatio": "England",
         "c_NOC": "Great Britain",
         "c_Result": "54.23",
         "n_ResultSort": 54230,
         "_deepnote_index_column": 39
        },
        {
         "c_Event": "100m Backstroke",
         "c_Gender": "Men",
         "n_DateSort": 20180805,
         "c_Person": "Jan-Philip Glania",
         "c_PersonNatio": "Germany",
         "c_NOC": "Germany",
         "c_Result": "54.24",
         "n_ResultSort": 54240,
         "_deepnote_index_column": 40
        },
        {
         "c_Event": "100m Backstroke",
         "c_Gender": "Men",
         "n_DateSort": 20180403,
         "c_Person": "Junya Hasegawa",
         "c_PersonNatio": "Japan",
         "c_NOC": "Japan",
         "c_Result": "54.24",
         "n_ResultSort": 54240,
         "_deepnote_index_column": 41
        },
        {
         "c_Event": "100m Backstroke",
         "c_Gender": "Men",
         "n_DateSort": 20180813,
         "c_Person": "Matteo Milli",
         "c_PersonNatio": "Italy",
         "c_NOC": "Italy",
         "c_Result": "54.25",
         "n_ResultSort": 54250,
         "_deepnote_index_column": 42
        },
        {
         "c_Event": "100m Backstroke",
         "c_Gender": "Men",
         "n_DateSort": 20180427,
         "c_Person": "Park Seon-Kwan",
         "c_PersonNatio": "Korea",
         "c_NOC": "Korea",
         "c_Result": "54.25",
         "n_ResultSort": 54250,
         "_deepnote_index_column": 43
        },
        {
         "c_Event": "100m Backstroke",
         "c_Gender": "Men",
         "n_DateSort": 20180202,
         "c_Person": "Mikita Tsmyh",
         "c_PersonNatio": "Belarus",
         "c_NOC": "Belarus",
         "c_Result": "54.27",
         "n_ResultSort": 54270,
         "_deepnote_index_column": 44
        },
        {
         "c_Event": "100m Backstroke",
         "c_Gender": "Men",
         "n_DateSort": 20180902,
         "c_Person": "Hayate Matsubara",
         "c_PersonNatio": "Japan",
         "c_NOC": "Japan",
         "c_Result": "54.27",
         "n_ResultSort": 54270,
         "_deepnote_index_column": 45
        },
        {
         "c_Event": "100m Backstroke",
         "c_Gender": "Men",
         "n_DateSort": 20180728,
         "c_Person": "Nick Alexander",
         "c_PersonNatio": "United States",
         "c_NOC": "United States",
         "c_Result": "54.34",
         "n_ResultSort": 54340,
         "_deepnote_index_column": 46
        },
        {
         "c_Event": "100m Backstroke",
         "c_Gender": "Men",
         "n_DateSort": 20180406,
         "c_Person": "Luke Greenbank",
         "c_PersonNatio": "England",
         "c_NOC": "Great Britain",
         "c_Result": "54.37",
         "n_ResultSort": 54370,
         "_deepnote_index_column": 47
        },
        {
         "c_Event": "100m Backstroke",
         "c_Gender": "Men",
         "n_DateSort": 20180702,
         "c_Person": "Alexander Graham",
         "c_PersonNatio": "Australia",
         "c_NOC": "Australia",
         "c_Result": "54.37",
         "n_ResultSort": 54370,
         "_deepnote_index_column": 48
        },
        {
         "c_Event": "100m Backstroke",
         "c_Gender": "Men",
         "n_DateSort": 20180524,
         "c_Person": "Paul Gabriel Bedel",
         "c_PersonNatio": "France",
         "c_NOC": "France",
         "c_Result": "54.37",
         "n_ResultSort": 54370,
         "_deepnote_index_column": 49
        },
        {
         "c_Event": "100m Backstroke",
         "c_Gender": "Men",
         "n_DateSort": 20180805,
         "c_Person": "Conor Ferguson",
         "c_PersonNatio": "Northern Ireland",
         "c_NOC": "Ireland",
         "c_Result": "54.38",
         "n_ResultSort": 54380,
         "_deepnote_index_column": 50
        },
        {
         "c_Event": "100m Backstroke",
         "c_Gender": "Men",
         "n_DateSort": 20180525,
         "c_Person": "Stanislas Huille",
         "c_PersonNatio": "France",
         "c_NOC": "France",
         "c_Result": "54.39",
         "n_ResultSort": 54390,
         "_deepnote_index_column": 51
        },
        {
         "c_Event": "100m Backstroke",
         "c_Gender": "Men",
         "n_DateSort": 20180228,
         "c_Person": "Benjamin Treffers",
         "c_PersonNatio": "Australia",
         "c_NOC": "Australia",
         "c_Result": "54.40",
         "n_ResultSort": 54400,
         "_deepnote_index_column": 52
        },
        {
         "c_Event": "100m Backstroke",
         "c_Gender": "Men",
         "n_DateSort": 20180410,
         "c_Person": "Christopher Ciccarese",
         "c_PersonNatio": "Italy",
         "c_NOC": "Italy",
         "c_Result": "54.40",
         "n_ResultSort": 54400,
         "_deepnote_index_column": 53
        },
        {
         "c_Event": "100m Backstroke",
         "c_Gender": "Men",
         "n_DateSort": 20180728,
         "c_Person": "Nicolas Albiero",
         "c_PersonNatio": "United States",
         "c_NOC": "United States",
         "c_Result": "54.43",
         "n_ResultSort": 54430,
         "_deepnote_index_column": 54
        },
        {
         "c_Event": "100m Backstroke",
         "c_Gender": "Men",
         "n_DateSort": 20180511,
         "c_Person": "Nikos Sofianidis",
         "c_PersonNatio": "Greece",
         "c_NOC": "Greece",
         "c_Result": "54.47",
         "n_ResultSort": 54470,
         "_deepnote_index_column": 55
        },
        {
         "c_Event": "100m Backstroke",
         "c_Gender": "Men",
         "n_DateSort": 20180228,
         "c_Person": "Josh Beaver",
         "c_PersonNatio": "Australia",
         "c_NOC": "Australia",
         "c_Result": "54.48",
         "n_ResultSort": 54480,
         "_deepnote_index_column": 56
        },
        {
         "c_Event": "100m Backstroke",
         "c_Gender": "Men",
         "n_DateSort": 20180411,
         "c_Person": "Matteo Restivo",
         "c_PersonNatio": "Italy",
         "c_NOC": "Italy",
         "c_Result": "54.48",
         "n_ResultSort": 54480,
         "_deepnote_index_column": 57
        },
        {
         "c_Event": "100m Backstroke",
         "c_Gender": "Men",
         "n_DateSort": 20180525,
         "c_Person": "Maxence Orange",
         "c_PersonNatio": "France",
         "c_NOC": "France",
         "c_Result": "54.48",
         "n_ResultSort": 54480,
         "_deepnote_index_column": 58
        },
        {
         "c_Event": "100m Backstroke",
         "c_Gender": "Men",
         "n_DateSort": 20180525,
         "c_Person": "Masato Sakai",
         "c_PersonNatio": "Japan",
         "c_NOC": "Japan",
         "c_Result": "54.48",
         "n_ResultSort": 54480,
         "_deepnote_index_column": 59
        },
        {
         "c_Event": "100m Backstroke",
         "c_Gender": "Men",
         "n_DateSort": 20180806,
         "c_Person": "Nicholas Pyle",
         "c_PersonNatio": "Great Britain",
         "c_NOC": "Great Britain",
         "c_Result": "54.50",
         "n_ResultSort": 54500,
         "_deepnote_index_column": 60
        },
        {
         "c_Event": "100m Backstroke",
         "c_Gender": "Men",
         "n_DateSort": 20180728,
         "c_Person": "Shaine Casas",
         "c_PersonNatio": "United States",
         "c_NOC": "United States",
         "c_Result": "54.51",
         "n_ResultSort": 54510,
         "_deepnote_index_column": 61
        }
       ],
       "rows_bottom": [
        {
         "c_Event": "800m Freestyle",
         "c_Gender": "Women",
         "n_DateSort": 20180204,
         "c_Person": "Angélica André",
         "c_PersonNatio": "Portugal",
         "c_NOC": "Portugal",
         "c_Result": "9:00.04",
         "n_ResultSort": 540040,
         "_deepnote_index_column": 16885
        },
        {
         "c_Event": "800m Freestyle",
         "c_Gender": "Women",
         "n_DateSort": 20180813,
         "c_Person": "Silvia Fagnani",
         "c_PersonNatio": "Italy",
         "c_NOC": "Italy",
         "c_Result": "9:00.10",
         "n_ResultSort": 540100,
         "_deepnote_index_column": 16886
        },
        {
         "c_Event": "800m Freestyle",
         "c_Gender": "Women",
         "n_DateSort": 20180908,
         "c_Person": "Yuki Abe",
         "c_PersonNatio": "Japan",
         "c_NOC": "Japan",
         "c_Result": "9:00.20",
         "n_ResultSort": 540200,
         "_deepnote_index_column": 16887
        },
        {
         "c_Event": "800m Freestyle",
         "c_Gender": "Women",
         "n_DateSort": 20180112,
         "c_Person": "Maria Alvarez",
         "c_PersonNatio": "Colombia",
         "c_NOC": "Colombia",
         "c_Result": "9:00.20",
         "n_ResultSort": 540200,
         "_deepnote_index_column": 16888
        },
        {
         "c_Event": "800m Freestyle",
         "c_Gender": "Women",
         "n_DateSort": 20180523,
         "c_Person": "Lea Marchal",
         "c_PersonNatio": "France",
         "c_NOC": "France",
         "c_Result": "9:00.27",
         "n_ResultSort": 540270,
         "_deepnote_index_column": 16889
        },
        {
         "c_Event": "800m Freestyle",
         "c_Gender": "Women",
         "n_DateSort": 20180121,
         "c_Person": "Gaia Capitanio",
         "c_PersonNatio": "Italy",
         "c_NOC": "Italy",
         "c_Result": "9:00.32",
         "n_ResultSort": 540320,
         "_deepnote_index_column": 16890
        },
        {
         "c_Event": "800m Freestyle",
         "c_Gender": "Women",
         "n_DateSort": 20180726,
         "c_Person": "Paula Alonso Lorenzo",
         "c_PersonNatio": "Spain",
         "c_NOC": "Spain",
         "c_Result": "9:00.36",
         "n_ResultSort": 540360,
         "_deepnote_index_column": 16891
        },
        {
         "c_Event": "800m Freestyle",
         "c_Gender": "Women",
         "n_DateSort": 20180818,
         "c_Person": "Ibuki Tsuda",
         "c_PersonNatio": "Japan",
         "c_NOC": "Japan",
         "c_Result": "9:00.47",
         "n_ResultSort": 540470,
         "_deepnote_index_column": 16892
        },
        {
         "c_Event": "800m Freestyle",
         "c_Gender": "Women",
         "n_DateSort": 20180405,
         "c_Person": "Rachel Klinker",
         "c_PersonNatio": "United States",
         "c_NOC": "United States",
         "c_Result": "9:00.54",
         "n_ResultSort": 540540,
         "_deepnote_index_column": 16893
        },
        {
         "c_Event": "800m Freestyle",
         "c_Gender": "Women",
         "n_DateSort": 20180519,
         "c_Person": "Chloe Freeman",
         "c_PersonNatio": "United States",
         "c_NOC": "United States",
         "c_Result": "9:00.56",
         "n_ResultSort": 540560,
         "_deepnote_index_column": 16894
        },
        {
         "c_Event": "800m Freestyle",
         "c_Gender": "Women",
         "n_DateSort": 20180719,
         "c_Person": "Maggie Graves",
         "c_PersonNatio": "United States",
         "c_NOC": "United States",
         "c_Result": "9:00.59",
         "n_ResultSort": 540590,
         "_deepnote_index_column": 16895
        },
        {
         "c_Event": "800m Freestyle",
         "c_Gender": "Women",
         "n_DateSort": 20180908,
         "c_Person": "Mayu Ogawa",
         "c_PersonNatio": "Japan",
         "c_NOC": "Japan",
         "c_Result": "9:00.61",
         "n_ResultSort": 540610,
         "_deepnote_index_column": 16896
        },
        {
         "c_Event": "800m Freestyle",
         "c_Gender": "Women",
         "n_DateSort": 20180818,
         "c_Person": "Meina Hirai",
         "c_PersonNatio": "Japan",
         "c_NOC": "Japan",
         "c_Result": "9:00.62",
         "n_ResultSort": 540620,
         "_deepnote_index_column": 16897
        },
        {
         "c_Event": "800m Freestyle",
         "c_Gender": "Women",
         "n_DateSort": 20180718,
         "c_Person": "Brooke Lamoureux",
         "c_PersonNatio": "Canada",
         "c_NOC": "Canada",
         "c_Result": "9:00.68",
         "n_ResultSort": 540680,
         "_deepnote_index_column": 16898
        },
        {
         "c_Event": "800m Freestyle",
         "c_Gender": "Women",
         "n_DateSort": 20180725,
         "c_Person": "Marie Ximena Conde Merlos",
         "c_PersonNatio": "Mexico",
         "c_NOC": "Mexico",
         "c_Result": "9:00.74",
         "n_ResultSort": 540740,
         "_deepnote_index_column": 16899
        },
        {
         "c_Event": "800m Freestyle",
         "c_Gender": "Women",
         "n_DateSort": 20180301,
         "c_Person": "Rachel Tseng",
         "c_PersonNatio": "Singapore",
         "c_NOC": "Singapore",
         "c_Result": "9:00.83",
         "n_ResultSort": 540830,
         "_deepnote_index_column": 16900
        },
        {
         "c_Event": "800m Freestyle",
         "c_Gender": "Women",
         "n_DateSort": 20180324,
         "c_Person": "Rebecca Meder",
         "c_PersonNatio": "South Africa",
         "c_NOC": "South Africa",
         "c_Result": "9:00.84",
         "n_ResultSort": 540840,
         "_deepnote_index_column": 16901
        },
        {
         "c_Event": "800m Freestyle",
         "c_Gender": "Women",
         "n_DateSort": 20180725,
         "c_Person": "Marie Kuntzmann",
         "c_PersonNatio": "France",
         "c_NOC": "France",
         "c_Result": "9:00.88",
         "n_ResultSort": 540880,
         "_deepnote_index_column": 16902
        },
        {
         "c_Event": "800m Freestyle",
         "c_Gender": "Women",
         "n_DateSort": 20180302,
         "c_Person": "Aisha Thornton",
         "c_PersonNatio": "Great Britain",
         "c_NOC": "Great Britain",
         "c_Result": "9:00.89",
         "n_ResultSort": 540890,
         "_deepnote_index_column": 16903
        },
        {
         "c_Event": "800m Freestyle",
         "c_Gender": "Women",
         "n_DateSort": 20180511,
         "c_Person": "Karina Abrosimova",
         "c_PersonNatio": "Russia",
         "c_NOC": "Russia",
         "c_Result": "9:00.94",
         "n_ResultSort": 540940,
         "_deepnote_index_column": 16904
        },
        {
         "c_Event": "800m Freestyle",
         "c_Gender": "Women",
         "n_DateSort": 20180528,
         "c_Person": "Samantha Arevalo",
         "c_PersonNatio": "Ecuador",
         "c_NOC": "Ecuador",
         "c_Result": "9:00.95",
         "n_ResultSort": 540950,
         "_deepnote_index_column": 16905
        },
        {
         "c_Event": "800m Freestyle",
         "c_Gender": "Women",
         "n_DateSort": 20181128,
         "c_Person": "Merve Tuncel",
         "c_PersonNatio": "Turkey",
         "c_NOC": "Turkey",
         "c_Result": "9:00.97",
         "n_ResultSort": 540970,
         "_deepnote_index_column": 16906
        },
        {
         "c_Event": "800m Freestyle",
         "c_Gender": "Women",
         "n_DateSort": 20180908,
         "c_Person": "Hiroko Ohtsuka",
         "c_PersonNatio": "Japan",
         "c_NOC": "Japan",
         "c_Result": "9:01.02",
         "n_ResultSort": 541020,
         "_deepnote_index_column": 16907
        },
        {
         "c_Event": "800m Freestyle",
         "c_Gender": "Women",
         "n_DateSort": 20180813,
         "c_Person": "Ilaria Murzilli",
         "c_PersonNatio": "Italy",
         "c_NOC": "Italy",
         "c_Result": "9:01.04",
         "n_ResultSort": 541040,
         "_deepnote_index_column": 16908
        },
        {
         "c_Event": "800m Freestyle",
         "c_Gender": "Women",
         "n_DateSort": 20180720,
         "c_Person": "Antonia Stenbrock",
         "c_PersonNatio": "Germany",
         "c_NOC": "Germany",
         "c_Result": "9:01.09",
         "n_ResultSort": 541090,
         "_deepnote_index_column": 16909
        },
        {
         "c_Event": "800m Freestyle",
         "c_Gender": "Women",
         "n_DateSort": 20180413,
         "c_Person": "Li Jiaqi",
         "c_PersonNatio": "China",
         "c_NOC": "China",
         "c_Result": "9:01.10",
         "n_ResultSort": 541100,
         "_deepnote_index_column": 16910
        },
        {
         "c_Event": "800m Freestyle",
         "c_Gender": "Women",
         "n_DateSort": 20180813,
         "c_Person": "Greta Bonada",
         "c_PersonNatio": "Italy",
         "c_NOC": "Italy",
         "c_Result": "9:01.17",
         "n_ResultSort": 541170,
         "_deepnote_index_column": 16911
        },
        {
         "c_Event": "800m Freestyle",
         "c_Gender": "Women",
         "n_DateSort": 20180915,
         "c_Person": "Li Xinyu",
         "c_PersonNatio": "China",
         "c_NOC": "China",
         "c_Result": "9:01.28",
         "n_ResultSort": 541280,
         "_deepnote_index_column": 16912
        },
        {
         "c_Event": "800m Freestyle",
         "c_Gender": "Women",
         "n_DateSort": 20180415,
         "c_Person": "Marij van der Mast",
         "c_PersonNatio": "Netherlands",
         "c_NOC": "Netherlands",
         "c_Result": "9:01.35",
         "n_ResultSort": 541350,
         "_deepnote_index_column": 16913
        },
        {
         "c_Event": "800m Freestyle",
         "c_Gender": "Women",
         "n_DateSort": 20180318,
         "c_Person": "Akiko Moritomo",
         "c_PersonNatio": "Japan",
         "c_NOC": "Japan",
         "c_Result": "9:01.39",
         "n_ResultSort": 541390,
         "_deepnote_index_column": 16914
        },
        {
         "c_Event": "800m Freestyle",
         "c_Gender": "Women",
         "n_DateSort": 20180602,
         "c_Person": "Logan Shiller",
         "c_PersonNatio": "United States",
         "c_NOC": "United States",
         "c_Result": "9:01.44",
         "n_ResultSort": 541440,
         "_deepnote_index_column": 16915
        },
        {
         "c_Event": "800m Freestyle",
         "c_Gender": "Women",
         "n_DateSort": 20180813,
         "c_Person": "Anna Chiara Mascolo",
         "c_PersonNatio": "Italy",
         "c_NOC": "Italy",
         "c_Result": "9:01.45",
         "n_ResultSort": 541450,
         "_deepnote_index_column": 16916
        },
        {
         "c_Event": "800m Freestyle",
         "c_Gender": "Women",
         "n_DateSort": 20180418,
         "c_Person": "Paris Cutler",
         "c_PersonNatio": "New Zealand",
         "c_NOC": "New Zealand",
         "c_Result": "9:01.46",
         "n_ResultSort": 541460,
         "_deepnote_index_column": 16917
        },
        {
         "c_Event": "800m Freestyle",
         "c_Gender": "Women",
         "n_DateSort": 20180323,
         "c_Person": "Fleur Lewis",
         "c_PersonNatio": "Great Britain",
         "c_NOC": "Great Britain",
         "c_Result": "9:01.59",
         "n_ResultSort": 541590,
         "_deepnote_index_column": 16918
        },
        {
         "c_Event": "800m Freestyle",
         "c_Gender": "Women",
         "n_DateSort": 20180410,
         "c_Person": "Barbara Pozzobon",
         "c_PersonNatio": "Italy",
         "c_NOC": "Italy",
         "c_Result": "9:01.64",
         "n_ResultSort": 541640,
         "_deepnote_index_column": 16919
        },
        {
         "c_Event": "800m Freestyle",
         "c_Gender": "Women",
         "n_DateSort": 20180913,
         "c_Person": "Souad Cherouati",
         "c_PersonNatio": "Algeria",
         "c_NOC": "Algeria",
         "c_Result": "9:01.68",
         "n_ResultSort": 541680,
         "_deepnote_index_column": 16920
        },
        {
         "c_Event": "800m Freestyle",
         "c_Gender": "Women",
         "n_DateSort": 20180113,
         "c_Person": "Anna Kalandadze",
         "c_PersonNatio": "United States",
         "c_NOC": "United States",
         "c_Result": "9:01.71",
         "n_ResultSort": 541710,
         "_deepnote_index_column": 16921
        },
        {
         "c_Event": "800m Freestyle",
         "c_Gender": "Women",
         "n_DateSort": 20180520,
         "c_Person": "Emily Ilgenfritz",
         "c_PersonNatio": "United States",
         "c_NOC": "United States",
         "c_Result": "9:01.71",
         "n_ResultSort": 541710,
         "_deepnote_index_column": 16922
        },
        {
         "c_Event": "800m Freestyle",
         "c_Gender": "Women",
         "n_DateSort": 20180427,
         "c_Person": "Lim Hyun Ha",
         "c_PersonNatio": "Korea",
         "c_NOC": "Korea",
         "c_Result": "9:01.72",
         "n_ResultSort": 541720,
         "_deepnote_index_column": 16923
        },
        {
         "c_Event": "800m Freestyle",
         "c_Gender": "Women",
         "n_DateSort": 20180519,
         "c_Person": "Kyla Ross",
         "c_PersonNatio": "Canada",
         "c_NOC": "Canada",
         "c_Result": "9:01.76",
         "n_ResultSort": 541760,
         "_deepnote_index_column": 16924
        },
        {
         "c_Event": "800m Freestyle",
         "c_Gender": "Women",
         "n_DateSort": 20180408,
         "c_Person": "Christine Ekman",
         "c_PersonNatio": "Sweden",
         "c_NOC": "Sweden",
         "c_Result": "9:01.80",
         "n_ResultSort": 541800,
         "_deepnote_index_column": 16925
        },
        {
         "c_Event": "800m Freestyle",
         "c_Gender": "Women",
         "n_DateSort": 20180728,
         "c_Person": "Karling Hemstreet",
         "c_PersonNatio": "United States",
         "c_NOC": "United States",
         "c_Result": "9:01.83",
         "n_ResultSort": 541830,
         "_deepnote_index_column": 16926
        },
        {
         "c_Event": "800m Freestyle",
         "c_Gender": "Women",
         "n_DateSort": 20180818,
         "c_Person": "Moeka Hirata",
         "c_PersonNatio": "Japan",
         "c_NOC": "Japan",
         "c_Result": "9:01.84",
         "n_ResultSort": 541840,
         "_deepnote_index_column": 16927
        },
        {
         "c_Event": "800m Freestyle",
         "c_Gender": "Women",
         "n_DateSort": 20180711,
         "c_Person": "Margarita Varulnikova",
         "c_PersonNatio": "Russia",
         "c_NOC": "Russia",
         "c_Result": "9:01.84",
         "n_ResultSort": 541840,
         "_deepnote_index_column": 16928
        },
        {
         "c_Event": "800m Freestyle",
         "c_Gender": "Women",
         "n_DateSort": 20180526,
         "c_Person": "Ecem Donmez",
         "c_PersonNatio": "Turkey",
         "c_NOC": "Turkey",
         "c_Result": "9:01.85",
         "n_ResultSort": 541850,
         "_deepnote_index_column": 16929
        },
        {
         "c_Event": "800m Freestyle",
         "c_Gender": "Women",
         "n_DateSort": 20180507,
         "c_Person": "Betsy Wizard",
         "c_PersonNatio": "Great Britain",
         "c_NOC": "Great Britain",
         "c_Result": "9:01.90",
         "n_ResultSort": 541900,
         "_deepnote_index_column": 16930
        },
        {
         "c_Event": "800m Freestyle",
         "c_Gender": "Women",
         "n_DateSort": 20180525,
         "c_Person": "Emilia Colti Dumitrescu",
         "c_PersonNatio": "Romania",
         "c_NOC": "Romania",
         "c_Result": "9:02.00",
         "n_ResultSort": 542000,
         "_deepnote_index_column": 16931
        },
        {
         "c_Event": "800m Freestyle",
         "c_Gender": "Women",
         "n_DateSort": 20180818,
         "c_Person": "Nanami Kouchi",
         "c_PersonNatio": "Japan",
         "c_NOC": "Japan",
         "c_Result": "9:02.02",
         "n_ResultSort": 542020,
         "_deepnote_index_column": 16932
        },
        {
         "c_Event": "800m Freestyle",
         "c_Gender": "Women",
         "n_DateSort": 20180622,
         "c_Person": "Yang Yaan",
         "c_PersonNatio": "China",
         "c_NOC": "China",
         "c_Result": "9:02.03",
         "n_ResultSort": 542030,
         "_deepnote_index_column": 16933
        },
        {
         "c_Event": "800m Freestyle",
         "c_Gender": "Women",
         "n_DateSort": 20180524,
         "c_Person": "Julia Adamczyk",
         "c_PersonNatio": "Poland",
         "c_NOC": "Poland",
         "c_Result": "9:02.04",
         "n_ResultSort": 542040,
         "_deepnote_index_column": 16934
        },
        {
         "c_Event": "800m Freestyle",
         "c_Gender": "Women",
         "n_DateSort": 20180530,
         "c_Person": "Mira Szimcsák",
         "c_PersonNatio": "Hungary",
         "c_NOC": "Hungary",
         "c_Result": "9:02.09",
         "n_ResultSort": 542090,
         "_deepnote_index_column": 16935
        },
        {
         "c_Event": "800m Freestyle",
         "c_Gender": "Women",
         "n_DateSort": 20180423,
         "c_Person": "Victoria Bushell",
         "c_PersonNatio": "Australia",
         "c_NOC": "Australia",
         "c_Result": "9:02.10",
         "n_ResultSort": 542100,
         "_deepnote_index_column": 16936
        },
        {
         "c_Event": "800m Freestyle",
         "c_Gender": "Women",
         "n_DateSort": 20180420,
         "c_Person": "Anastasia Basalduk",
         "c_PersonNatio": "Russia",
         "c_NOC": "Russia",
         "c_Result": "9:02.10",
         "n_ResultSort": 542100,
         "_deepnote_index_column": 16937
        },
        {
         "c_Event": "800m Freestyle",
         "c_Gender": "Women",
         "n_DateSort": 20180331,
         "c_Person": "Iona Macleod",
         "c_PersonNatio": "Great Britain",
         "c_NOC": "Great Britain",
         "c_Result": "9:02.12",
         "n_ResultSort": 542120,
         "_deepnote_index_column": 16938
        },
        {
         "c_Event": "800m Freestyle",
         "c_Gender": "Women",
         "n_DateSort": 20180702,
         "c_Person": "Monique King",
         "c_PersonNatio": "New Zealand",
         "c_NOC": "New Zealand",
         "c_Result": "9:02.19",
         "n_ResultSort": 542190,
         "_deepnote_index_column": 16939
        },
        {
         "c_Event": "800m Freestyle",
         "c_Gender": "Women",
         "n_DateSort": 20180705,
         "c_Person": "Ester Rydbeck Nordèn",
         "c_PersonNatio": "Sweden",
         "c_NOC": "Sweden",
         "c_Result": "9:02.25",
         "n_ResultSort": 542250,
         "_deepnote_index_column": 16940
        },
        {
         "c_Event": "800m Freestyle",
         "c_Gender": "Women",
         "n_DateSort": 20180421,
         "c_Person": "Maria Eduar Seifer",
         "c_PersonNatio": "Brazil",
         "c_NOC": "Brazil",
         "c_Result": "9:02.27",
         "n_ResultSort": 542270,
         "_deepnote_index_column": 16941
        },
        {
         "c_Event": "800m Freestyle",
         "c_Gender": "Women",
         "n_DateSort": 20180818,
         "c_Person": "Hyuu Ohba",
         "c_PersonNatio": "Japan",
         "c_NOC": "Japan",
         "c_Result": "9:02.28",
         "n_ResultSort": 542280,
         "_deepnote_index_column": 16942
        },
        {
         "c_Event": "800m Freestyle",
         "c_Gender": "Women",
         "n_DateSort": 20180726,
         "c_Person": "Klara Bosnjak",
         "c_PersonNatio": "Croatia",
         "c_NOC": "Croatia",
         "c_Result": "9:02.44",
         "n_ResultSort": 542440,
         "_deepnote_index_column": 16943
        },
        {
         "c_Event": "800m Freestyle",
         "c_Gender": "Women",
         "n_DateSort": 20180519,
         "c_Person": "Chantel Jeffrey",
         "c_PersonNatio": "Canada",
         "c_NOC": "Canada",
         "c_Result": "9:02.47",
         "n_ResultSort": 542470,
         "_deepnote_index_column": 16944
        },
        {
         "c_Event": "800m Freestyle",
         "c_Gender": "Women",
         "n_DateSort": 20180421,
         "c_Person": "Bindi Ware",
         "c_PersonNatio": "Australia",
         "c_NOC": "Australia",
         "c_Result": "9:02.48",
         "n_ResultSort": 542480,
         "_deepnote_index_column": 16945
        },
        {
         "c_Event": "800m Freestyle",
         "c_Gender": "Women",
         "n_DateSort": 20180302,
         "c_Person": "Ebony Blackstone",
         "c_PersonNatio": "Australia",
         "c_NOC": "Australia",
         "c_Result": "9:02.54",
         "n_ResultSort": 542540,
         "_deepnote_index_column": 16946
        },
        {
         "c_Event": "800m Freestyle",
         "c_Gender": "Women",
         "n_DateSort": 20180609,
         "c_Person": "Mia Steen Duus",
         "c_PersonNatio": "Denmark",
         "c_NOC": "Denmark",
         "c_Result": "9:02.55",
         "n_ResultSort": 542550,
         "_deepnote_index_column": 16947
        }
       ]
      },
      "text/plain": "               c_Event c_Gender  n_DateSort            c_Person  \\\n0      100m Backstroke      Men    20180809         Ryan Murphy   \n1      100m Backstroke      Men    20180822            Xu Jiayu   \n2      100m Backstroke      Men    20180806  Kliment Kolesnikov   \n3      100m Backstroke      Men    20180819        Ryosuke Irie   \n4      100m Backstroke      Men    20180728        Matt Grevers   \n...                ...      ...         ...                 ...   \n16943   800m Freestyle    Women    20180726       Klara Bosnjak   \n16944   800m Freestyle    Women    20180519     Chantel Jeffrey   \n16945   800m Freestyle    Women    20180421          Bindi Ware   \n16946   800m Freestyle    Women    20180302    Ebony Blackstone   \n16947   800m Freestyle    Women    20180609      Mia Steen Duus   \n\n       c_PersonNatio          c_NOC c_Result  n_ResultSort  \n0      United States  United States    51.94         51940  \n1              China          China    52.30         52300  \n2             Russia         Russia    52.51         52510  \n3              Japan          Japan    52.53         52530  \n4      United States  United States    52.55         52550  \n...              ...            ...      ...           ...  \n16943        Croatia        Croatia  9:02.44        542440  \n16944         Canada         Canada  9:02.47        542470  \n16945      Australia      Australia  9:02.48        542480  \n16946      Australia      Australia  9:02.54        542540  \n16947        Denmark        Denmark  9:02.55        542550  \n\n[16640 rows x 8 columns]",
      "text/html": "<div>\n<style scoped>\n    .dataframe tbody tr th:only-of-type {\n        vertical-align: middle;\n    }\n\n    .dataframe tbody tr th {\n        vertical-align: top;\n    }\n\n    .dataframe thead th {\n        text-align: right;\n    }\n</style>\n<table border=\"1\" class=\"dataframe\">\n  <thead>\n    <tr style=\"text-align: right;\">\n      <th></th>\n      <th>c_Event</th>\n      <th>c_Gender</th>\n      <th>n_DateSort</th>\n      <th>c_Person</th>\n      <th>c_PersonNatio</th>\n      <th>c_NOC</th>\n      <th>c_Result</th>\n      <th>n_ResultSort</th>\n    </tr>\n  </thead>\n  <tbody>\n    <tr>\n      <th>0</th>\n      <td>100m Backstroke</td>\n      <td>Men</td>\n      <td>20180809</td>\n      <td>Ryan Murphy</td>\n      <td>United States</td>\n      <td>United States</td>\n      <td>51.94</td>\n      <td>51940</td>\n    </tr>\n    <tr>\n      <th>1</th>\n      <td>100m Backstroke</td>\n      <td>Men</td>\n      <td>20180822</td>\n      <td>Xu Jiayu</td>\n      <td>China</td>\n      <td>China</td>\n      <td>52.30</td>\n      <td>52300</td>\n    </tr>\n    <tr>\n      <th>2</th>\n      <td>100m Backstroke</td>\n      <td>Men</td>\n      <td>20180806</td>\n      <td>Kliment Kolesnikov</td>\n      <td>Russia</td>\n      <td>Russia</td>\n      <td>52.51</td>\n      <td>52510</td>\n    </tr>\n    <tr>\n      <th>3</th>\n      <td>100m Backstroke</td>\n      <td>Men</td>\n      <td>20180819</td>\n      <td>Ryosuke Irie</td>\n      <td>Japan</td>\n      <td>Japan</td>\n      <td>52.53</td>\n      <td>52530</td>\n    </tr>\n    <tr>\n      <th>4</th>\n      <td>100m Backstroke</td>\n      <td>Men</td>\n      <td>20180728</td>\n      <td>Matt Grevers</td>\n      <td>United States</td>\n      <td>United States</td>\n      <td>52.55</td>\n      <td>52550</td>\n    </tr>\n    <tr>\n      <th>...</th>\n      <td>...</td>\n      <td>...</td>\n      <td>...</td>\n      <td>...</td>\n      <td>...</td>\n      <td>...</td>\n      <td>...</td>\n      <td>...</td>\n    </tr>\n    <tr>\n      <th>16943</th>\n      <td>800m Freestyle</td>\n      <td>Women</td>\n      <td>20180726</td>\n      <td>Klara Bosnjak</td>\n      <td>Croatia</td>\n      <td>Croatia</td>\n      <td>9:02.44</td>\n      <td>542440</td>\n    </tr>\n    <tr>\n      <th>16944</th>\n      <td>800m Freestyle</td>\n      <td>Women</td>\n      <td>20180519</td>\n      <td>Chantel Jeffrey</td>\n      <td>Canada</td>\n      <td>Canada</td>\n      <td>9:02.47</td>\n      <td>542470</td>\n    </tr>\n    <tr>\n      <th>16945</th>\n      <td>800m Freestyle</td>\n      <td>Women</td>\n      <td>20180421</td>\n      <td>Bindi Ware</td>\n      <td>Australia</td>\n      <td>Australia</td>\n      <td>9:02.48</td>\n      <td>542480</td>\n    </tr>\n    <tr>\n      <th>16946</th>\n      <td>800m Freestyle</td>\n      <td>Women</td>\n      <td>20180302</td>\n      <td>Ebony Blackstone</td>\n      <td>Australia</td>\n      <td>Australia</td>\n      <td>9:02.54</td>\n      <td>542540</td>\n    </tr>\n    <tr>\n      <th>16947</th>\n      <td>800m Freestyle</td>\n      <td>Women</td>\n      <td>20180609</td>\n      <td>Mia Steen Duus</td>\n      <td>Denmark</td>\n      <td>Denmark</td>\n      <td>9:02.55</td>\n      <td>542550</td>\n    </tr>\n  </tbody>\n</table>\n<p>16640 rows × 8 columns</p>\n</div>"
     },
     "metadata": {}
    }
   ]
  },
  {
   "cell_type": "markdown",
   "source": "#### 5. Reset the Index\n> Because you've removed some rows, you decide to reset your Dataframe's index (not nessesity in this case, but good practice to do so)",
   "metadata": {
    "tags": [],
    "cell_id": "00011-dcbcf6eb-16df-4e44-b6ff-30d42251e591",
    "output_cleared": false,
    "deepnote_cell_type": "markdown"
   }
  },
  {
   "cell_type": "code",
   "metadata": {
    "tags": [],
    "cell_id": "00011-61200386-6165-42e9-bcb9-436f9e0d9193",
    "output_cleared": false,
    "source_hash": "4e9e836e",
    "execution_millis": 81,
    "execution_start": 1620826625989,
    "deepnote_to_be_reexecuted": false,
    "deepnote_cell_type": "code"
   },
   "source": "cleaned_df.reset_index(drop=True)",
   "execution_count": 15,
   "outputs": [
    {
     "output_type": "execute_result",
     "execution_count": 15,
     "data": {
      "application/vnd.deepnote.dataframe.v2+json": {
       "row_count": 16640,
       "column_count": 8,
       "columns": [
        {
         "name": "c_Event",
         "dtype": "object",
         "stats": {
          "unique_count": 17,
          "nan_count": 0,
          "categories": [
           {
            "name": "800m Freestyle",
            "count": 989
           },
           {
            "name": "200m Individual Medley",
            "count": 988
           },
           {
            "name": "15 others",
            "count": 14663
           }
          ]
         }
        },
        {
         "name": "c_Gender",
         "dtype": "object",
         "stats": {
          "unique_count": 2,
          "nan_count": 0,
          "categories": [
           {
            "name": "Men",
            "count": 8341
           },
           {
            "name": "Women",
            "count": 8299
           }
          ]
         }
        },
        {
         "name": "n_DateSort",
         "dtype": "int64",
         "stats": {
          "unique_count": 232,
          "nan_count": 0,
          "min": "20180104",
          "max": "20181223",
          "histogram": [
           {
            "bin_start": 20180104,
            "bin_end": 20180215.9,
            "count": 521
           },
           {
            "bin_start": 20180215.9,
            "bin_end": 20180327.8,
            "count": 844
           },
           {
            "bin_start": 20180327.8,
            "bin_end": 20180439.7,
            "count": 4274
           },
           {
            "bin_start": 20180439.7,
            "bin_end": 20180551.6,
            "count": 1718
           },
           {
            "bin_start": 20180551.6,
            "bin_end": 20180663.5,
            "count": 1209
           },
           {
            "bin_start": 20180663.5,
            "bin_end": 20180775.4,
            "count": 4268
           },
           {
            "bin_start": 20180775.4,
            "bin_end": 20180887.3,
            "count": 2440
           },
           {
            "bin_start": 20180887.3,
            "bin_end": 20180999.2,
            "count": 674
           },
           {
            "bin_start": 20180999.2,
            "bin_end": 20181111.1,
            "count": 384
           },
           {
            "bin_start": 20181111.1,
            "bin_end": 20181223,
            "count": 308
           }
          ]
         }
        },
        {
         "name": "c_Person",
         "dtype": "object",
         "stats": {
          "unique_count": 6959,
          "nan_count": 0,
          "categories": [
           {
            "name": "Katinka Hosszú",
            "count": 16
           },
           {
            "name": "Zsuzsanna Jakabos",
            "count": 12
           },
           {
            "name": "6957 others",
            "count": 16612
           }
          ]
         }
        },
        {
         "name": "c_PersonNatio",
         "dtype": "object",
         "stats": {
          "unique_count": 126,
          "nan_count": 0,
          "categories": [
           {
            "name": "United States",
            "count": 3184
           },
           {
            "name": "Japan",
            "count": 2064
           },
           {
            "name": "124 others",
            "count": 11392
           }
          ]
         }
        },
        {
         "name": "c_NOC",
         "dtype": "object",
         "stats": {
          "unique_count": 119,
          "nan_count": 0,
          "categories": [
           {
            "name": "United States",
            "count": 3188
           },
           {
            "name": "Japan",
            "count": 2064
           },
           {
            "name": "117 others",
            "count": 11388
           }
          ]
         }
        },
        {
         "name": "c_Result",
         "dtype": "object"
        },
        {
         "name": "n_ResultSort",
         "dtype": "int64"
        },
        {
         "name": "_deepnote_index_column",
         "dtype": "int64"
        }
       ],
       "rows_top": [
        {
         "c_Event": "100m Backstroke",
         "c_Gender": "Men",
         "n_DateSort": 20180809,
         "c_Person": "Ryan Murphy",
         "c_PersonNatio": "United States",
         "c_NOC": "United States",
         "c_Result": "51.94",
         "n_ResultSort": 51940,
         "_deepnote_index_column": 0
        },
        {
         "c_Event": "100m Backstroke",
         "c_Gender": "Men",
         "n_DateSort": 20180822,
         "c_Person": "Xu Jiayu",
         "c_PersonNatio": "China",
         "c_NOC": "China",
         "c_Result": "52.30",
         "n_ResultSort": 52300,
         "_deepnote_index_column": 1
        },
        {
         "c_Event": "100m Backstroke",
         "c_Gender": "Men",
         "n_DateSort": 20180806,
         "c_Person": "Kliment Kolesnikov",
         "c_PersonNatio": "Russia",
         "c_NOC": "Russia",
         "c_Result": "52.51",
         "n_ResultSort": 52510,
         "_deepnote_index_column": 2
        },
        {
         "c_Event": "100m Backstroke",
         "c_Gender": "Men",
         "n_DateSort": 20180819,
         "c_Person": "Ryosuke Irie",
         "c_PersonNatio": "Japan",
         "c_NOC": "Japan",
         "c_Result": "52.53",
         "n_ResultSort": 52530,
         "_deepnote_index_column": 3
        },
        {
         "c_Event": "100m Backstroke",
         "c_Gender": "Men",
         "n_DateSort": 20180728,
         "c_Person": "Matt Grevers",
         "c_PersonNatio": "United States",
         "c_NOC": "United States",
         "c_Result": "52.55",
         "n_ResultSort": 52550,
         "_deepnote_index_column": 4
        },
        {
         "c_Event": "100m Backstroke",
         "c_Gender": "Men",
         "n_DateSort": 20180809,
         "c_Person": "Evgeniy Rylov",
         "c_PersonNatio": "Russia",
         "c_NOC": "Russia",
         "c_Result": "52.66",
         "n_ResultSort": 52660,
         "_deepnote_index_column": 5
        },
        {
         "c_Event": "100m Backstroke",
         "c_Gender": "Men",
         "n_DateSort": 20180810,
         "c_Person": "Mitch Larkin",
         "c_PersonNatio": "Australia",
         "c_NOC": "Australia",
         "c_Result": "52.88",
         "n_ResultSort": 52880,
         "_deepnote_index_column": 6
        },
        {
         "c_Event": "100m Backstroke",
         "c_Gender": "Men",
         "n_DateSort": 20180806,
         "c_Person": "Grigoriy Tarasevich",
         "c_PersonNatio": "Russia",
         "c_NOC": "Russia",
         "c_Result": "53.22",
         "n_ResultSort": 53220,
         "_deepnote_index_column": 7
        },
        {
         "c_Event": "100m Backstroke",
         "c_Gender": "Men",
         "n_DateSort": 20180728,
         "c_Person": "Justin Ress",
         "c_PersonNatio": "United States",
         "c_NOC": "United States",
         "c_Result": "53.26",
         "n_ResultSort": 53260,
         "_deepnote_index_column": 8
        },
        {
         "c_Event": "100m Backstroke",
         "c_Gender": "Men",
         "n_DateSort": 20180527,
         "c_Person": "Robert Glinta",
         "c_PersonNatio": "Romania",
         "c_NOC": "Romania",
         "c_Result": "53.32",
         "n_ResultSort": 53320,
         "_deepnote_index_column": 9
        },
        {
         "c_Event": "100m Backstroke",
         "c_Gender": "Men",
         "n_DateSort": 20180805,
         "c_Person": "Simone Sabbioni",
         "c_PersonNatio": "Italy",
         "c_NOC": "Italy",
         "c_Result": "53.39",
         "n_ResultSort": 53390,
         "_deepnote_index_column": 10
        },
        {
         "c_Event": "100m Backstroke",
         "c_Gender": "Men",
         "n_DateSort": 20180705,
         "c_Person": "Daniel-Cristian Martin",
         "c_PersonNatio": "Romania",
         "c_NOC": "Romania",
         "c_Result": "53.52",
         "n_ResultSort": 53520,
         "_deepnote_index_column": 11
        },
        {
         "c_Event": "100m Backstroke",
         "c_Gender": "Men",
         "n_DateSort": 20180810,
         "c_Person": "Michael Andrew",
         "c_PersonNatio": "United States",
         "c_NOC": "United States",
         "c_Result": "53.55",
         "n_ResultSort": 53550,
         "_deepnote_index_column": 12
        },
        {
         "c_Event": "100m Backstroke",
         "c_Gender": "Men",
         "n_DateSort": 20180403,
         "c_Person": "Junya Koga",
         "c_PersonNatio": "Japan",
         "c_NOC": "Japan",
         "c_Result": "53.60",
         "n_ResultSort": 53600,
         "_deepnote_index_column": 13
        },
        {
         "c_Event": "100m Backstroke",
         "c_Gender": "Men",
         "n_DateSort": 20180423,
         "c_Person": "Nikita Ulyanov",
         "c_PersonNatio": "Russia",
         "c_NOC": "Russia",
         "c_Result": "53.60",
         "n_ResultSort": 53600,
         "_deepnote_index_column": 14
        },
        {
         "c_Event": "100m Backstroke",
         "c_Gender": "Men",
         "n_DateSort": 20181008,
         "c_Person": "Thomas Ceccon",
         "c_PersonNatio": "Italy",
         "c_NOC": "Italy",
         "c_Result": "53.65",
         "n_ResultSort": 53650,
         "_deepnote_index_column": 15
        },
        {
         "c_Event": "100m Backstroke",
         "c_Gender": "Men",
         "n_DateSort": 20180713,
         "c_Person": "Mark Nikolaev",
         "c_PersonNatio": "Russia",
         "c_NOC": "Russia",
         "c_Result": "53.68",
         "n_ResultSort": 53680,
         "_deepnote_index_column": 16
        },
        {
         "c_Event": "100m Backstroke",
         "c_Gender": "Men",
         "n_DateSort": 20180806,
         "c_Person": "Apostolos Christou",
         "c_PersonNatio": "Greece",
         "c_NOC": "Greece",
         "c_Result": "53.72",
         "n_ResultSort": 53720,
         "_deepnote_index_column": 17
        },
        {
         "c_Event": "100m Backstroke",
         "c_Gender": "Men",
         "n_DateSort": 20180809,
         "c_Person": "Gabriel Fantoni",
         "c_PersonNatio": "Brazil",
         "c_NOC": "Brazil",
         "c_Result": "53.72",
         "n_ResultSort": 53720,
         "_deepnote_index_column": 18
        },
        {
         "c_Event": "100m Backstroke",
         "c_Gender": "Men",
         "n_DateSort": 20180525,
         "c_Person": "Kacper Stokowski",
         "c_PersonNatio": "Poland",
         "c_NOC": "Poland",
         "c_Result": "53.82",
         "n_ResultSort": 53820,
         "_deepnote_index_column": 19
        },
        {
         "c_Event": "100m Backstroke",
         "c_Gender": "Men",
         "n_DateSort": 20180728,
         "c_Person": "Bryce Mefford",
         "c_PersonNatio": "United States",
         "c_NOC": "United States",
         "c_Result": "53.84",
         "n_ResultSort": 53840,
         "_deepnote_index_column": 20
        },
        {
         "c_Event": "100m Backstroke",
         "c_Gender": "Men",
         "n_DateSort": 20180405,
         "c_Person": "Markus Thormeyer",
         "c_PersonNatio": "Canada",
         "c_NOC": "Canada",
         "c_Result": "53.86",
         "n_ResultSort": 53860,
         "_deepnote_index_column": 21
        },
        {
         "c_Event": "100m Backstroke",
         "c_Gender": "Men",
         "n_DateSort": 20180630,
         "c_Person": "Bradley Woodward",
         "c_PersonNatio": "Australia",
         "c_NOC": "Australia",
         "c_Result": "53.89",
         "n_ResultSort": 53890,
         "_deepnote_index_column": 22
        },
        {
         "c_Event": "100m Backstroke",
         "c_Gender": "Men",
         "n_DateSort": 20180810,
         "c_Person": "Javier Acevedo",
         "c_PersonNatio": "Canada",
         "c_NOC": "Canada",
         "c_Result": "53.90",
         "n_ResultSort": 53900,
         "_deepnote_index_column": 23
        },
        {
         "c_Event": "100m Backstroke",
         "c_Gender": "Men",
         "n_DateSort": 20181130,
         "c_Person": "Christopher Reid",
         "c_PersonNatio": "South Africa",
         "c_NOC": "South Africa",
         "c_Result": "53.92",
         "n_ResultSort": 53920,
         "_deepnote_index_column": 24
        },
        {
         "c_Event": "100m Backstroke",
         "c_Gender": "Men",
         "n_DateSort": 20180806,
         "c_Person": "Christian Diener",
         "c_PersonNatio": "Germany",
         "c_NOC": "Germany",
         "c_Result": "53.92",
         "n_ResultSort": 53920,
         "_deepnote_index_column": 25
        },
        {
         "c_Event": "100m Backstroke",
         "c_Gender": "Men",
         "n_DateSort": 20180303,
         "c_Person": "Jacob Pebley",
         "c_PersonNatio": "United States",
         "c_NOC": "United States",
         "c_Result": "53.93",
         "n_ResultSort": 53930,
         "_deepnote_index_column": 26
        },
        {
         "c_Event": "100m Backstroke",
         "c_Gender": "Men",
         "n_DateSort": 20180407,
         "c_Person": "Shane Ryan",
         "c_PersonNatio": "Ireland",
         "c_NOC": "Ireland",
         "c_Result": "53.96",
         "n_ResultSort": 53960,
         "_deepnote_index_column": 27
        },
        {
         "c_Event": "100m Backstroke",
         "c_Gender": "Men",
         "n_DateSort": 20180630,
         "c_Person": "Tristan Hollard",
         "c_PersonNatio": "Australia",
         "c_NOC": "Australia",
         "c_Result": "53.98",
         "n_ResultSort": 53980,
         "_deepnote_index_column": 28
        },
        {
         "c_Event": "100m Backstroke",
         "c_Gender": "Men",
         "n_DateSort": 20180427,
         "c_Person": "Yakov Toumarkin",
         "c_PersonNatio": "Israel",
         "c_NOC": "Israel",
         "c_Result": "54.00",
         "n_ResultSort": 54000,
         "_deepnote_index_column": 29
        },
        {
         "c_Event": "100m Backstroke",
         "c_Gender": "Men",
         "n_DateSort": 20180728,
         "c_Person": "Daniel Carr",
         "c_PersonNatio": "United States",
         "c_NOC": "United States",
         "c_Result": "54.01",
         "n_ResultSort": 54010,
         "_deepnote_index_column": 30
        },
        {
         "c_Event": "100m Backstroke",
         "c_Gender": "Men",
         "n_DateSort": 20180728,
         "c_Person": "Coleman Stewart",
         "c_PersonNatio": "United States",
         "c_NOC": "United States",
         "c_Result": "54.03",
         "n_ResultSort": 54030,
         "_deepnote_index_column": 31
        },
        {
         "c_Event": "100m Backstroke",
         "c_Gender": "Men",
         "n_DateSort": 20181221,
         "c_Person": "Richárd Bohus",
         "c_PersonNatio": "Hungary",
         "c_NOC": "Hungary",
         "c_Result": "54.05",
         "n_ResultSort": 54050,
         "_deepnote_index_column": 32
        },
        {
         "c_Event": "100m Backstroke",
         "c_Gender": "Men",
         "n_DateSort": 20181107,
         "c_Person": "Guilherme Guido",
         "c_PersonNatio": "Brazil",
         "c_NOC": "Brazil",
         "c_Result": "54.06",
         "n_ResultSort": 54060,
         "_deepnote_index_column": 33
        },
        {
         "c_Event": "100m Backstroke",
         "c_Gender": "Men",
         "n_DateSort": 20180728,
         "c_Person": "Austin Katz",
         "c_PersonNatio": "United States",
         "c_NOC": "United States",
         "c_Result": "54.06",
         "n_ResultSort": 54060,
         "_deepnote_index_column": 34
        },
        {
         "c_Event": "100m Backstroke",
         "c_Gender": "Men",
         "n_DateSort": 20180404,
         "c_Person": "Masaki Kaneko",
         "c_PersonNatio": "Japan",
         "c_NOC": "Japan",
         "c_Result": "54.10",
         "n_ResultSort": 54100,
         "_deepnote_index_column": 35
        },
        {
         "c_Event": "100m Backstroke",
         "c_Gender": "Men",
         "n_DateSort": 20180413,
         "c_Person": "Li Guangyuan",
         "c_PersonNatio": "China",
         "c_NOC": "China",
         "c_Result": "54.13",
         "n_ResultSort": 54130,
         "_deepnote_index_column": 36
        },
        {
         "c_Event": "100m Backstroke",
         "c_Gender": "Men",
         "n_DateSort": 20180427,
         "c_Person": "Lee Ju-Ho",
         "c_PersonNatio": "Korea",
         "c_NOC": "Korea",
         "c_Result": "54.17",
         "n_ResultSort": 54170,
         "_deepnote_index_column": 37
        },
        {
         "c_Event": "100m Backstroke",
         "c_Gender": "Men",
         "n_DateSort": 20180728,
         "c_Person": "Dean Farris",
         "c_PersonNatio": "United States",
         "c_NOC": "United States",
         "c_Result": "54.21",
         "n_ResultSort": 54210,
         "_deepnote_index_column": 38
        },
        {
         "c_Event": "100m Backstroke",
         "c_Gender": "Men",
         "n_DateSort": 20180407,
         "c_Person": "Chris Walker-Hebborn",
         "c_PersonNatio": "England",
         "c_NOC": "Great Britain",
         "c_Result": "54.23",
         "n_ResultSort": 54230,
         "_deepnote_index_column": 39
        },
        {
         "c_Event": "100m Backstroke",
         "c_Gender": "Men",
         "n_DateSort": 20180805,
         "c_Person": "Jan-Philip Glania",
         "c_PersonNatio": "Germany",
         "c_NOC": "Germany",
         "c_Result": "54.24",
         "n_ResultSort": 54240,
         "_deepnote_index_column": 40
        },
        {
         "c_Event": "100m Backstroke",
         "c_Gender": "Men",
         "n_DateSort": 20180403,
         "c_Person": "Junya Hasegawa",
         "c_PersonNatio": "Japan",
         "c_NOC": "Japan",
         "c_Result": "54.24",
         "n_ResultSort": 54240,
         "_deepnote_index_column": 41
        },
        {
         "c_Event": "100m Backstroke",
         "c_Gender": "Men",
         "n_DateSort": 20180813,
         "c_Person": "Matteo Milli",
         "c_PersonNatio": "Italy",
         "c_NOC": "Italy",
         "c_Result": "54.25",
         "n_ResultSort": 54250,
         "_deepnote_index_column": 42
        },
        {
         "c_Event": "100m Backstroke",
         "c_Gender": "Men",
         "n_DateSort": 20180427,
         "c_Person": "Park Seon-Kwan",
         "c_PersonNatio": "Korea",
         "c_NOC": "Korea",
         "c_Result": "54.25",
         "n_ResultSort": 54250,
         "_deepnote_index_column": 43
        },
        {
         "c_Event": "100m Backstroke",
         "c_Gender": "Men",
         "n_DateSort": 20180202,
         "c_Person": "Mikita Tsmyh",
         "c_PersonNatio": "Belarus",
         "c_NOC": "Belarus",
         "c_Result": "54.27",
         "n_ResultSort": 54270,
         "_deepnote_index_column": 44
        },
        {
         "c_Event": "100m Backstroke",
         "c_Gender": "Men",
         "n_DateSort": 20180902,
         "c_Person": "Hayate Matsubara",
         "c_PersonNatio": "Japan",
         "c_NOC": "Japan",
         "c_Result": "54.27",
         "n_ResultSort": 54270,
         "_deepnote_index_column": 45
        },
        {
         "c_Event": "100m Backstroke",
         "c_Gender": "Men",
         "n_DateSort": 20180728,
         "c_Person": "Nick Alexander",
         "c_PersonNatio": "United States",
         "c_NOC": "United States",
         "c_Result": "54.34",
         "n_ResultSort": 54340,
         "_deepnote_index_column": 46
        },
        {
         "c_Event": "100m Backstroke",
         "c_Gender": "Men",
         "n_DateSort": 20180406,
         "c_Person": "Luke Greenbank",
         "c_PersonNatio": "England",
         "c_NOC": "Great Britain",
         "c_Result": "54.37",
         "n_ResultSort": 54370,
         "_deepnote_index_column": 47
        },
        {
         "c_Event": "100m Backstroke",
         "c_Gender": "Men",
         "n_DateSort": 20180702,
         "c_Person": "Alexander Graham",
         "c_PersonNatio": "Australia",
         "c_NOC": "Australia",
         "c_Result": "54.37",
         "n_ResultSort": 54370,
         "_deepnote_index_column": 48
        },
        {
         "c_Event": "100m Backstroke",
         "c_Gender": "Men",
         "n_DateSort": 20180524,
         "c_Person": "Paul Gabriel Bedel",
         "c_PersonNatio": "France",
         "c_NOC": "France",
         "c_Result": "54.37",
         "n_ResultSort": 54370,
         "_deepnote_index_column": 49
        },
        {
         "c_Event": "100m Backstroke",
         "c_Gender": "Men",
         "n_DateSort": 20180805,
         "c_Person": "Conor Ferguson",
         "c_PersonNatio": "Northern Ireland",
         "c_NOC": "Ireland",
         "c_Result": "54.38",
         "n_ResultSort": 54380,
         "_deepnote_index_column": 50
        },
        {
         "c_Event": "100m Backstroke",
         "c_Gender": "Men",
         "n_DateSort": 20180525,
         "c_Person": "Stanislas Huille",
         "c_PersonNatio": "France",
         "c_NOC": "France",
         "c_Result": "54.39",
         "n_ResultSort": 54390,
         "_deepnote_index_column": 51
        },
        {
         "c_Event": "100m Backstroke",
         "c_Gender": "Men",
         "n_DateSort": 20180228,
         "c_Person": "Benjamin Treffers",
         "c_PersonNatio": "Australia",
         "c_NOC": "Australia",
         "c_Result": "54.40",
         "n_ResultSort": 54400,
         "_deepnote_index_column": 52
        },
        {
         "c_Event": "100m Backstroke",
         "c_Gender": "Men",
         "n_DateSort": 20180410,
         "c_Person": "Christopher Ciccarese",
         "c_PersonNatio": "Italy",
         "c_NOC": "Italy",
         "c_Result": "54.40",
         "n_ResultSort": 54400,
         "_deepnote_index_column": 53
        },
        {
         "c_Event": "100m Backstroke",
         "c_Gender": "Men",
         "n_DateSort": 20180728,
         "c_Person": "Nicolas Albiero",
         "c_PersonNatio": "United States",
         "c_NOC": "United States",
         "c_Result": "54.43",
         "n_ResultSort": 54430,
         "_deepnote_index_column": 54
        },
        {
         "c_Event": "100m Backstroke",
         "c_Gender": "Men",
         "n_DateSort": 20180511,
         "c_Person": "Nikos Sofianidis",
         "c_PersonNatio": "Greece",
         "c_NOC": "Greece",
         "c_Result": "54.47",
         "n_ResultSort": 54470,
         "_deepnote_index_column": 55
        },
        {
         "c_Event": "100m Backstroke",
         "c_Gender": "Men",
         "n_DateSort": 20180228,
         "c_Person": "Josh Beaver",
         "c_PersonNatio": "Australia",
         "c_NOC": "Australia",
         "c_Result": "54.48",
         "n_ResultSort": 54480,
         "_deepnote_index_column": 56
        },
        {
         "c_Event": "100m Backstroke",
         "c_Gender": "Men",
         "n_DateSort": 20180411,
         "c_Person": "Matteo Restivo",
         "c_PersonNatio": "Italy",
         "c_NOC": "Italy",
         "c_Result": "54.48",
         "n_ResultSort": 54480,
         "_deepnote_index_column": 57
        },
        {
         "c_Event": "100m Backstroke",
         "c_Gender": "Men",
         "n_DateSort": 20180525,
         "c_Person": "Maxence Orange",
         "c_PersonNatio": "France",
         "c_NOC": "France",
         "c_Result": "54.48",
         "n_ResultSort": 54480,
         "_deepnote_index_column": 58
        },
        {
         "c_Event": "100m Backstroke",
         "c_Gender": "Men",
         "n_DateSort": 20180525,
         "c_Person": "Masato Sakai",
         "c_PersonNatio": "Japan",
         "c_NOC": "Japan",
         "c_Result": "54.48",
         "n_ResultSort": 54480,
         "_deepnote_index_column": 59
        },
        {
         "c_Event": "100m Backstroke",
         "c_Gender": "Men",
         "n_DateSort": 20180806,
         "c_Person": "Nicholas Pyle",
         "c_PersonNatio": "Great Britain",
         "c_NOC": "Great Britain",
         "c_Result": "54.50",
         "n_ResultSort": 54500,
         "_deepnote_index_column": 60
        },
        {
         "c_Event": "100m Backstroke",
         "c_Gender": "Men",
         "n_DateSort": 20180728,
         "c_Person": "Shaine Casas",
         "c_PersonNatio": "United States",
         "c_NOC": "United States",
         "c_Result": "54.51",
         "n_ResultSort": 54510,
         "_deepnote_index_column": 61
        }
       ],
       "rows_bottom": [
        {
         "c_Event": "800m Freestyle",
         "c_Gender": "Women",
         "n_DateSort": 20180204,
         "c_Person": "Angélica André",
         "c_PersonNatio": "Portugal",
         "c_NOC": "Portugal",
         "c_Result": "9:00.04",
         "n_ResultSort": 540040,
         "_deepnote_index_column": 16577
        },
        {
         "c_Event": "800m Freestyle",
         "c_Gender": "Women",
         "n_DateSort": 20180813,
         "c_Person": "Silvia Fagnani",
         "c_PersonNatio": "Italy",
         "c_NOC": "Italy",
         "c_Result": "9:00.10",
         "n_ResultSort": 540100,
         "_deepnote_index_column": 16578
        },
        {
         "c_Event": "800m Freestyle",
         "c_Gender": "Women",
         "n_DateSort": 20180908,
         "c_Person": "Yuki Abe",
         "c_PersonNatio": "Japan",
         "c_NOC": "Japan",
         "c_Result": "9:00.20",
         "n_ResultSort": 540200,
         "_deepnote_index_column": 16579
        },
        {
         "c_Event": "800m Freestyle",
         "c_Gender": "Women",
         "n_DateSort": 20180112,
         "c_Person": "Maria Alvarez",
         "c_PersonNatio": "Colombia",
         "c_NOC": "Colombia",
         "c_Result": "9:00.20",
         "n_ResultSort": 540200,
         "_deepnote_index_column": 16580
        },
        {
         "c_Event": "800m Freestyle",
         "c_Gender": "Women",
         "n_DateSort": 20180523,
         "c_Person": "Lea Marchal",
         "c_PersonNatio": "France",
         "c_NOC": "France",
         "c_Result": "9:00.27",
         "n_ResultSort": 540270,
         "_deepnote_index_column": 16581
        },
        {
         "c_Event": "800m Freestyle",
         "c_Gender": "Women",
         "n_DateSort": 20180121,
         "c_Person": "Gaia Capitanio",
         "c_PersonNatio": "Italy",
         "c_NOC": "Italy",
         "c_Result": "9:00.32",
         "n_ResultSort": 540320,
         "_deepnote_index_column": 16582
        },
        {
         "c_Event": "800m Freestyle",
         "c_Gender": "Women",
         "n_DateSort": 20180726,
         "c_Person": "Paula Alonso Lorenzo",
         "c_PersonNatio": "Spain",
         "c_NOC": "Spain",
         "c_Result": "9:00.36",
         "n_ResultSort": 540360,
         "_deepnote_index_column": 16583
        },
        {
         "c_Event": "800m Freestyle",
         "c_Gender": "Women",
         "n_DateSort": 20180818,
         "c_Person": "Ibuki Tsuda",
         "c_PersonNatio": "Japan",
         "c_NOC": "Japan",
         "c_Result": "9:00.47",
         "n_ResultSort": 540470,
         "_deepnote_index_column": 16584
        },
        {
         "c_Event": "800m Freestyle",
         "c_Gender": "Women",
         "n_DateSort": 20180405,
         "c_Person": "Rachel Klinker",
         "c_PersonNatio": "United States",
         "c_NOC": "United States",
         "c_Result": "9:00.54",
         "n_ResultSort": 540540,
         "_deepnote_index_column": 16585
        },
        {
         "c_Event": "800m Freestyle",
         "c_Gender": "Women",
         "n_DateSort": 20180519,
         "c_Person": "Chloe Freeman",
         "c_PersonNatio": "United States",
         "c_NOC": "United States",
         "c_Result": "9:00.56",
         "n_ResultSort": 540560,
         "_deepnote_index_column": 16586
        },
        {
         "c_Event": "800m Freestyle",
         "c_Gender": "Women",
         "n_DateSort": 20180719,
         "c_Person": "Maggie Graves",
         "c_PersonNatio": "United States",
         "c_NOC": "United States",
         "c_Result": "9:00.59",
         "n_ResultSort": 540590,
         "_deepnote_index_column": 16587
        },
        {
         "c_Event": "800m Freestyle",
         "c_Gender": "Women",
         "n_DateSort": 20180908,
         "c_Person": "Mayu Ogawa",
         "c_PersonNatio": "Japan",
         "c_NOC": "Japan",
         "c_Result": "9:00.61",
         "n_ResultSort": 540610,
         "_deepnote_index_column": 16588
        },
        {
         "c_Event": "800m Freestyle",
         "c_Gender": "Women",
         "n_DateSort": 20180818,
         "c_Person": "Meina Hirai",
         "c_PersonNatio": "Japan",
         "c_NOC": "Japan",
         "c_Result": "9:00.62",
         "n_ResultSort": 540620,
         "_deepnote_index_column": 16589
        },
        {
         "c_Event": "800m Freestyle",
         "c_Gender": "Women",
         "n_DateSort": 20180718,
         "c_Person": "Brooke Lamoureux",
         "c_PersonNatio": "Canada",
         "c_NOC": "Canada",
         "c_Result": "9:00.68",
         "n_ResultSort": 540680,
         "_deepnote_index_column": 16590
        },
        {
         "c_Event": "800m Freestyle",
         "c_Gender": "Women",
         "n_DateSort": 20180725,
         "c_Person": "Marie Ximena Conde Merlos",
         "c_PersonNatio": "Mexico",
         "c_NOC": "Mexico",
         "c_Result": "9:00.74",
         "n_ResultSort": 540740,
         "_deepnote_index_column": 16591
        },
        {
         "c_Event": "800m Freestyle",
         "c_Gender": "Women",
         "n_DateSort": 20180301,
         "c_Person": "Rachel Tseng",
         "c_PersonNatio": "Singapore",
         "c_NOC": "Singapore",
         "c_Result": "9:00.83",
         "n_ResultSort": 540830,
         "_deepnote_index_column": 16592
        },
        {
         "c_Event": "800m Freestyle",
         "c_Gender": "Women",
         "n_DateSort": 20180324,
         "c_Person": "Rebecca Meder",
         "c_PersonNatio": "South Africa",
         "c_NOC": "South Africa",
         "c_Result": "9:00.84",
         "n_ResultSort": 540840,
         "_deepnote_index_column": 16593
        },
        {
         "c_Event": "800m Freestyle",
         "c_Gender": "Women",
         "n_DateSort": 20180725,
         "c_Person": "Marie Kuntzmann",
         "c_PersonNatio": "France",
         "c_NOC": "France",
         "c_Result": "9:00.88",
         "n_ResultSort": 540880,
         "_deepnote_index_column": 16594
        },
        {
         "c_Event": "800m Freestyle",
         "c_Gender": "Women",
         "n_DateSort": 20180302,
         "c_Person": "Aisha Thornton",
         "c_PersonNatio": "Great Britain",
         "c_NOC": "Great Britain",
         "c_Result": "9:00.89",
         "n_ResultSort": 540890,
         "_deepnote_index_column": 16595
        },
        {
         "c_Event": "800m Freestyle",
         "c_Gender": "Women",
         "n_DateSort": 20180511,
         "c_Person": "Karina Abrosimova",
         "c_PersonNatio": "Russia",
         "c_NOC": "Russia",
         "c_Result": "9:00.94",
         "n_ResultSort": 540940,
         "_deepnote_index_column": 16596
        },
        {
         "c_Event": "800m Freestyle",
         "c_Gender": "Women",
         "n_DateSort": 20180528,
         "c_Person": "Samantha Arevalo",
         "c_PersonNatio": "Ecuador",
         "c_NOC": "Ecuador",
         "c_Result": "9:00.95",
         "n_ResultSort": 540950,
         "_deepnote_index_column": 16597
        },
        {
         "c_Event": "800m Freestyle",
         "c_Gender": "Women",
         "n_DateSort": 20181128,
         "c_Person": "Merve Tuncel",
         "c_PersonNatio": "Turkey",
         "c_NOC": "Turkey",
         "c_Result": "9:00.97",
         "n_ResultSort": 540970,
         "_deepnote_index_column": 16598
        },
        {
         "c_Event": "800m Freestyle",
         "c_Gender": "Women",
         "n_DateSort": 20180908,
         "c_Person": "Hiroko Ohtsuka",
         "c_PersonNatio": "Japan",
         "c_NOC": "Japan",
         "c_Result": "9:01.02",
         "n_ResultSort": 541020,
         "_deepnote_index_column": 16599
        },
        {
         "c_Event": "800m Freestyle",
         "c_Gender": "Women",
         "n_DateSort": 20180813,
         "c_Person": "Ilaria Murzilli",
         "c_PersonNatio": "Italy",
         "c_NOC": "Italy",
         "c_Result": "9:01.04",
         "n_ResultSort": 541040,
         "_deepnote_index_column": 16600
        },
        {
         "c_Event": "800m Freestyle",
         "c_Gender": "Women",
         "n_DateSort": 20180720,
         "c_Person": "Antonia Stenbrock",
         "c_PersonNatio": "Germany",
         "c_NOC": "Germany",
         "c_Result": "9:01.09",
         "n_ResultSort": 541090,
         "_deepnote_index_column": 16601
        },
        {
         "c_Event": "800m Freestyle",
         "c_Gender": "Women",
         "n_DateSort": 20180413,
         "c_Person": "Li Jiaqi",
         "c_PersonNatio": "China",
         "c_NOC": "China",
         "c_Result": "9:01.10",
         "n_ResultSort": 541100,
         "_deepnote_index_column": 16602
        },
        {
         "c_Event": "800m Freestyle",
         "c_Gender": "Women",
         "n_DateSort": 20180813,
         "c_Person": "Greta Bonada",
         "c_PersonNatio": "Italy",
         "c_NOC": "Italy",
         "c_Result": "9:01.17",
         "n_ResultSort": 541170,
         "_deepnote_index_column": 16603
        },
        {
         "c_Event": "800m Freestyle",
         "c_Gender": "Women",
         "n_DateSort": 20180915,
         "c_Person": "Li Xinyu",
         "c_PersonNatio": "China",
         "c_NOC": "China",
         "c_Result": "9:01.28",
         "n_ResultSort": 541280,
         "_deepnote_index_column": 16604
        },
        {
         "c_Event": "800m Freestyle",
         "c_Gender": "Women",
         "n_DateSort": 20180415,
         "c_Person": "Marij van der Mast",
         "c_PersonNatio": "Netherlands",
         "c_NOC": "Netherlands",
         "c_Result": "9:01.35",
         "n_ResultSort": 541350,
         "_deepnote_index_column": 16605
        },
        {
         "c_Event": "800m Freestyle",
         "c_Gender": "Women",
         "n_DateSort": 20180318,
         "c_Person": "Akiko Moritomo",
         "c_PersonNatio": "Japan",
         "c_NOC": "Japan",
         "c_Result": "9:01.39",
         "n_ResultSort": 541390,
         "_deepnote_index_column": 16606
        },
        {
         "c_Event": "800m Freestyle",
         "c_Gender": "Women",
         "n_DateSort": 20180602,
         "c_Person": "Logan Shiller",
         "c_PersonNatio": "United States",
         "c_NOC": "United States",
         "c_Result": "9:01.44",
         "n_ResultSort": 541440,
         "_deepnote_index_column": 16607
        },
        {
         "c_Event": "800m Freestyle",
         "c_Gender": "Women",
         "n_DateSort": 20180813,
         "c_Person": "Anna Chiara Mascolo",
         "c_PersonNatio": "Italy",
         "c_NOC": "Italy",
         "c_Result": "9:01.45",
         "n_ResultSort": 541450,
         "_deepnote_index_column": 16608
        },
        {
         "c_Event": "800m Freestyle",
         "c_Gender": "Women",
         "n_DateSort": 20180418,
         "c_Person": "Paris Cutler",
         "c_PersonNatio": "New Zealand",
         "c_NOC": "New Zealand",
         "c_Result": "9:01.46",
         "n_ResultSort": 541460,
         "_deepnote_index_column": 16609
        },
        {
         "c_Event": "800m Freestyle",
         "c_Gender": "Women",
         "n_DateSort": 20180323,
         "c_Person": "Fleur Lewis",
         "c_PersonNatio": "Great Britain",
         "c_NOC": "Great Britain",
         "c_Result": "9:01.59",
         "n_ResultSort": 541590,
         "_deepnote_index_column": 16610
        },
        {
         "c_Event": "800m Freestyle",
         "c_Gender": "Women",
         "n_DateSort": 20180410,
         "c_Person": "Barbara Pozzobon",
         "c_PersonNatio": "Italy",
         "c_NOC": "Italy",
         "c_Result": "9:01.64",
         "n_ResultSort": 541640,
         "_deepnote_index_column": 16611
        },
        {
         "c_Event": "800m Freestyle",
         "c_Gender": "Women",
         "n_DateSort": 20180913,
         "c_Person": "Souad Cherouati",
         "c_PersonNatio": "Algeria",
         "c_NOC": "Algeria",
         "c_Result": "9:01.68",
         "n_ResultSort": 541680,
         "_deepnote_index_column": 16612
        },
        {
         "c_Event": "800m Freestyle",
         "c_Gender": "Women",
         "n_DateSort": 20180113,
         "c_Person": "Anna Kalandadze",
         "c_PersonNatio": "United States",
         "c_NOC": "United States",
         "c_Result": "9:01.71",
         "n_ResultSort": 541710,
         "_deepnote_index_column": 16613
        },
        {
         "c_Event": "800m Freestyle",
         "c_Gender": "Women",
         "n_DateSort": 20180520,
         "c_Person": "Emily Ilgenfritz",
         "c_PersonNatio": "United States",
         "c_NOC": "United States",
         "c_Result": "9:01.71",
         "n_ResultSort": 541710,
         "_deepnote_index_column": 16614
        },
        {
         "c_Event": "800m Freestyle",
         "c_Gender": "Women",
         "n_DateSort": 20180427,
         "c_Person": "Lim Hyun Ha",
         "c_PersonNatio": "Korea",
         "c_NOC": "Korea",
         "c_Result": "9:01.72",
         "n_ResultSort": 541720,
         "_deepnote_index_column": 16615
        },
        {
         "c_Event": "800m Freestyle",
         "c_Gender": "Women",
         "n_DateSort": 20180519,
         "c_Person": "Kyla Ross",
         "c_PersonNatio": "Canada",
         "c_NOC": "Canada",
         "c_Result": "9:01.76",
         "n_ResultSort": 541760,
         "_deepnote_index_column": 16616
        },
        {
         "c_Event": "800m Freestyle",
         "c_Gender": "Women",
         "n_DateSort": 20180408,
         "c_Person": "Christine Ekman",
         "c_PersonNatio": "Sweden",
         "c_NOC": "Sweden",
         "c_Result": "9:01.80",
         "n_ResultSort": 541800,
         "_deepnote_index_column": 16617
        },
        {
         "c_Event": "800m Freestyle",
         "c_Gender": "Women",
         "n_DateSort": 20180728,
         "c_Person": "Karling Hemstreet",
         "c_PersonNatio": "United States",
         "c_NOC": "United States",
         "c_Result": "9:01.83",
         "n_ResultSort": 541830,
         "_deepnote_index_column": 16618
        },
        {
         "c_Event": "800m Freestyle",
         "c_Gender": "Women",
         "n_DateSort": 20180818,
         "c_Person": "Moeka Hirata",
         "c_PersonNatio": "Japan",
         "c_NOC": "Japan",
         "c_Result": "9:01.84",
         "n_ResultSort": 541840,
         "_deepnote_index_column": 16619
        },
        {
         "c_Event": "800m Freestyle",
         "c_Gender": "Women",
         "n_DateSort": 20180711,
         "c_Person": "Margarita Varulnikova",
         "c_PersonNatio": "Russia",
         "c_NOC": "Russia",
         "c_Result": "9:01.84",
         "n_ResultSort": 541840,
         "_deepnote_index_column": 16620
        },
        {
         "c_Event": "800m Freestyle",
         "c_Gender": "Women",
         "n_DateSort": 20180526,
         "c_Person": "Ecem Donmez",
         "c_PersonNatio": "Turkey",
         "c_NOC": "Turkey",
         "c_Result": "9:01.85",
         "n_ResultSort": 541850,
         "_deepnote_index_column": 16621
        },
        {
         "c_Event": "800m Freestyle",
         "c_Gender": "Women",
         "n_DateSort": 20180507,
         "c_Person": "Betsy Wizard",
         "c_PersonNatio": "Great Britain",
         "c_NOC": "Great Britain",
         "c_Result": "9:01.90",
         "n_ResultSort": 541900,
         "_deepnote_index_column": 16622
        },
        {
         "c_Event": "800m Freestyle",
         "c_Gender": "Women",
         "n_DateSort": 20180525,
         "c_Person": "Emilia Colti Dumitrescu",
         "c_PersonNatio": "Romania",
         "c_NOC": "Romania",
         "c_Result": "9:02.00",
         "n_ResultSort": 542000,
         "_deepnote_index_column": 16623
        },
        {
         "c_Event": "800m Freestyle",
         "c_Gender": "Women",
         "n_DateSort": 20180818,
         "c_Person": "Nanami Kouchi",
         "c_PersonNatio": "Japan",
         "c_NOC": "Japan",
         "c_Result": "9:02.02",
         "n_ResultSort": 542020,
         "_deepnote_index_column": 16624
        },
        {
         "c_Event": "800m Freestyle",
         "c_Gender": "Women",
         "n_DateSort": 20180622,
         "c_Person": "Yang Yaan",
         "c_PersonNatio": "China",
         "c_NOC": "China",
         "c_Result": "9:02.03",
         "n_ResultSort": 542030,
         "_deepnote_index_column": 16625
        },
        {
         "c_Event": "800m Freestyle",
         "c_Gender": "Women",
         "n_DateSort": 20180524,
         "c_Person": "Julia Adamczyk",
         "c_PersonNatio": "Poland",
         "c_NOC": "Poland",
         "c_Result": "9:02.04",
         "n_ResultSort": 542040,
         "_deepnote_index_column": 16626
        },
        {
         "c_Event": "800m Freestyle",
         "c_Gender": "Women",
         "n_DateSort": 20180530,
         "c_Person": "Mira Szimcsák",
         "c_PersonNatio": "Hungary",
         "c_NOC": "Hungary",
         "c_Result": "9:02.09",
         "n_ResultSort": 542090,
         "_deepnote_index_column": 16627
        },
        {
         "c_Event": "800m Freestyle",
         "c_Gender": "Women",
         "n_DateSort": 20180423,
         "c_Person": "Victoria Bushell",
         "c_PersonNatio": "Australia",
         "c_NOC": "Australia",
         "c_Result": "9:02.10",
         "n_ResultSort": 542100,
         "_deepnote_index_column": 16628
        },
        {
         "c_Event": "800m Freestyle",
         "c_Gender": "Women",
         "n_DateSort": 20180420,
         "c_Person": "Anastasia Basalduk",
         "c_PersonNatio": "Russia",
         "c_NOC": "Russia",
         "c_Result": "9:02.10",
         "n_ResultSort": 542100,
         "_deepnote_index_column": 16629
        },
        {
         "c_Event": "800m Freestyle",
         "c_Gender": "Women",
         "n_DateSort": 20180331,
         "c_Person": "Iona Macleod",
         "c_PersonNatio": "Great Britain",
         "c_NOC": "Great Britain",
         "c_Result": "9:02.12",
         "n_ResultSort": 542120,
         "_deepnote_index_column": 16630
        },
        {
         "c_Event": "800m Freestyle",
         "c_Gender": "Women",
         "n_DateSort": 20180702,
         "c_Person": "Monique King",
         "c_PersonNatio": "New Zealand",
         "c_NOC": "New Zealand",
         "c_Result": "9:02.19",
         "n_ResultSort": 542190,
         "_deepnote_index_column": 16631
        },
        {
         "c_Event": "800m Freestyle",
         "c_Gender": "Women",
         "n_DateSort": 20180705,
         "c_Person": "Ester Rydbeck Nordèn",
         "c_PersonNatio": "Sweden",
         "c_NOC": "Sweden",
         "c_Result": "9:02.25",
         "n_ResultSort": 542250,
         "_deepnote_index_column": 16632
        },
        {
         "c_Event": "800m Freestyle",
         "c_Gender": "Women",
         "n_DateSort": 20180421,
         "c_Person": "Maria Eduar Seifer",
         "c_PersonNatio": "Brazil",
         "c_NOC": "Brazil",
         "c_Result": "9:02.27",
         "n_ResultSort": 542270,
         "_deepnote_index_column": 16633
        },
        {
         "c_Event": "800m Freestyle",
         "c_Gender": "Women",
         "n_DateSort": 20180818,
         "c_Person": "Hyuu Ohba",
         "c_PersonNatio": "Japan",
         "c_NOC": "Japan",
         "c_Result": "9:02.28",
         "n_ResultSort": 542280,
         "_deepnote_index_column": 16634
        },
        {
         "c_Event": "800m Freestyle",
         "c_Gender": "Women",
         "n_DateSort": 20180726,
         "c_Person": "Klara Bosnjak",
         "c_PersonNatio": "Croatia",
         "c_NOC": "Croatia",
         "c_Result": "9:02.44",
         "n_ResultSort": 542440,
         "_deepnote_index_column": 16635
        },
        {
         "c_Event": "800m Freestyle",
         "c_Gender": "Women",
         "n_DateSort": 20180519,
         "c_Person": "Chantel Jeffrey",
         "c_PersonNatio": "Canada",
         "c_NOC": "Canada",
         "c_Result": "9:02.47",
         "n_ResultSort": 542470,
         "_deepnote_index_column": 16636
        },
        {
         "c_Event": "800m Freestyle",
         "c_Gender": "Women",
         "n_DateSort": 20180421,
         "c_Person": "Bindi Ware",
         "c_PersonNatio": "Australia",
         "c_NOC": "Australia",
         "c_Result": "9:02.48",
         "n_ResultSort": 542480,
         "_deepnote_index_column": 16637
        },
        {
         "c_Event": "800m Freestyle",
         "c_Gender": "Women",
         "n_DateSort": 20180302,
         "c_Person": "Ebony Blackstone",
         "c_PersonNatio": "Australia",
         "c_NOC": "Australia",
         "c_Result": "9:02.54",
         "n_ResultSort": 542540,
         "_deepnote_index_column": 16638
        },
        {
         "c_Event": "800m Freestyle",
         "c_Gender": "Women",
         "n_DateSort": 20180609,
         "c_Person": "Mia Steen Duus",
         "c_PersonNatio": "Denmark",
         "c_NOC": "Denmark",
         "c_Result": "9:02.55",
         "n_ResultSort": 542550,
         "_deepnote_index_column": 16639
        }
       ]
      },
      "text/plain": "               c_Event c_Gender  n_DateSort            c_Person  \\\n0      100m Backstroke      Men    20180809         Ryan Murphy   \n1      100m Backstroke      Men    20180822            Xu Jiayu   \n2      100m Backstroke      Men    20180806  Kliment Kolesnikov   \n3      100m Backstroke      Men    20180819        Ryosuke Irie   \n4      100m Backstroke      Men    20180728        Matt Grevers   \n...                ...      ...         ...                 ...   \n16635   800m Freestyle    Women    20180726       Klara Bosnjak   \n16636   800m Freestyle    Women    20180519     Chantel Jeffrey   \n16637   800m Freestyle    Women    20180421          Bindi Ware   \n16638   800m Freestyle    Women    20180302    Ebony Blackstone   \n16639   800m Freestyle    Women    20180609      Mia Steen Duus   \n\n       c_PersonNatio          c_NOC c_Result  n_ResultSort  \n0      United States  United States    51.94         51940  \n1              China          China    52.30         52300  \n2             Russia         Russia    52.51         52510  \n3              Japan          Japan    52.53         52530  \n4      United States  United States    52.55         52550  \n...              ...            ...      ...           ...  \n16635        Croatia        Croatia  9:02.44        542440  \n16636         Canada         Canada  9:02.47        542470  \n16637      Australia      Australia  9:02.48        542480  \n16638      Australia      Australia  9:02.54        542540  \n16639        Denmark        Denmark  9:02.55        542550  \n\n[16640 rows x 8 columns]",
      "text/html": "<div>\n<style scoped>\n    .dataframe tbody tr th:only-of-type {\n        vertical-align: middle;\n    }\n\n    .dataframe tbody tr th {\n        vertical-align: top;\n    }\n\n    .dataframe thead th {\n        text-align: right;\n    }\n</style>\n<table border=\"1\" class=\"dataframe\">\n  <thead>\n    <tr style=\"text-align: right;\">\n      <th></th>\n      <th>c_Event</th>\n      <th>c_Gender</th>\n      <th>n_DateSort</th>\n      <th>c_Person</th>\n      <th>c_PersonNatio</th>\n      <th>c_NOC</th>\n      <th>c_Result</th>\n      <th>n_ResultSort</th>\n    </tr>\n  </thead>\n  <tbody>\n    <tr>\n      <th>0</th>\n      <td>100m Backstroke</td>\n      <td>Men</td>\n      <td>20180809</td>\n      <td>Ryan Murphy</td>\n      <td>United States</td>\n      <td>United States</td>\n      <td>51.94</td>\n      <td>51940</td>\n    </tr>\n    <tr>\n      <th>1</th>\n      <td>100m Backstroke</td>\n      <td>Men</td>\n      <td>20180822</td>\n      <td>Xu Jiayu</td>\n      <td>China</td>\n      <td>China</td>\n      <td>52.30</td>\n      <td>52300</td>\n    </tr>\n    <tr>\n      <th>2</th>\n      <td>100m Backstroke</td>\n      <td>Men</td>\n      <td>20180806</td>\n      <td>Kliment Kolesnikov</td>\n      <td>Russia</td>\n      <td>Russia</td>\n      <td>52.51</td>\n      <td>52510</td>\n    </tr>\n    <tr>\n      <th>3</th>\n      <td>100m Backstroke</td>\n      <td>Men</td>\n      <td>20180819</td>\n      <td>Ryosuke Irie</td>\n      <td>Japan</td>\n      <td>Japan</td>\n      <td>52.53</td>\n      <td>52530</td>\n    </tr>\n    <tr>\n      <th>4</th>\n      <td>100m Backstroke</td>\n      <td>Men</td>\n      <td>20180728</td>\n      <td>Matt Grevers</td>\n      <td>United States</td>\n      <td>United States</td>\n      <td>52.55</td>\n      <td>52550</td>\n    </tr>\n    <tr>\n      <th>...</th>\n      <td>...</td>\n      <td>...</td>\n      <td>...</td>\n      <td>...</td>\n      <td>...</td>\n      <td>...</td>\n      <td>...</td>\n      <td>...</td>\n    </tr>\n    <tr>\n      <th>16635</th>\n      <td>800m Freestyle</td>\n      <td>Women</td>\n      <td>20180726</td>\n      <td>Klara Bosnjak</td>\n      <td>Croatia</td>\n      <td>Croatia</td>\n      <td>9:02.44</td>\n      <td>542440</td>\n    </tr>\n    <tr>\n      <th>16636</th>\n      <td>800m Freestyle</td>\n      <td>Women</td>\n      <td>20180519</td>\n      <td>Chantel Jeffrey</td>\n      <td>Canada</td>\n      <td>Canada</td>\n      <td>9:02.47</td>\n      <td>542470</td>\n    </tr>\n    <tr>\n      <th>16637</th>\n      <td>800m Freestyle</td>\n      <td>Women</td>\n      <td>20180421</td>\n      <td>Bindi Ware</td>\n      <td>Australia</td>\n      <td>Australia</td>\n      <td>9:02.48</td>\n      <td>542480</td>\n    </tr>\n    <tr>\n      <th>16638</th>\n      <td>800m Freestyle</td>\n      <td>Women</td>\n      <td>20180302</td>\n      <td>Ebony Blackstone</td>\n      <td>Australia</td>\n      <td>Australia</td>\n      <td>9:02.54</td>\n      <td>542540</td>\n    </tr>\n    <tr>\n      <th>16639</th>\n      <td>800m Freestyle</td>\n      <td>Women</td>\n      <td>20180609</td>\n      <td>Mia Steen Duus</td>\n      <td>Denmark</td>\n      <td>Denmark</td>\n      <td>9:02.55</td>\n      <td>542550</td>\n    </tr>\n  </tbody>\n</table>\n<p>16640 rows × 8 columns</p>\n</div>"
     },
     "metadata": {}
    }
   ]
  },
  {
   "cell_type": "markdown",
   "source": "#### 6. Rename all the column headers in the dataframe, so each header makes sense to you...\n> e.g. rename ```c_Person``` to ```athlete```...",
   "metadata": {
    "tags": [],
    "cell_id": "00011-db8ece80-e027-4107-8b16-bf716f971789",
    "output_cleared": false,
    "deepnote_cell_type": "markdown"
   }
  },
  {
   "cell_type": "code",
   "metadata": {
    "tags": [],
    "cell_id": "00012-bd065eb9-4ab7-4f6c-965b-f1d901ab794b",
    "output_cleared": false,
    "source_hash": "f8cba29c",
    "execution_millis": 81,
    "execution_start": 1620826628816,
    "deepnote_to_be_reexecuted": false,
    "deepnote_cell_type": "code"
   },
   "source": "cleaned_df.columns = ['Event','Gender','Date Sort','Athlete','Nationality','NOC','Time','Result Sort']\ncleaned_df",
   "execution_count": 16,
   "outputs": [
    {
     "output_type": "execute_result",
     "execution_count": 16,
     "data": {
      "application/vnd.deepnote.dataframe.v2+json": {
       "row_count": 16640,
       "column_count": 8,
       "columns": [
        {
         "name": "Event",
         "dtype": "object",
         "stats": {
          "unique_count": 17,
          "nan_count": 0,
          "categories": [
           {
            "name": "800m Freestyle",
            "count": 989
           },
           {
            "name": "200m Individual Medley",
            "count": 988
           },
           {
            "name": "15 others",
            "count": 14663
           }
          ]
         }
        },
        {
         "name": "Gender",
         "dtype": "object",
         "stats": {
          "unique_count": 2,
          "nan_count": 0,
          "categories": [
           {
            "name": "Men",
            "count": 8341
           },
           {
            "name": "Women",
            "count": 8299
           }
          ]
         }
        },
        {
         "name": "Date Sort",
         "dtype": "int64",
         "stats": {
          "unique_count": 232,
          "nan_count": 0,
          "min": "20180104",
          "max": "20181223",
          "histogram": [
           {
            "bin_start": 20180104,
            "bin_end": 20180215.9,
            "count": 521
           },
           {
            "bin_start": 20180215.9,
            "bin_end": 20180327.8,
            "count": 844
           },
           {
            "bin_start": 20180327.8,
            "bin_end": 20180439.7,
            "count": 4274
           },
           {
            "bin_start": 20180439.7,
            "bin_end": 20180551.6,
            "count": 1718
           },
           {
            "bin_start": 20180551.6,
            "bin_end": 20180663.5,
            "count": 1209
           },
           {
            "bin_start": 20180663.5,
            "bin_end": 20180775.4,
            "count": 4268
           },
           {
            "bin_start": 20180775.4,
            "bin_end": 20180887.3,
            "count": 2440
           },
           {
            "bin_start": 20180887.3,
            "bin_end": 20180999.2,
            "count": 674
           },
           {
            "bin_start": 20180999.2,
            "bin_end": 20181111.1,
            "count": 384
           },
           {
            "bin_start": 20181111.1,
            "bin_end": 20181223,
            "count": 308
           }
          ]
         }
        },
        {
         "name": "Athlete",
         "dtype": "object",
         "stats": {
          "unique_count": 6959,
          "nan_count": 0,
          "categories": [
           {
            "name": "Katinka Hosszú",
            "count": 16
           },
           {
            "name": "Zsuzsanna Jakabos",
            "count": 12
           },
           {
            "name": "6957 others",
            "count": 16612
           }
          ]
         }
        },
        {
         "name": "Nationality",
         "dtype": "object",
         "stats": {
          "unique_count": 126,
          "nan_count": 0,
          "categories": [
           {
            "name": "United States",
            "count": 3184
           },
           {
            "name": "Japan",
            "count": 2064
           },
           {
            "name": "124 others",
            "count": 11392
           }
          ]
         }
        },
        {
         "name": "NOC",
         "dtype": "object",
         "stats": {
          "unique_count": 119,
          "nan_count": 0,
          "categories": [
           {
            "name": "United States",
            "count": 3188
           },
           {
            "name": "Japan",
            "count": 2064
           },
           {
            "name": "117 others",
            "count": 11388
           }
          ]
         }
        },
        {
         "name": "Time",
         "dtype": "object"
        },
        {
         "name": "Result Sort",
         "dtype": "int64"
        },
        {
         "name": "_deepnote_index_column",
         "dtype": "int64"
        }
       ],
       "rows_top": [
        {
         "Event": "100m Backstroke",
         "Gender": "Men",
         "Date Sort": 20180809,
         "Athlete": "Ryan Murphy",
         "Nationality": "United States",
         "NOC": "United States",
         "Time": "51.94",
         "Result Sort": 51940,
         "_deepnote_index_column": 0
        },
        {
         "Event": "100m Backstroke",
         "Gender": "Men",
         "Date Sort": 20180822,
         "Athlete": "Xu Jiayu",
         "Nationality": "China",
         "NOC": "China",
         "Time": "52.30",
         "Result Sort": 52300,
         "_deepnote_index_column": 1
        },
        {
         "Event": "100m Backstroke",
         "Gender": "Men",
         "Date Sort": 20180806,
         "Athlete": "Kliment Kolesnikov",
         "Nationality": "Russia",
         "NOC": "Russia",
         "Time": "52.51",
         "Result Sort": 52510,
         "_deepnote_index_column": 2
        },
        {
         "Event": "100m Backstroke",
         "Gender": "Men",
         "Date Sort": 20180819,
         "Athlete": "Ryosuke Irie",
         "Nationality": "Japan",
         "NOC": "Japan",
         "Time": "52.53",
         "Result Sort": 52530,
         "_deepnote_index_column": 3
        },
        {
         "Event": "100m Backstroke",
         "Gender": "Men",
         "Date Sort": 20180728,
         "Athlete": "Matt Grevers",
         "Nationality": "United States",
         "NOC": "United States",
         "Time": "52.55",
         "Result Sort": 52550,
         "_deepnote_index_column": 4
        },
        {
         "Event": "100m Backstroke",
         "Gender": "Men",
         "Date Sort": 20180809,
         "Athlete": "Evgeniy Rylov",
         "Nationality": "Russia",
         "NOC": "Russia",
         "Time": "52.66",
         "Result Sort": 52660,
         "_deepnote_index_column": 5
        },
        {
         "Event": "100m Backstroke",
         "Gender": "Men",
         "Date Sort": 20180810,
         "Athlete": "Mitch Larkin",
         "Nationality": "Australia",
         "NOC": "Australia",
         "Time": "52.88",
         "Result Sort": 52880,
         "_deepnote_index_column": 6
        },
        {
         "Event": "100m Backstroke",
         "Gender": "Men",
         "Date Sort": 20180806,
         "Athlete": "Grigoriy Tarasevich",
         "Nationality": "Russia",
         "NOC": "Russia",
         "Time": "53.22",
         "Result Sort": 53220,
         "_deepnote_index_column": 7
        },
        {
         "Event": "100m Backstroke",
         "Gender": "Men",
         "Date Sort": 20180728,
         "Athlete": "Justin Ress",
         "Nationality": "United States",
         "NOC": "United States",
         "Time": "53.26",
         "Result Sort": 53260,
         "_deepnote_index_column": 8
        },
        {
         "Event": "100m Backstroke",
         "Gender": "Men",
         "Date Sort": 20180527,
         "Athlete": "Robert Glinta",
         "Nationality": "Romania",
         "NOC": "Romania",
         "Time": "53.32",
         "Result Sort": 53320,
         "_deepnote_index_column": 9
        },
        {
         "Event": "100m Backstroke",
         "Gender": "Men",
         "Date Sort": 20180805,
         "Athlete": "Simone Sabbioni",
         "Nationality": "Italy",
         "NOC": "Italy",
         "Time": "53.39",
         "Result Sort": 53390,
         "_deepnote_index_column": 10
        },
        {
         "Event": "100m Backstroke",
         "Gender": "Men",
         "Date Sort": 20180705,
         "Athlete": "Daniel-Cristian Martin",
         "Nationality": "Romania",
         "NOC": "Romania",
         "Time": "53.52",
         "Result Sort": 53520,
         "_deepnote_index_column": 11
        },
        {
         "Event": "100m Backstroke",
         "Gender": "Men",
         "Date Sort": 20180810,
         "Athlete": "Michael Andrew",
         "Nationality": "United States",
         "NOC": "United States",
         "Time": "53.55",
         "Result Sort": 53550,
         "_deepnote_index_column": 12
        },
        {
         "Event": "100m Backstroke",
         "Gender": "Men",
         "Date Sort": 20180403,
         "Athlete": "Junya Koga",
         "Nationality": "Japan",
         "NOC": "Japan",
         "Time": "53.60",
         "Result Sort": 53600,
         "_deepnote_index_column": 13
        },
        {
         "Event": "100m Backstroke",
         "Gender": "Men",
         "Date Sort": 20180423,
         "Athlete": "Nikita Ulyanov",
         "Nationality": "Russia",
         "NOC": "Russia",
         "Time": "53.60",
         "Result Sort": 53600,
         "_deepnote_index_column": 14
        },
        {
         "Event": "100m Backstroke",
         "Gender": "Men",
         "Date Sort": 20181008,
         "Athlete": "Thomas Ceccon",
         "Nationality": "Italy",
         "NOC": "Italy",
         "Time": "53.65",
         "Result Sort": 53650,
         "_deepnote_index_column": 15
        },
        {
         "Event": "100m Backstroke",
         "Gender": "Men",
         "Date Sort": 20180713,
         "Athlete": "Mark Nikolaev",
         "Nationality": "Russia",
         "NOC": "Russia",
         "Time": "53.68",
         "Result Sort": 53680,
         "_deepnote_index_column": 16
        },
        {
         "Event": "100m Backstroke",
         "Gender": "Men",
         "Date Sort": 20180806,
         "Athlete": "Apostolos Christou",
         "Nationality": "Greece",
         "NOC": "Greece",
         "Time": "53.72",
         "Result Sort": 53720,
         "_deepnote_index_column": 17
        },
        {
         "Event": "100m Backstroke",
         "Gender": "Men",
         "Date Sort": 20180809,
         "Athlete": "Gabriel Fantoni",
         "Nationality": "Brazil",
         "NOC": "Brazil",
         "Time": "53.72",
         "Result Sort": 53720,
         "_deepnote_index_column": 18
        },
        {
         "Event": "100m Backstroke",
         "Gender": "Men",
         "Date Sort": 20180525,
         "Athlete": "Kacper Stokowski",
         "Nationality": "Poland",
         "NOC": "Poland",
         "Time": "53.82",
         "Result Sort": 53820,
         "_deepnote_index_column": 19
        },
        {
         "Event": "100m Backstroke",
         "Gender": "Men",
         "Date Sort": 20180728,
         "Athlete": "Bryce Mefford",
         "Nationality": "United States",
         "NOC": "United States",
         "Time": "53.84",
         "Result Sort": 53840,
         "_deepnote_index_column": 20
        },
        {
         "Event": "100m Backstroke",
         "Gender": "Men",
         "Date Sort": 20180405,
         "Athlete": "Markus Thormeyer",
         "Nationality": "Canada",
         "NOC": "Canada",
         "Time": "53.86",
         "Result Sort": 53860,
         "_deepnote_index_column": 21
        },
        {
         "Event": "100m Backstroke",
         "Gender": "Men",
         "Date Sort": 20180630,
         "Athlete": "Bradley Woodward",
         "Nationality": "Australia",
         "NOC": "Australia",
         "Time": "53.89",
         "Result Sort": 53890,
         "_deepnote_index_column": 22
        },
        {
         "Event": "100m Backstroke",
         "Gender": "Men",
         "Date Sort": 20180810,
         "Athlete": "Javier Acevedo",
         "Nationality": "Canada",
         "NOC": "Canada",
         "Time": "53.90",
         "Result Sort": 53900,
         "_deepnote_index_column": 23
        },
        {
         "Event": "100m Backstroke",
         "Gender": "Men",
         "Date Sort": 20181130,
         "Athlete": "Christopher Reid",
         "Nationality": "South Africa",
         "NOC": "South Africa",
         "Time": "53.92",
         "Result Sort": 53920,
         "_deepnote_index_column": 24
        },
        {
         "Event": "100m Backstroke",
         "Gender": "Men",
         "Date Sort": 20180806,
         "Athlete": "Christian Diener",
         "Nationality": "Germany",
         "NOC": "Germany",
         "Time": "53.92",
         "Result Sort": 53920,
         "_deepnote_index_column": 25
        },
        {
         "Event": "100m Backstroke",
         "Gender": "Men",
         "Date Sort": 20180303,
         "Athlete": "Jacob Pebley",
         "Nationality": "United States",
         "NOC": "United States",
         "Time": "53.93",
         "Result Sort": 53930,
         "_deepnote_index_column": 26
        },
        {
         "Event": "100m Backstroke",
         "Gender": "Men",
         "Date Sort": 20180407,
         "Athlete": "Shane Ryan",
         "Nationality": "Ireland",
         "NOC": "Ireland",
         "Time": "53.96",
         "Result Sort": 53960,
         "_deepnote_index_column": 27
        },
        {
         "Event": "100m Backstroke",
         "Gender": "Men",
         "Date Sort": 20180630,
         "Athlete": "Tristan Hollard",
         "Nationality": "Australia",
         "NOC": "Australia",
         "Time": "53.98",
         "Result Sort": 53980,
         "_deepnote_index_column": 28
        },
        {
         "Event": "100m Backstroke",
         "Gender": "Men",
         "Date Sort": 20180427,
         "Athlete": "Yakov Toumarkin",
         "Nationality": "Israel",
         "NOC": "Israel",
         "Time": "54.00",
         "Result Sort": 54000,
         "_deepnote_index_column": 29
        },
        {
         "Event": "100m Backstroke",
         "Gender": "Men",
         "Date Sort": 20180728,
         "Athlete": "Daniel Carr",
         "Nationality": "United States",
         "NOC": "United States",
         "Time": "54.01",
         "Result Sort": 54010,
         "_deepnote_index_column": 30
        },
        {
         "Event": "100m Backstroke",
         "Gender": "Men",
         "Date Sort": 20180728,
         "Athlete": "Coleman Stewart",
         "Nationality": "United States",
         "NOC": "United States",
         "Time": "54.03",
         "Result Sort": 54030,
         "_deepnote_index_column": 31
        },
        {
         "Event": "100m Backstroke",
         "Gender": "Men",
         "Date Sort": 20181221,
         "Athlete": "Richárd Bohus",
         "Nationality": "Hungary",
         "NOC": "Hungary",
         "Time": "54.05",
         "Result Sort": 54050,
         "_deepnote_index_column": 32
        },
        {
         "Event": "100m Backstroke",
         "Gender": "Men",
         "Date Sort": 20181107,
         "Athlete": "Guilherme Guido",
         "Nationality": "Brazil",
         "NOC": "Brazil",
         "Time": "54.06",
         "Result Sort": 54060,
         "_deepnote_index_column": 33
        },
        {
         "Event": "100m Backstroke",
         "Gender": "Men",
         "Date Sort": 20180728,
         "Athlete": "Austin Katz",
         "Nationality": "United States",
         "NOC": "United States",
         "Time": "54.06",
         "Result Sort": 54060,
         "_deepnote_index_column": 34
        },
        {
         "Event": "100m Backstroke",
         "Gender": "Men",
         "Date Sort": 20180404,
         "Athlete": "Masaki Kaneko",
         "Nationality": "Japan",
         "NOC": "Japan",
         "Time": "54.10",
         "Result Sort": 54100,
         "_deepnote_index_column": 35
        },
        {
         "Event": "100m Backstroke",
         "Gender": "Men",
         "Date Sort": 20180413,
         "Athlete": "Li Guangyuan",
         "Nationality": "China",
         "NOC": "China",
         "Time": "54.13",
         "Result Sort": 54130,
         "_deepnote_index_column": 36
        },
        {
         "Event": "100m Backstroke",
         "Gender": "Men",
         "Date Sort": 20180427,
         "Athlete": "Lee Ju-Ho",
         "Nationality": "Korea",
         "NOC": "Korea",
         "Time": "54.17",
         "Result Sort": 54170,
         "_deepnote_index_column": 37
        },
        {
         "Event": "100m Backstroke",
         "Gender": "Men",
         "Date Sort": 20180728,
         "Athlete": "Dean Farris",
         "Nationality": "United States",
         "NOC": "United States",
         "Time": "54.21",
         "Result Sort": 54210,
         "_deepnote_index_column": 38
        },
        {
         "Event": "100m Backstroke",
         "Gender": "Men",
         "Date Sort": 20180407,
         "Athlete": "Chris Walker-Hebborn",
         "Nationality": "England",
         "NOC": "Great Britain",
         "Time": "54.23",
         "Result Sort": 54230,
         "_deepnote_index_column": 39
        },
        {
         "Event": "100m Backstroke",
         "Gender": "Men",
         "Date Sort": 20180805,
         "Athlete": "Jan-Philip Glania",
         "Nationality": "Germany",
         "NOC": "Germany",
         "Time": "54.24",
         "Result Sort": 54240,
         "_deepnote_index_column": 40
        },
        {
         "Event": "100m Backstroke",
         "Gender": "Men",
         "Date Sort": 20180403,
         "Athlete": "Junya Hasegawa",
         "Nationality": "Japan",
         "NOC": "Japan",
         "Time": "54.24",
         "Result Sort": 54240,
         "_deepnote_index_column": 41
        },
        {
         "Event": "100m Backstroke",
         "Gender": "Men",
         "Date Sort": 20180813,
         "Athlete": "Matteo Milli",
         "Nationality": "Italy",
         "NOC": "Italy",
         "Time": "54.25",
         "Result Sort": 54250,
         "_deepnote_index_column": 42
        },
        {
         "Event": "100m Backstroke",
         "Gender": "Men",
         "Date Sort": 20180427,
         "Athlete": "Park Seon-Kwan",
         "Nationality": "Korea",
         "NOC": "Korea",
         "Time": "54.25",
         "Result Sort": 54250,
         "_deepnote_index_column": 43
        },
        {
         "Event": "100m Backstroke",
         "Gender": "Men",
         "Date Sort": 20180202,
         "Athlete": "Mikita Tsmyh",
         "Nationality": "Belarus",
         "NOC": "Belarus",
         "Time": "54.27",
         "Result Sort": 54270,
         "_deepnote_index_column": 44
        },
        {
         "Event": "100m Backstroke",
         "Gender": "Men",
         "Date Sort": 20180902,
         "Athlete": "Hayate Matsubara",
         "Nationality": "Japan",
         "NOC": "Japan",
         "Time": "54.27",
         "Result Sort": 54270,
         "_deepnote_index_column": 45
        },
        {
         "Event": "100m Backstroke",
         "Gender": "Men",
         "Date Sort": 20180728,
         "Athlete": "Nick Alexander",
         "Nationality": "United States",
         "NOC": "United States",
         "Time": "54.34",
         "Result Sort": 54340,
         "_deepnote_index_column": 46
        },
        {
         "Event": "100m Backstroke",
         "Gender": "Men",
         "Date Sort": 20180406,
         "Athlete": "Luke Greenbank",
         "Nationality": "England",
         "NOC": "Great Britain",
         "Time": "54.37",
         "Result Sort": 54370,
         "_deepnote_index_column": 47
        },
        {
         "Event": "100m Backstroke",
         "Gender": "Men",
         "Date Sort": 20180702,
         "Athlete": "Alexander Graham",
         "Nationality": "Australia",
         "NOC": "Australia",
         "Time": "54.37",
         "Result Sort": 54370,
         "_deepnote_index_column": 48
        },
        {
         "Event": "100m Backstroke",
         "Gender": "Men",
         "Date Sort": 20180524,
         "Athlete": "Paul Gabriel Bedel",
         "Nationality": "France",
         "NOC": "France",
         "Time": "54.37",
         "Result Sort": 54370,
         "_deepnote_index_column": 49
        },
        {
         "Event": "100m Backstroke",
         "Gender": "Men",
         "Date Sort": 20180805,
         "Athlete": "Conor Ferguson",
         "Nationality": "Northern Ireland",
         "NOC": "Ireland",
         "Time": "54.38",
         "Result Sort": 54380,
         "_deepnote_index_column": 50
        },
        {
         "Event": "100m Backstroke",
         "Gender": "Men",
         "Date Sort": 20180525,
         "Athlete": "Stanislas Huille",
         "Nationality": "France",
         "NOC": "France",
         "Time": "54.39",
         "Result Sort": 54390,
         "_deepnote_index_column": 51
        },
        {
         "Event": "100m Backstroke",
         "Gender": "Men",
         "Date Sort": 20180228,
         "Athlete": "Benjamin Treffers",
         "Nationality": "Australia",
         "NOC": "Australia",
         "Time": "54.40",
         "Result Sort": 54400,
         "_deepnote_index_column": 52
        },
        {
         "Event": "100m Backstroke",
         "Gender": "Men",
         "Date Sort": 20180410,
         "Athlete": "Christopher Ciccarese",
         "Nationality": "Italy",
         "NOC": "Italy",
         "Time": "54.40",
         "Result Sort": 54400,
         "_deepnote_index_column": 53
        },
        {
         "Event": "100m Backstroke",
         "Gender": "Men",
         "Date Sort": 20180728,
         "Athlete": "Nicolas Albiero",
         "Nationality": "United States",
         "NOC": "United States",
         "Time": "54.43",
         "Result Sort": 54430,
         "_deepnote_index_column": 54
        },
        {
         "Event": "100m Backstroke",
         "Gender": "Men",
         "Date Sort": 20180511,
         "Athlete": "Nikos Sofianidis",
         "Nationality": "Greece",
         "NOC": "Greece",
         "Time": "54.47",
         "Result Sort": 54470,
         "_deepnote_index_column": 55
        },
        {
         "Event": "100m Backstroke",
         "Gender": "Men",
         "Date Sort": 20180228,
         "Athlete": "Josh Beaver",
         "Nationality": "Australia",
         "NOC": "Australia",
         "Time": "54.48",
         "Result Sort": 54480,
         "_deepnote_index_column": 56
        },
        {
         "Event": "100m Backstroke",
         "Gender": "Men",
         "Date Sort": 20180411,
         "Athlete": "Matteo Restivo",
         "Nationality": "Italy",
         "NOC": "Italy",
         "Time": "54.48",
         "Result Sort": 54480,
         "_deepnote_index_column": 57
        },
        {
         "Event": "100m Backstroke",
         "Gender": "Men",
         "Date Sort": 20180525,
         "Athlete": "Maxence Orange",
         "Nationality": "France",
         "NOC": "France",
         "Time": "54.48",
         "Result Sort": 54480,
         "_deepnote_index_column": 58
        },
        {
         "Event": "100m Backstroke",
         "Gender": "Men",
         "Date Sort": 20180525,
         "Athlete": "Masato Sakai",
         "Nationality": "Japan",
         "NOC": "Japan",
         "Time": "54.48",
         "Result Sort": 54480,
         "_deepnote_index_column": 59
        },
        {
         "Event": "100m Backstroke",
         "Gender": "Men",
         "Date Sort": 20180806,
         "Athlete": "Nicholas Pyle",
         "Nationality": "Great Britain",
         "NOC": "Great Britain",
         "Time": "54.50",
         "Result Sort": 54500,
         "_deepnote_index_column": 60
        },
        {
         "Event": "100m Backstroke",
         "Gender": "Men",
         "Date Sort": 20180728,
         "Athlete": "Shaine Casas",
         "Nationality": "United States",
         "NOC": "United States",
         "Time": "54.51",
         "Result Sort": 54510,
         "_deepnote_index_column": 61
        }
       ],
       "rows_bottom": [
        {
         "Event": "800m Freestyle",
         "Gender": "Women",
         "Date Sort": 20180204,
         "Athlete": "Angélica André",
         "Nationality": "Portugal",
         "NOC": "Portugal",
         "Time": "9:00.04",
         "Result Sort": 540040,
         "_deepnote_index_column": 16885
        },
        {
         "Event": "800m Freestyle",
         "Gender": "Women",
         "Date Sort": 20180813,
         "Athlete": "Silvia Fagnani",
         "Nationality": "Italy",
         "NOC": "Italy",
         "Time": "9:00.10",
         "Result Sort": 540100,
         "_deepnote_index_column": 16886
        },
        {
         "Event": "800m Freestyle",
         "Gender": "Women",
         "Date Sort": 20180908,
         "Athlete": "Yuki Abe",
         "Nationality": "Japan",
         "NOC": "Japan",
         "Time": "9:00.20",
         "Result Sort": 540200,
         "_deepnote_index_column": 16887
        },
        {
         "Event": "800m Freestyle",
         "Gender": "Women",
         "Date Sort": 20180112,
         "Athlete": "Maria Alvarez",
         "Nationality": "Colombia",
         "NOC": "Colombia",
         "Time": "9:00.20",
         "Result Sort": 540200,
         "_deepnote_index_column": 16888
        },
        {
         "Event": "800m Freestyle",
         "Gender": "Women",
         "Date Sort": 20180523,
         "Athlete": "Lea Marchal",
         "Nationality": "France",
         "NOC": "France",
         "Time": "9:00.27",
         "Result Sort": 540270,
         "_deepnote_index_column": 16889
        },
        {
         "Event": "800m Freestyle",
         "Gender": "Women",
         "Date Sort": 20180121,
         "Athlete": "Gaia Capitanio",
         "Nationality": "Italy",
         "NOC": "Italy",
         "Time": "9:00.32",
         "Result Sort": 540320,
         "_deepnote_index_column": 16890
        },
        {
         "Event": "800m Freestyle",
         "Gender": "Women",
         "Date Sort": 20180726,
         "Athlete": "Paula Alonso Lorenzo",
         "Nationality": "Spain",
         "NOC": "Spain",
         "Time": "9:00.36",
         "Result Sort": 540360,
         "_deepnote_index_column": 16891
        },
        {
         "Event": "800m Freestyle",
         "Gender": "Women",
         "Date Sort": 20180818,
         "Athlete": "Ibuki Tsuda",
         "Nationality": "Japan",
         "NOC": "Japan",
         "Time": "9:00.47",
         "Result Sort": 540470,
         "_deepnote_index_column": 16892
        },
        {
         "Event": "800m Freestyle",
         "Gender": "Women",
         "Date Sort": 20180405,
         "Athlete": "Rachel Klinker",
         "Nationality": "United States",
         "NOC": "United States",
         "Time": "9:00.54",
         "Result Sort": 540540,
         "_deepnote_index_column": 16893
        },
        {
         "Event": "800m Freestyle",
         "Gender": "Women",
         "Date Sort": 20180519,
         "Athlete": "Chloe Freeman",
         "Nationality": "United States",
         "NOC": "United States",
         "Time": "9:00.56",
         "Result Sort": 540560,
         "_deepnote_index_column": 16894
        },
        {
         "Event": "800m Freestyle",
         "Gender": "Women",
         "Date Sort": 20180719,
         "Athlete": "Maggie Graves",
         "Nationality": "United States",
         "NOC": "United States",
         "Time": "9:00.59",
         "Result Sort": 540590,
         "_deepnote_index_column": 16895
        },
        {
         "Event": "800m Freestyle",
         "Gender": "Women",
         "Date Sort": 20180908,
         "Athlete": "Mayu Ogawa",
         "Nationality": "Japan",
         "NOC": "Japan",
         "Time": "9:00.61",
         "Result Sort": 540610,
         "_deepnote_index_column": 16896
        },
        {
         "Event": "800m Freestyle",
         "Gender": "Women",
         "Date Sort": 20180818,
         "Athlete": "Meina Hirai",
         "Nationality": "Japan",
         "NOC": "Japan",
         "Time": "9:00.62",
         "Result Sort": 540620,
         "_deepnote_index_column": 16897
        },
        {
         "Event": "800m Freestyle",
         "Gender": "Women",
         "Date Sort": 20180718,
         "Athlete": "Brooke Lamoureux",
         "Nationality": "Canada",
         "NOC": "Canada",
         "Time": "9:00.68",
         "Result Sort": 540680,
         "_deepnote_index_column": 16898
        },
        {
         "Event": "800m Freestyle",
         "Gender": "Women",
         "Date Sort": 20180725,
         "Athlete": "Marie Ximena Conde Merlos",
         "Nationality": "Mexico",
         "NOC": "Mexico",
         "Time": "9:00.74",
         "Result Sort": 540740,
         "_deepnote_index_column": 16899
        },
        {
         "Event": "800m Freestyle",
         "Gender": "Women",
         "Date Sort": 20180301,
         "Athlete": "Rachel Tseng",
         "Nationality": "Singapore",
         "NOC": "Singapore",
         "Time": "9:00.83",
         "Result Sort": 540830,
         "_deepnote_index_column": 16900
        },
        {
         "Event": "800m Freestyle",
         "Gender": "Women",
         "Date Sort": 20180324,
         "Athlete": "Rebecca Meder",
         "Nationality": "South Africa",
         "NOC": "South Africa",
         "Time": "9:00.84",
         "Result Sort": 540840,
         "_deepnote_index_column": 16901
        },
        {
         "Event": "800m Freestyle",
         "Gender": "Women",
         "Date Sort": 20180725,
         "Athlete": "Marie Kuntzmann",
         "Nationality": "France",
         "NOC": "France",
         "Time": "9:00.88",
         "Result Sort": 540880,
         "_deepnote_index_column": 16902
        },
        {
         "Event": "800m Freestyle",
         "Gender": "Women",
         "Date Sort": 20180302,
         "Athlete": "Aisha Thornton",
         "Nationality": "Great Britain",
         "NOC": "Great Britain",
         "Time": "9:00.89",
         "Result Sort": 540890,
         "_deepnote_index_column": 16903
        },
        {
         "Event": "800m Freestyle",
         "Gender": "Women",
         "Date Sort": 20180511,
         "Athlete": "Karina Abrosimova",
         "Nationality": "Russia",
         "NOC": "Russia",
         "Time": "9:00.94",
         "Result Sort": 540940,
         "_deepnote_index_column": 16904
        },
        {
         "Event": "800m Freestyle",
         "Gender": "Women",
         "Date Sort": 20180528,
         "Athlete": "Samantha Arevalo",
         "Nationality": "Ecuador",
         "NOC": "Ecuador",
         "Time": "9:00.95",
         "Result Sort": 540950,
         "_deepnote_index_column": 16905
        },
        {
         "Event": "800m Freestyle",
         "Gender": "Women",
         "Date Sort": 20181128,
         "Athlete": "Merve Tuncel",
         "Nationality": "Turkey",
         "NOC": "Turkey",
         "Time": "9:00.97",
         "Result Sort": 540970,
         "_deepnote_index_column": 16906
        },
        {
         "Event": "800m Freestyle",
         "Gender": "Women",
         "Date Sort": 20180908,
         "Athlete": "Hiroko Ohtsuka",
         "Nationality": "Japan",
         "NOC": "Japan",
         "Time": "9:01.02",
         "Result Sort": 541020,
         "_deepnote_index_column": 16907
        },
        {
         "Event": "800m Freestyle",
         "Gender": "Women",
         "Date Sort": 20180813,
         "Athlete": "Ilaria Murzilli",
         "Nationality": "Italy",
         "NOC": "Italy",
         "Time": "9:01.04",
         "Result Sort": 541040,
         "_deepnote_index_column": 16908
        },
        {
         "Event": "800m Freestyle",
         "Gender": "Women",
         "Date Sort": 20180720,
         "Athlete": "Antonia Stenbrock",
         "Nationality": "Germany",
         "NOC": "Germany",
         "Time": "9:01.09",
         "Result Sort": 541090,
         "_deepnote_index_column": 16909
        },
        {
         "Event": "800m Freestyle",
         "Gender": "Women",
         "Date Sort": 20180413,
         "Athlete": "Li Jiaqi",
         "Nationality": "China",
         "NOC": "China",
         "Time": "9:01.10",
         "Result Sort": 541100,
         "_deepnote_index_column": 16910
        },
        {
         "Event": "800m Freestyle",
         "Gender": "Women",
         "Date Sort": 20180813,
         "Athlete": "Greta Bonada",
         "Nationality": "Italy",
         "NOC": "Italy",
         "Time": "9:01.17",
         "Result Sort": 541170,
         "_deepnote_index_column": 16911
        },
        {
         "Event": "800m Freestyle",
         "Gender": "Women",
         "Date Sort": 20180915,
         "Athlete": "Li Xinyu",
         "Nationality": "China",
         "NOC": "China",
         "Time": "9:01.28",
         "Result Sort": 541280,
         "_deepnote_index_column": 16912
        },
        {
         "Event": "800m Freestyle",
         "Gender": "Women",
         "Date Sort": 20180415,
         "Athlete": "Marij van der Mast",
         "Nationality": "Netherlands",
         "NOC": "Netherlands",
         "Time": "9:01.35",
         "Result Sort": 541350,
         "_deepnote_index_column": 16913
        },
        {
         "Event": "800m Freestyle",
         "Gender": "Women",
         "Date Sort": 20180318,
         "Athlete": "Akiko Moritomo",
         "Nationality": "Japan",
         "NOC": "Japan",
         "Time": "9:01.39",
         "Result Sort": 541390,
         "_deepnote_index_column": 16914
        },
        {
         "Event": "800m Freestyle",
         "Gender": "Women",
         "Date Sort": 20180602,
         "Athlete": "Logan Shiller",
         "Nationality": "United States",
         "NOC": "United States",
         "Time": "9:01.44",
         "Result Sort": 541440,
         "_deepnote_index_column": 16915
        },
        {
         "Event": "800m Freestyle",
         "Gender": "Women",
         "Date Sort": 20180813,
         "Athlete": "Anna Chiara Mascolo",
         "Nationality": "Italy",
         "NOC": "Italy",
         "Time": "9:01.45",
         "Result Sort": 541450,
         "_deepnote_index_column": 16916
        },
        {
         "Event": "800m Freestyle",
         "Gender": "Women",
         "Date Sort": 20180418,
         "Athlete": "Paris Cutler",
         "Nationality": "New Zealand",
         "NOC": "New Zealand",
         "Time": "9:01.46",
         "Result Sort": 541460,
         "_deepnote_index_column": 16917
        },
        {
         "Event": "800m Freestyle",
         "Gender": "Women",
         "Date Sort": 20180323,
         "Athlete": "Fleur Lewis",
         "Nationality": "Great Britain",
         "NOC": "Great Britain",
         "Time": "9:01.59",
         "Result Sort": 541590,
         "_deepnote_index_column": 16918
        },
        {
         "Event": "800m Freestyle",
         "Gender": "Women",
         "Date Sort": 20180410,
         "Athlete": "Barbara Pozzobon",
         "Nationality": "Italy",
         "NOC": "Italy",
         "Time": "9:01.64",
         "Result Sort": 541640,
         "_deepnote_index_column": 16919
        },
        {
         "Event": "800m Freestyle",
         "Gender": "Women",
         "Date Sort": 20180913,
         "Athlete": "Souad Cherouati",
         "Nationality": "Algeria",
         "NOC": "Algeria",
         "Time": "9:01.68",
         "Result Sort": 541680,
         "_deepnote_index_column": 16920
        },
        {
         "Event": "800m Freestyle",
         "Gender": "Women",
         "Date Sort": 20180113,
         "Athlete": "Anna Kalandadze",
         "Nationality": "United States",
         "NOC": "United States",
         "Time": "9:01.71",
         "Result Sort": 541710,
         "_deepnote_index_column": 16921
        },
        {
         "Event": "800m Freestyle",
         "Gender": "Women",
         "Date Sort": 20180520,
         "Athlete": "Emily Ilgenfritz",
         "Nationality": "United States",
         "NOC": "United States",
         "Time": "9:01.71",
         "Result Sort": 541710,
         "_deepnote_index_column": 16922
        },
        {
         "Event": "800m Freestyle",
         "Gender": "Women",
         "Date Sort": 20180427,
         "Athlete": "Lim Hyun Ha",
         "Nationality": "Korea",
         "NOC": "Korea",
         "Time": "9:01.72",
         "Result Sort": 541720,
         "_deepnote_index_column": 16923
        },
        {
         "Event": "800m Freestyle",
         "Gender": "Women",
         "Date Sort": 20180519,
         "Athlete": "Kyla Ross",
         "Nationality": "Canada",
         "NOC": "Canada",
         "Time": "9:01.76",
         "Result Sort": 541760,
         "_deepnote_index_column": 16924
        },
        {
         "Event": "800m Freestyle",
         "Gender": "Women",
         "Date Sort": 20180408,
         "Athlete": "Christine Ekman",
         "Nationality": "Sweden",
         "NOC": "Sweden",
         "Time": "9:01.80",
         "Result Sort": 541800,
         "_deepnote_index_column": 16925
        },
        {
         "Event": "800m Freestyle",
         "Gender": "Women",
         "Date Sort": 20180728,
         "Athlete": "Karling Hemstreet",
         "Nationality": "United States",
         "NOC": "United States",
         "Time": "9:01.83",
         "Result Sort": 541830,
         "_deepnote_index_column": 16926
        },
        {
         "Event": "800m Freestyle",
         "Gender": "Women",
         "Date Sort": 20180818,
         "Athlete": "Moeka Hirata",
         "Nationality": "Japan",
         "NOC": "Japan",
         "Time": "9:01.84",
         "Result Sort": 541840,
         "_deepnote_index_column": 16927
        },
        {
         "Event": "800m Freestyle",
         "Gender": "Women",
         "Date Sort": 20180711,
         "Athlete": "Margarita Varulnikova",
         "Nationality": "Russia",
         "NOC": "Russia",
         "Time": "9:01.84",
         "Result Sort": 541840,
         "_deepnote_index_column": 16928
        },
        {
         "Event": "800m Freestyle",
         "Gender": "Women",
         "Date Sort": 20180526,
         "Athlete": "Ecem Donmez",
         "Nationality": "Turkey",
         "NOC": "Turkey",
         "Time": "9:01.85",
         "Result Sort": 541850,
         "_deepnote_index_column": 16929
        },
        {
         "Event": "800m Freestyle",
         "Gender": "Women",
         "Date Sort": 20180507,
         "Athlete": "Betsy Wizard",
         "Nationality": "Great Britain",
         "NOC": "Great Britain",
         "Time": "9:01.90",
         "Result Sort": 541900,
         "_deepnote_index_column": 16930
        },
        {
         "Event": "800m Freestyle",
         "Gender": "Women",
         "Date Sort": 20180525,
         "Athlete": "Emilia Colti Dumitrescu",
         "Nationality": "Romania",
         "NOC": "Romania",
         "Time": "9:02.00",
         "Result Sort": 542000,
         "_deepnote_index_column": 16931
        },
        {
         "Event": "800m Freestyle",
         "Gender": "Women",
         "Date Sort": 20180818,
         "Athlete": "Nanami Kouchi",
         "Nationality": "Japan",
         "NOC": "Japan",
         "Time": "9:02.02",
         "Result Sort": 542020,
         "_deepnote_index_column": 16932
        },
        {
         "Event": "800m Freestyle",
         "Gender": "Women",
         "Date Sort": 20180622,
         "Athlete": "Yang Yaan",
         "Nationality": "China",
         "NOC": "China",
         "Time": "9:02.03",
         "Result Sort": 542030,
         "_deepnote_index_column": 16933
        },
        {
         "Event": "800m Freestyle",
         "Gender": "Women",
         "Date Sort": 20180524,
         "Athlete": "Julia Adamczyk",
         "Nationality": "Poland",
         "NOC": "Poland",
         "Time": "9:02.04",
         "Result Sort": 542040,
         "_deepnote_index_column": 16934
        },
        {
         "Event": "800m Freestyle",
         "Gender": "Women",
         "Date Sort": 20180530,
         "Athlete": "Mira Szimcsák",
         "Nationality": "Hungary",
         "NOC": "Hungary",
         "Time": "9:02.09",
         "Result Sort": 542090,
         "_deepnote_index_column": 16935
        },
        {
         "Event": "800m Freestyle",
         "Gender": "Women",
         "Date Sort": 20180423,
         "Athlete": "Victoria Bushell",
         "Nationality": "Australia",
         "NOC": "Australia",
         "Time": "9:02.10",
         "Result Sort": 542100,
         "_deepnote_index_column": 16936
        },
        {
         "Event": "800m Freestyle",
         "Gender": "Women",
         "Date Sort": 20180420,
         "Athlete": "Anastasia Basalduk",
         "Nationality": "Russia",
         "NOC": "Russia",
         "Time": "9:02.10",
         "Result Sort": 542100,
         "_deepnote_index_column": 16937
        },
        {
         "Event": "800m Freestyle",
         "Gender": "Women",
         "Date Sort": 20180331,
         "Athlete": "Iona Macleod",
         "Nationality": "Great Britain",
         "NOC": "Great Britain",
         "Time": "9:02.12",
         "Result Sort": 542120,
         "_deepnote_index_column": 16938
        },
        {
         "Event": "800m Freestyle",
         "Gender": "Women",
         "Date Sort": 20180702,
         "Athlete": "Monique King",
         "Nationality": "New Zealand",
         "NOC": "New Zealand",
         "Time": "9:02.19",
         "Result Sort": 542190,
         "_deepnote_index_column": 16939
        },
        {
         "Event": "800m Freestyle",
         "Gender": "Women",
         "Date Sort": 20180705,
         "Athlete": "Ester Rydbeck Nordèn",
         "Nationality": "Sweden",
         "NOC": "Sweden",
         "Time": "9:02.25",
         "Result Sort": 542250,
         "_deepnote_index_column": 16940
        },
        {
         "Event": "800m Freestyle",
         "Gender": "Women",
         "Date Sort": 20180421,
         "Athlete": "Maria Eduar Seifer",
         "Nationality": "Brazil",
         "NOC": "Brazil",
         "Time": "9:02.27",
         "Result Sort": 542270,
         "_deepnote_index_column": 16941
        },
        {
         "Event": "800m Freestyle",
         "Gender": "Women",
         "Date Sort": 20180818,
         "Athlete": "Hyuu Ohba",
         "Nationality": "Japan",
         "NOC": "Japan",
         "Time": "9:02.28",
         "Result Sort": 542280,
         "_deepnote_index_column": 16942
        },
        {
         "Event": "800m Freestyle",
         "Gender": "Women",
         "Date Sort": 20180726,
         "Athlete": "Klara Bosnjak",
         "Nationality": "Croatia",
         "NOC": "Croatia",
         "Time": "9:02.44",
         "Result Sort": 542440,
         "_deepnote_index_column": 16943
        },
        {
         "Event": "800m Freestyle",
         "Gender": "Women",
         "Date Sort": 20180519,
         "Athlete": "Chantel Jeffrey",
         "Nationality": "Canada",
         "NOC": "Canada",
         "Time": "9:02.47",
         "Result Sort": 542470,
         "_deepnote_index_column": 16944
        },
        {
         "Event": "800m Freestyle",
         "Gender": "Women",
         "Date Sort": 20180421,
         "Athlete": "Bindi Ware",
         "Nationality": "Australia",
         "NOC": "Australia",
         "Time": "9:02.48",
         "Result Sort": 542480,
         "_deepnote_index_column": 16945
        },
        {
         "Event": "800m Freestyle",
         "Gender": "Women",
         "Date Sort": 20180302,
         "Athlete": "Ebony Blackstone",
         "Nationality": "Australia",
         "NOC": "Australia",
         "Time": "9:02.54",
         "Result Sort": 542540,
         "_deepnote_index_column": 16946
        },
        {
         "Event": "800m Freestyle",
         "Gender": "Women",
         "Date Sort": 20180609,
         "Athlete": "Mia Steen Duus",
         "Nationality": "Denmark",
         "NOC": "Denmark",
         "Time": "9:02.55",
         "Result Sort": 542550,
         "_deepnote_index_column": 16947
        }
       ]
      },
      "text/plain": "                 Event Gender  Date Sort             Athlete    Nationality  \\\n0      100m Backstroke    Men   20180809         Ryan Murphy  United States   \n1      100m Backstroke    Men   20180822            Xu Jiayu          China   \n2      100m Backstroke    Men   20180806  Kliment Kolesnikov         Russia   \n3      100m Backstroke    Men   20180819        Ryosuke Irie          Japan   \n4      100m Backstroke    Men   20180728        Matt Grevers  United States   \n...                ...    ...        ...                 ...            ...   \n16943   800m Freestyle  Women   20180726       Klara Bosnjak        Croatia   \n16944   800m Freestyle  Women   20180519     Chantel Jeffrey         Canada   \n16945   800m Freestyle  Women   20180421          Bindi Ware      Australia   \n16946   800m Freestyle  Women   20180302    Ebony Blackstone      Australia   \n16947   800m Freestyle  Women   20180609      Mia Steen Duus        Denmark   \n\n                 NOC     Time  Result Sort  \n0      United States    51.94        51940  \n1              China    52.30        52300  \n2             Russia    52.51        52510  \n3              Japan    52.53        52530  \n4      United States    52.55        52550  \n...              ...      ...          ...  \n16943        Croatia  9:02.44       542440  \n16944         Canada  9:02.47       542470  \n16945      Australia  9:02.48       542480  \n16946      Australia  9:02.54       542540  \n16947        Denmark  9:02.55       542550  \n\n[16640 rows x 8 columns]",
      "text/html": "<div>\n<style scoped>\n    .dataframe tbody tr th:only-of-type {\n        vertical-align: middle;\n    }\n\n    .dataframe tbody tr th {\n        vertical-align: top;\n    }\n\n    .dataframe thead th {\n        text-align: right;\n    }\n</style>\n<table border=\"1\" class=\"dataframe\">\n  <thead>\n    <tr style=\"text-align: right;\">\n      <th></th>\n      <th>Event</th>\n      <th>Gender</th>\n      <th>Date Sort</th>\n      <th>Athlete</th>\n      <th>Nationality</th>\n      <th>NOC</th>\n      <th>Time</th>\n      <th>Result Sort</th>\n    </tr>\n  </thead>\n  <tbody>\n    <tr>\n      <th>0</th>\n      <td>100m Backstroke</td>\n      <td>Men</td>\n      <td>20180809</td>\n      <td>Ryan Murphy</td>\n      <td>United States</td>\n      <td>United States</td>\n      <td>51.94</td>\n      <td>51940</td>\n    </tr>\n    <tr>\n      <th>1</th>\n      <td>100m Backstroke</td>\n      <td>Men</td>\n      <td>20180822</td>\n      <td>Xu Jiayu</td>\n      <td>China</td>\n      <td>China</td>\n      <td>52.30</td>\n      <td>52300</td>\n    </tr>\n    <tr>\n      <th>2</th>\n      <td>100m Backstroke</td>\n      <td>Men</td>\n      <td>20180806</td>\n      <td>Kliment Kolesnikov</td>\n      <td>Russia</td>\n      <td>Russia</td>\n      <td>52.51</td>\n      <td>52510</td>\n    </tr>\n    <tr>\n      <th>3</th>\n      <td>100m Backstroke</td>\n      <td>Men</td>\n      <td>20180819</td>\n      <td>Ryosuke Irie</td>\n      <td>Japan</td>\n      <td>Japan</td>\n      <td>52.53</td>\n      <td>52530</td>\n    </tr>\n    <tr>\n      <th>4</th>\n      <td>100m Backstroke</td>\n      <td>Men</td>\n      <td>20180728</td>\n      <td>Matt Grevers</td>\n      <td>United States</td>\n      <td>United States</td>\n      <td>52.55</td>\n      <td>52550</td>\n    </tr>\n    <tr>\n      <th>...</th>\n      <td>...</td>\n      <td>...</td>\n      <td>...</td>\n      <td>...</td>\n      <td>...</td>\n      <td>...</td>\n      <td>...</td>\n      <td>...</td>\n    </tr>\n    <tr>\n      <th>16943</th>\n      <td>800m Freestyle</td>\n      <td>Women</td>\n      <td>20180726</td>\n      <td>Klara Bosnjak</td>\n      <td>Croatia</td>\n      <td>Croatia</td>\n      <td>9:02.44</td>\n      <td>542440</td>\n    </tr>\n    <tr>\n      <th>16944</th>\n      <td>800m Freestyle</td>\n      <td>Women</td>\n      <td>20180519</td>\n      <td>Chantel Jeffrey</td>\n      <td>Canada</td>\n      <td>Canada</td>\n      <td>9:02.47</td>\n      <td>542470</td>\n    </tr>\n    <tr>\n      <th>16945</th>\n      <td>800m Freestyle</td>\n      <td>Women</td>\n      <td>20180421</td>\n      <td>Bindi Ware</td>\n      <td>Australia</td>\n      <td>Australia</td>\n      <td>9:02.48</td>\n      <td>542480</td>\n    </tr>\n    <tr>\n      <th>16946</th>\n      <td>800m Freestyle</td>\n      <td>Women</td>\n      <td>20180302</td>\n      <td>Ebony Blackstone</td>\n      <td>Australia</td>\n      <td>Australia</td>\n      <td>9:02.54</td>\n      <td>542540</td>\n    </tr>\n    <tr>\n      <th>16947</th>\n      <td>800m Freestyle</td>\n      <td>Women</td>\n      <td>20180609</td>\n      <td>Mia Steen Duus</td>\n      <td>Denmark</td>\n      <td>Denmark</td>\n      <td>9:02.55</td>\n      <td>542550</td>\n    </tr>\n  </tbody>\n</table>\n<p>16640 rows × 8 columns</p>\n</div>"
     },
     "metadata": {}
    }
   ]
  },
  {
   "cell_type": "markdown",
   "source": "#### 7. Transform each value in the ```date_sort``` column into a DateTime Object using the [```.to_datetime```](https://pandas.pydata.org/pandas-docs/stable/reference/api/pandas.to_datetime.html) method.\n> Because it's better to handle dates as actual DateTime objects in Python...",
   "metadata": {
    "tags": [],
    "cell_id": "00015-a0967797-f969-4791-8792-8876039bc0ce",
    "output_cleared": false,
    "deepnote_cell_type": "markdown"
   }
  },
  {
   "cell_type": "code",
   "metadata": {
    "tags": [],
    "cell_id": "00015-271e3730-2f1a-4a84-a0ee-7e0df28b71c4",
    "output_cleared": false,
    "source_hash": "9b6aa81c",
    "execution_millis": 1,
    "execution_start": 1620831923995,
    "deepnote_to_be_reexecuted": false,
    "deepnote_cell_type": "code"
   },
   "source": "## data_table['Date Time'] = pandas.to_datetime(data_table['Date'], format='%d %b %y')\n\n#cleaned_df['Date Sort'] = pd.to_datetime(cleaned_df['Date Sort'], format='%y%m%d')\n\n## Error",
   "execution_count": 53,
   "outputs": []
  },
  {
   "cell_type": "markdown",
   "source": "#### 8. Create a column for each athlete's ```first name``` and ```last name```.\n> Seems futile, but you decide this may save you ALOT of time in the future...",
   "metadata": {
    "tags": [],
    "cell_id": "00017-fbbc3127-49b3-4117-8cdd-59622a1baecd",
    "output_cleared": false,
    "deepnote_cell_type": "markdown"
   }
  },
  {
   "cell_type": "code",
   "metadata": {
    "tags": [],
    "cell_id": "00020-b278be5d-8ca5-45b8-95b3-2405a58fdba1",
    "deepnote_to_be_reexecuted": false,
    "source_hash": "ef0965ec",
    "execution_start": 1620827148131,
    "execution_millis": 80,
    "deepnote_cell_type": "code"
   },
   "source": "new = cleaned_df[\"Athlete\"].str.split(\" \", n = 1, expand = True)\ncleaned_df[\"First Name\"]= new[0]\ncleaned_df[\"Last Name\"]= new[1] \nnew\n\n## Have I done this correctly??",
   "execution_count": 33,
   "outputs": [
    {
     "name": "stderr",
     "text": "/shared-libs/python3.7/py-core/lib/python3.7/site-packages/ipykernel_launcher.py:2: SettingWithCopyWarning: \nA value is trying to be set on a copy of a slice from a DataFrame.\nTry using .loc[row_indexer,col_indexer] = value instead\n\nSee the caveats in the documentation: https://pandas.pydata.org/pandas-docs/stable/user_guide/indexing.html#returning-a-view-versus-a-copy\n  \n/shared-libs/python3.7/py-core/lib/python3.7/site-packages/ipykernel_launcher.py:3: SettingWithCopyWarning: \nA value is trying to be set on a copy of a slice from a DataFrame.\nTry using .loc[row_indexer,col_indexer] = value instead\n\nSee the caveats in the documentation: https://pandas.pydata.org/pandas-docs/stable/user_guide/indexing.html#returning-a-view-versus-a-copy\n  This is separate from the ipykernel package so we can avoid doing imports until\n",
     "output_type": "stream"
    },
    {
     "output_type": "execute_result",
     "execution_count": 33,
     "data": {
      "application/vnd.deepnote.dataframe.v2+json": {
       "row_count": 16640,
       "column_count": 2,
       "columns": [
        {
         "name": 0,
         "dtype": "object",
         "stats": {
          "unique_count": 3095,
          "nan_count": 0,
          "categories": [
           {
            "name": "Anna",
            "count": 102
           },
           {
            "name": "Emma",
            "count": 99
           },
           {
            "name": "3093 others",
            "count": 16439
           }
          ]
         }
        },
        {
         "name": 1,
         "dtype": "object",
         "stats": {
          "unique_count": 5869,
          "nan_count": 0,
          "categories": [
           {
            "name": "Smith",
            "count": 80
           },
           {
            "name": "Anderson",
            "count": 39
           },
           {
            "name": "5867 others",
            "count": 16521
           }
          ]
         }
        },
        {
         "name": "_deepnote_index_column",
         "dtype": "int64"
        }
       ],
       "rows_top": [
        {
         "0": "Ryan",
         "1": "Murphy",
         "_deepnote_index_column": 0
        },
        {
         "0": "Xu",
         "1": "Jiayu",
         "_deepnote_index_column": 1
        },
        {
         "0": "Kliment",
         "1": "Kolesnikov",
         "_deepnote_index_column": 2
        },
        {
         "0": "Ryosuke",
         "1": "Irie",
         "_deepnote_index_column": 3
        },
        {
         "0": "Matt",
         "1": "Grevers",
         "_deepnote_index_column": 4
        },
        {
         "0": "Evgeniy",
         "1": "Rylov",
         "_deepnote_index_column": 5
        },
        {
         "0": "Mitch",
         "1": "Larkin",
         "_deepnote_index_column": 6
        },
        {
         "0": "Grigoriy",
         "1": "Tarasevich",
         "_deepnote_index_column": 7
        },
        {
         "0": "Justin",
         "1": "Ress",
         "_deepnote_index_column": 8
        },
        {
         "0": "Robert",
         "1": "Glinta",
         "_deepnote_index_column": 9
        },
        {
         "0": "Simone",
         "1": "Sabbioni",
         "_deepnote_index_column": 10
        },
        {
         "0": "Daniel-Cristian",
         "1": "Martin",
         "_deepnote_index_column": 11
        },
        {
         "0": "Michael",
         "1": "Andrew",
         "_deepnote_index_column": 12
        },
        {
         "0": "Junya",
         "1": "Koga",
         "_deepnote_index_column": 13
        },
        {
         "0": "Nikita",
         "1": "Ulyanov",
         "_deepnote_index_column": 14
        },
        {
         "0": "Thomas",
         "1": "Ceccon",
         "_deepnote_index_column": 15
        },
        {
         "0": "Mark",
         "1": "Nikolaev",
         "_deepnote_index_column": 16
        },
        {
         "0": "Apostolos",
         "1": "Christou",
         "_deepnote_index_column": 17
        },
        {
         "0": "Gabriel",
         "1": "Fantoni",
         "_deepnote_index_column": 18
        },
        {
         "0": "Kacper",
         "1": "Stokowski",
         "_deepnote_index_column": 19
        },
        {
         "0": "Bryce",
         "1": "Mefford",
         "_deepnote_index_column": 20
        },
        {
         "0": "Markus",
         "1": "Thormeyer",
         "_deepnote_index_column": 21
        },
        {
         "0": "Bradley",
         "1": "Woodward",
         "_deepnote_index_column": 22
        },
        {
         "0": "Javier",
         "1": "Acevedo",
         "_deepnote_index_column": 23
        },
        {
         "0": "Christopher",
         "1": "Reid",
         "_deepnote_index_column": 24
        },
        {
         "0": "Christian",
         "1": "Diener",
         "_deepnote_index_column": 25
        },
        {
         "0": "Jacob",
         "1": "Pebley",
         "_deepnote_index_column": 26
        },
        {
         "0": "Shane",
         "1": "Ryan",
         "_deepnote_index_column": 27
        },
        {
         "0": "Tristan",
         "1": "Hollard",
         "_deepnote_index_column": 28
        },
        {
         "0": "Yakov",
         "1": "Toumarkin",
         "_deepnote_index_column": 29
        },
        {
         "0": "Daniel",
         "1": "Carr",
         "_deepnote_index_column": 30
        },
        {
         "0": "Coleman",
         "1": "Stewart",
         "_deepnote_index_column": 31
        },
        {
         "0": "Richárd",
         "1": "Bohus",
         "_deepnote_index_column": 32
        },
        {
         "0": "Guilherme",
         "1": "Guido",
         "_deepnote_index_column": 33
        },
        {
         "0": "Austin",
         "1": "Katz",
         "_deepnote_index_column": 34
        },
        {
         "0": "Masaki",
         "1": "Kaneko",
         "_deepnote_index_column": 35
        },
        {
         "0": "Li",
         "1": "Guangyuan",
         "_deepnote_index_column": 36
        },
        {
         "0": "Lee",
         "1": "Ju-Ho",
         "_deepnote_index_column": 37
        },
        {
         "0": "Dean",
         "1": "Farris",
         "_deepnote_index_column": 38
        },
        {
         "0": "Chris",
         "1": "Walker-Hebborn",
         "_deepnote_index_column": 39
        },
        {
         "0": "Jan-Philip",
         "1": "Glania",
         "_deepnote_index_column": 40
        },
        {
         "0": "Junya",
         "1": "Hasegawa",
         "_deepnote_index_column": 41
        },
        {
         "0": "Matteo",
         "1": "Milli",
         "_deepnote_index_column": 42
        },
        {
         "0": "Park",
         "1": "Seon-Kwan",
         "_deepnote_index_column": 43
        },
        {
         "0": "Mikita",
         "1": "Tsmyh",
         "_deepnote_index_column": 44
        },
        {
         "0": "Hayate",
         "1": "Matsubara",
         "_deepnote_index_column": 45
        },
        {
         "0": "Nick",
         "1": "Alexander",
         "_deepnote_index_column": 46
        },
        {
         "0": "Luke",
         "1": "Greenbank",
         "_deepnote_index_column": 47
        },
        {
         "0": "Alexander",
         "1": "Graham",
         "_deepnote_index_column": 48
        },
        {
         "0": "Paul",
         "1": "Gabriel Bedel",
         "_deepnote_index_column": 49
        },
        {
         "0": "Conor",
         "1": "Ferguson",
         "_deepnote_index_column": 50
        },
        {
         "0": "Stanislas",
         "1": "Huille",
         "_deepnote_index_column": 51
        },
        {
         "0": "Benjamin",
         "1": "Treffers",
         "_deepnote_index_column": 52
        },
        {
         "0": "Christopher",
         "1": "Ciccarese",
         "_deepnote_index_column": 53
        },
        {
         "0": "Nicolas",
         "1": "Albiero",
         "_deepnote_index_column": 54
        },
        {
         "0": "Nikos",
         "1": "Sofianidis",
         "_deepnote_index_column": 55
        },
        {
         "0": "Josh",
         "1": "Beaver",
         "_deepnote_index_column": 56
        },
        {
         "0": "Matteo",
         "1": "Restivo",
         "_deepnote_index_column": 57
        },
        {
         "0": "Maxence",
         "1": "Orange",
         "_deepnote_index_column": 58
        },
        {
         "0": "Masato",
         "1": "Sakai",
         "_deepnote_index_column": 59
        },
        {
         "0": "Nicholas",
         "1": "Pyle",
         "_deepnote_index_column": 60
        },
        {
         "0": "Shaine",
         "1": "Casas",
         "_deepnote_index_column": 61
        },
        {
         "0": "Xavier",
         "1": "Castelli",
         "_deepnote_index_column": 62
        },
        {
         "0": "Brodie",
         "1": "Williams",
         "_deepnote_index_column": 63
        },
        {
         "0": "Tomáš",
         "1": "Franta",
         "_deepnote_index_column": 64
        },
        {
         "0": "Luke",
         "1": "Kaliszak",
         "_deepnote_index_column": 65
        },
        {
         "0": "Kristóf",
         "1": "Milák",
         "_deepnote_index_column": 66
        },
        {
         "0": "Joey",
         "1": "Reilman",
         "_deepnote_index_column": 67
        },
        {
         "0": "Zheng",
         "1": "Wen Quah",
         "_deepnote_index_column": 68
        },
        {
         "0": "Gábor",
         "1": "Balog",
         "_deepnote_index_column": 69
        },
        {
         "0": "Gustav",
         "1": "Hokfelt",
         "_deepnote_index_column": 70
        },
        {
         "0": "Ryota",
         "1": "Naitou",
         "_deepnote_index_column": 71
        },
        {
         "0": "Wang",
         "1": "Guanbin",
         "_deepnote_index_column": 72
        },
        {
         "0": "Roman",
         "1": "Mityukov",
         "_deepnote_index_column": 73
        },
        {
         "0": "Luca",
         "1": "Mencarini",
         "_deepnote_index_column": 74
        },
        {
         "0": "Ole",
         "1": "Braunschweig",
         "_deepnote_index_column": 75
        },
        {
         "0": "Syunya",
         "1": "Nishimura",
         "_deepnote_index_column": 76
        },
        {
         "0": "Danas",
         "1": "Rapšys",
         "_deepnote_index_column": 77
        },
        {
         "0": "Christopher",
         "1": "Staka",
         "_deepnote_index_column": 78
        },
        {
         "0": "Kang",
         "1": "Ji-Seok",
         "_deepnote_index_column": 79
        },
        {
         "0": "Thierry",
         "1": "Bollin",
         "_deepnote_index_column": 80
        },
        {
         "0": "Dmitry",
         "1": "Maltsev",
         "_deepnote_index_column": 81
        },
        {
         "0": "Michael",
         "1": "Schaeffner",
         "_deepnote_index_column": 82
        },
        {
         "0": "Péter",
         "1": "Bernek",
         "_deepnote_index_column": 83
        },
        {
         "0": "Cameron",
         "1": "Tysoe",
         "_deepnote_index_column": 84
        },
        {
         "0": "Omar",
         "1": "Pinzón",
         "_deepnote_index_column": 85
        },
        {
         "0": "Corey",
         "1": "Main",
         "_deepnote_index_column": 86
        },
        {
         "0": "Rory",
         "1": "McEvoy",
         "_deepnote_index_column": 87
        },
        {
         "0": "David",
         "1": "Gamburg",
         "_deepnote_index_column": 88
        },
        {
         "0": "Juan",
         "1": "Francisco Segura Gutierrez",
         "_deepnote_index_column": 89
        },
        {
         "0": "Georgios",
         "1": "Spanoudakis",
         "_deepnote_index_column": 90
        },
        {
         "0": "Tomoe",
         "1": "Zenimoto Hvas",
         "_deepnote_index_column": 91
        },
        {
         "0": "Matthew",
         "1": "Garcia",
         "_deepnote_index_column": 92
        },
        {
         "0": "Hugo",
         "1": "González",
         "_deepnote_index_column": 93
        },
        {
         "0": "Syuhei",
         "1": "Uno",
         "_deepnote_index_column": 94
        },
        {
         "0": "Benedek",
         "1": "Kovacs",
         "_deepnote_index_column": 95
        },
        {
         "0": "Vladislav",
         "1": "Tazov",
         "_deepnote_index_column": 96
        },
        {
         "0": "Wang",
         "1": "Peng",
         "_deepnote_index_column": 97
        },
        {
         "0": "Hennessey",
         "1": "Stuart",
         "_deepnote_index_column": 98
        },
        {
         "0": "I",
         "1": "Gede Siman Sudartawa",
         "_deepnote_index_column": 99
        },
        {
         "0": "Will",
         "1": "Grant",
         "_deepnote_index_column": 100
        },
        {
         "0": "Radoslaw",
         "1": "Kawecki",
         "_deepnote_index_column": 101
        },
        {
         "0": "Clark",
         "1": "Beach",
         "_deepnote_index_column": 102
        },
        {
         "0": "Bernhard",
         "1": "Reitshammer",
         "_deepnote_index_column": 103
        },
        {
         "0": "Kamil",
         "1": "Kazmierczak",
         "_deepnote_index_column": 104
        },
        {
         "0": "Bryce",
         "1": "Bohman",
         "_deepnote_index_column": 105
        },
        {
         "0": "Vladimir",
         "1": "Morozov",
         "_deepnote_index_column": 106
        },
        {
         "0": "Tomasz",
         "1": "Polewka",
         "_deepnote_index_column": 107
        },
        {
         "0": "Elliot",
         "1": "Clogg",
         "_deepnote_index_column": 108
        },
        {
         "0": "Peter",
         "1": "Mills",
         "_deepnote_index_column": 109
        },
        {
         "0": "Keita",
         "1": "Sunama",
         "_deepnote_index_column": 110
        },
        {
         "0": "Daniel",
         "1": "Cross",
         "_deepnote_index_column": 111
        },
        {
         "0": "Ralf",
         "1": "Tribuntsov",
         "_deepnote_index_column": 112
        },
        {
         "0": "William",
         "1": "Yang",
         "_deepnote_index_column": 113
        },
        {
         "0": "Gytis",
         "1": "Stankevicius",
         "_deepnote_index_column": 114
        },
        {
         "0": "Ryan",
         "1": "Gridley",
         "_deepnote_index_column": 115
        },
        {
         "0": "Roman",
         "1": "Larin",
         "_deepnote_index_column": 116
        },
        {
         "0": "Josh",
         "1": "Artmann",
         "_deepnote_index_column": 117
        },
        {
         "0": "Cheng",
         "1": "Tianyu",
         "_deepnote_index_column": 118
        },
        {
         "0": "Nikita",
         "1": "Babchenko",
         "_deepnote_index_column": 119
        },
        {
         "0": "Calvyn",
         "1": "Justus",
         "_deepnote_index_column": 120
        },
        {
         "0": "Jorge",
         "1": "Martin Lozoya",
         "_deepnote_index_column": 121
        },
        {
         "0": "Fabio",
         "1": "Santi",
         "_deepnote_index_column": 122
        },
        {
         "0": "Zac",
         "1": "Incerti",
         "_deepnote_index_column": 123
        },
        {
         "0": "Jacopo",
         "1": "Bietti",
         "_deepnote_index_column": 124
        },
        {
         "0": "Jacob",
         "1": "Steele",
         "_deepnote_index_column": 125
        },
        {
         "0": "Craig",
         "1": "McNally",
         "_deepnote_index_column": 126
        },
        {
         "0": "Guilherme",
         "1": "Basseto",
         "_deepnote_index_column": 127
        },
        {
         "0": "Gábor",
         "1": "Zombori",
         "_deepnote_index_column": 128
        },
        {
         "0": "Vitor",
         "1": "Nascimento Guaraldo Santo",
         "_deepnote_index_column": 129
        },
        {
         "0": "Lorenzo",
         "1": "Mora",
         "_deepnote_index_column": 130
        },
        {
         "0": "Nathan",
         "1": "Bighetti",
         "_deepnote_index_column": 131
        },
        {
         "0": "William",
         "1": "Stockwell",
         "_deepnote_index_column": 132
        },
        {
         "0": "Emanuel",
         "1": "Turchi",
         "_deepnote_index_column": 133
        },
        {
         "0": "Martyn",
         "1": "Walton",
         "_deepnote_index_column": 134
        },
        {
         "0": "Won",
         "1": "Youngjun",
         "_deepnote_index_column": 135
        },
        {
         "0": "Wang",
         "1": "Shun",
         "_deepnote_index_column": 136
        },
        {
         "0": "Takahiro",
         "1": "Yamazaki",
         "_deepnote_index_column": 137
        },
        {
         "0": "Yuma",
         "1": "Edo",
         "_deepnote_index_column": 138
        },
        {
         "0": "Mateusz",
         "1": "Ungeheuer",
         "_deepnote_index_column": 139
        },
        {
         "0": "Taishi",
         "1": "Natsume",
         "_deepnote_index_column": 140
        },
        {
         "0": "Carson",
         "1": "Foster",
         "_deepnote_index_column": 141
        },
        {
         "0": "Chad",
         "1": "Le Clos",
         "_deepnote_index_column": 142
        },
        {
         "0": "Emmanuel",
         "1": "Vanluchene",
         "_deepnote_index_column": 143
        },
        {
         "0": "Anton",
         "1": "Loncar",
         "_deepnote_index_column": 144
        },
        {
         "0": "John",
         "1": "Shebat",
         "_deepnote_index_column": 145
        },
        {
         "0": "Pavel",
         "1": "Tatarenko",
         "_deepnote_index_column": 146
        },
        {
         "0": "Youssef",
         "1": "Said",
         "_deepnote_index_column": 147
        },
        {
         "0": "Maxim",
         "1": "Tretyakov",
         "_deepnote_index_column": 148
        },
        {
         "0": "Egor",
         "1": "Pavlov",
         "_deepnote_index_column": 149
        },
        {
         "0": "Max",
         "1": "St. George",
         "_deepnote_index_column": 150
        },
        {
         "0": "Jakub",
         "1": "Skierka",
         "_deepnote_index_column": 151
        },
        {
         "0": "Simon",
         "1": "Sjödin",
         "_deepnote_index_column": 152
        },
        {
         "0": "Paul",
         "1": "Le Nguyen",
         "_deepnote_index_column": 153
        },
        {
         "0": "Michele",
         "1": "Lamberti",
         "_deepnote_index_column": 154
        },
        {
         "0": "Nyls",
         "1": "Korstanje",
         "_deepnote_index_column": 155
        },
        {
         "0": "Armando",
         "1": "Barrera",
         "_deepnote_index_column": 156
        },
        {
         "0": "Viktar",
         "1": "Staselovich",
         "_deepnote_index_column": 157
        },
        {
         "0": "Khoi",
         "1": "Tran Duy",
         "_deepnote_index_column": 158
        },
        {
         "0": "Mohamed",
         "1": "Samy El Sayed",
         "_deepnote_index_column": 159
        },
        {
         "0": "Maxim",
         "1": "Stupin",
         "_deepnote_index_column": 160
        },
        {
         "0": "Niccolò",
         "1": "Bonacchi",
         "_deepnote_index_column": 161
        },
        {
         "0": "Takeshi",
         "1": "Kawamoto",
         "_deepnote_index_column": 162
        },
        {
         "0": "Destin",
         "1": "Lasco",
         "_deepnote_index_column": 163
        },
        {
         "0": "Nikolai",
         "1": "Zuev",
         "_deepnote_index_column": 164
        },
        {
         "0": "Markus",
         "1": "Lie",
         "_deepnote_index_column": 165
        },
        {
         "0": "Andreas",
         "1": "Wiesner",
         "_deepnote_index_column": 166
        },
        {
         "0": "Adil",
         "1": "Kaskabay",
         "_deepnote_index_column": 167
        },
        {
         "0": "Jacques",
         "1": "van Wyk",
         "_deepnote_index_column": 168
        },
        {
         "0": "Michael",
         "1": "Laitarovsky",
         "_deepnote_index_column": 169
        },
        {
         "0": "Jonatan",
         "1": "Kopelev",
         "_deepnote_index_column": 170
        },
        {
         "0": "Peter",
         "1": "Larson",
         "_deepnote_index_column": 171
        },
        {
         "0": "Zachary",
         "1": "Poti",
         "_deepnote_index_column": 172
        },
        {
         "0": "Keisuke",
         "1": "Ohyama",
         "_deepnote_index_column": 173
        },
        {
         "0": "Joseph",
         "1": "Clark",
         "_deepnote_index_column": 174
        },
        {
         "0": "Ádám",
         "1": "Telegdy",
         "_deepnote_index_column": 175
        },
        {
         "0": "Meguru",
         "1": "Hotta",
         "_deepnote_index_column": 176
        },
        {
         "0": "Karl-Johann",
         "1": "Luht",
         "_deepnote_index_column": 177
        },
        {
         "0": "Taylor",
         "1": "Dale",
         "_deepnote_index_column": 178
        },
        {
         "0": "Ryan",
         "1": "Harty",
         "_deepnote_index_column": 179
        },
        {
         "0": "Mewen",
         "1": "Tomac",
         "_deepnote_index_column": 180
        },
        {
         "0": "Kim",
         "1": "Ji-Heun",
         "_deepnote_index_column": 181
        },
        {
         "0": "David",
         "1": "Fridlander",
         "_deepnote_index_column": 182
        },
        {
         "0": "Kane",
         "1": "Follows",
         "_deepnote_index_column": 183
        },
        {
         "0": "Alessandro",
         "1": "Boratto",
         "_deepnote_index_column": 184
        },
        {
         "0": "Martin",
         "1": "Binedell",
         "_deepnote_index_column": 185
        },
        {
         "0": "Robert",
         "1": "Hill",
         "_deepnote_index_column": 186
        },
        {
         "0": "Junki",
         "1": "Yasuda",
         "_deepnote_index_column": 187
        },
        {
         "0": "Thomas",
         "1": "Avetand",
         "_deepnote_index_column": 188
        },
        {
         "0": "Leonardo",
         "1": "de Deus",
         "_deepnote_index_column": 189
        },
        {
         "0": "Akira",
         "1": "Nakanishi",
         "_deepnote_index_column": 190
        },
        {
         "0": "Andy",
         "1": "Xianyang Song An",
         "_deepnote_index_column": 191
        },
        {
         "0": "Song",
         "1": "Imgyu",
         "_deepnote_index_column": 192
        },
        {
         "0": "Syunichi",
         "1": "Nakao",
         "_deepnote_index_column": 193
        },
        {
         "0": "Joseph",
         "1": "Hulme",
         "_deepnote_index_column": 194
        },
        {
         "0": "Leon",
         "1": "MacAlister",
         "_deepnote_index_column": 195
        },
        {
         "0": "Gabriel",
         "1": "Lopes",
         "_deepnote_index_column": 196
        },
        {
         "0": "Girts",
         "1": "Feldbergs",
         "_deepnote_index_column": 197
        },
        {
         "0": "Giulio",
         "1": "Brugnoni",
         "_deepnote_index_column": 198
        },
        {
         "0": "Jacob",
         "1": "Molacek",
         "_deepnote_index_column": 199
        },
        {
         "0": "Jakub",
         "1": "Kraska",
         "_deepnote_index_column": 200
        },
        {
         "0": "Giulio",
         "1": "Ciavarella",
         "_deepnote_index_column": 201
        },
        {
         "0": "Jan",
         "1": "Cejka",
         "_deepnote_index_column": 202
        },
        {
         "0": "Yuutarou",
         "1": "Kaneko",
         "_deepnote_index_column": 203
        },
        {
         "0": "Alessandro",
         "1": "Baffi",
         "_deepnote_index_column": 204
        },
        {
         "0": "Wang",
         "1": "Yutian",
         "_deepnote_index_column": 205
        },
        {
         "0": "Jack",
         "1": "Selman",
         "_deepnote_index_column": 206
        },
        {
         "0": "Manuel",
         "1": "Martos",
         "_deepnote_index_column": 207
        },
        {
         "0": "Yohann",
         "1": "Ndoye Brouard",
         "_deepnote_index_column": 208
        },
        {
         "0": "Corneille",
         "1": "Coetzee",
         "_deepnote_index_column": 209
        },
        {
         "0": "Metin",
         "1": "Aydin",
         "_deepnote_index_column": 210
        },
        {
         "0": "Shrihari",
         "1": "Nartaj",
         "_deepnote_index_column": 211
        },
        {
         "0": "Aidan",
         "1": "Stoffle",
         "_deepnote_index_column": 212
        },
        {
         "0": "Robinson",
         "1": "Molina",
         "_deepnote_index_column": 213
        },
        {
         "0": "Adam",
         "1": "Chaney",
         "_deepnote_index_column": 214
        },
        {
         "0": "Andrei",
         "1": "Mircea Anghel",
         "_deepnote_index_column": 215
        },
        {
         "0": "Björn",
         "1": "Seeliger",
         "_deepnote_index_column": 216
        },
        {
         "0": "Panagiotis",
         "1": "Bolanos",
         "_deepnote_index_column": 217
        },
        {
         "0": "Jorden",
         "1": "Merrilees",
         "_deepnote_index_column": 218
        },
        {
         "0": "Jin",
         "1": "Yan",
         "_deepnote_index_column": 219
        },
        {
         "0": "Tim",
         "1": "Connery",
         "_deepnote_index_column": 220
        },
        {
         "0": "Geoffroy",
         "1": "Mathieu",
         "_deepnote_index_column": 221
        },
        {
         "0": "Hiroki",
         "1": "Sakurai",
         "_deepnote_index_column": 222
        },
        {
         "0": "Brock",
         "1": "Bonetti",
         "_deepnote_index_column": 223
        },
        {
         "0": "Lin",
         "1": "Tao",
         "_deepnote_index_column": 224
        },
        {
         "0": "Jean",
         "1": "Lamorisse",
         "_deepnote_index_column": 225
        },
        {
         "0": "Sjobbe",
         "1": "Luyten",
         "_deepnote_index_column": 226
        },
        {
         "0": "Timothy",
         "1": "Shuttleworth",
         "_deepnote_index_column": 227
        },
        {
         "0": "Daniel",
         "1": "Hein",
         "_deepnote_index_column": 228
        },
        {
         "0": "Karol",
         "1": "Mlynarczyk",
         "_deepnote_index_column": 229
        },
        {
         "0": "David",
         "1": "Puczkowski",
         "_deepnote_index_column": 230
        },
        {
         "0": "Cole",
         "1": "Pratt",
         "_deepnote_index_column": 231
        },
        {
         "0": "Damiano",
         "1": "Lestingi",
         "_deepnote_index_column": 232
        },
        {
         "0": "Josiah",
         "1": "Binnema",
         "_deepnote_index_column": 233
        },
        {
         "0": "Sebastian",
         "1": "Somerset",
         "_deepnote_index_column": 234
        },
        {
         "0": "Francisco",
         "1": "Rogerio Santos",
         "_deepnote_index_column": 235
        },
        {
         "0": "Syuyu",
         "1": "Kinoshita",
         "_deepnote_index_column": 236
        },
        {
         "0": "Tadanobu",
         "1": "Tokiwa",
         "_deepnote_index_column": 237
        },
        {
         "0": "Rafal",
         "1": "Bugdol",
         "_deepnote_index_column": 238
        },
        {
         "0": "Rob",
         "1": "Zofchak",
         "_deepnote_index_column": 239
        },
        {
         "0": "Kazuhide",
         "1": "Shigemi",
         "_deepnote_index_column": 240
        },
        {
         "0": "Oliver",
         "1": "Fitt",
         "_deepnote_index_column": 241
        },
        {
         "0": "Joseph",
         "1": "Small",
         "_deepnote_index_column": 242
        },
        {
         "0": "Chuang",
         "1": "Mu-Lun",
         "_deepnote_index_column": 243
        },
        {
         "0": "Maksim",
         "1": "Fofanov",
         "_deepnote_index_column": 244
        },
        {
         "0": "Jia",
         "1": "Yi Francis Fong",
         "_deepnote_index_column": 245
        },
        {
         "0": "Hiroki",
         "1": "Ryu",
         "_deepnote_index_column": 246
        },
        {
         "0": "Charles",
         "1": "Hockin",
         "_deepnote_index_column": 247
        },
        {
         "0": "Park",
         "1": "Sungwoong",
         "_deepnote_index_column": 248
        },
        {
         "0": "Lukas",
         "1": "Loewel",
         "_deepnote_index_column": 249
        }
       ],
       "rows_bottom": [
        {
         "0": "Špela",
         "1": "Perše",
         "_deepnote_index_column": 16698
        },
        {
         "0": "Margaux",
         "1": "Verger Gourson",
         "_deepnote_index_column": 16699
        },
        {
         "0": "Luca",
         "1": "Vas",
         "_deepnote_index_column": 16700
        },
        {
         "0": "Yumi",
         "1": "Kida",
         "_deepnote_index_column": 16701
        },
        {
         "0": "Arianna",
         "1": "Valloni",
         "_deepnote_index_column": 16702
        },
        {
         "0": "Liu",
         "1": "Xinyan",
         "_deepnote_index_column": 16703
        },
        {
         "0": "Ekaterina",
         "1": "Sorokina",
         "_deepnote_index_column": 16704
        },
        {
         "0": "Maggie",
         "1": "Wallace",
         "_deepnote_index_column": 16705
        },
        {
         "0": "Martha",
         "1": "Aguilar Ortega",
         "_deepnote_index_column": 16706
        },
        {
         "0": "Maria",
         "1": "Mascaro Trobat",
         "_deepnote_index_column": 16707
        },
        {
         "0": "Yulia",
         "1": "Groysman",
         "_deepnote_index_column": 16708
        },
        {
         "0": "Milena",
         "1": "Karpisz",
         "_deepnote_index_column": 16709
        },
        {
         "0": "Hanaka",
         "1": "Kawata",
         "_deepnote_index_column": 16710
        },
        {
         "0": "Abigail",
         "1": "Meder",
         "_deepnote_index_column": 16711
        },
        {
         "0": "Yuu",
         "1": "Kitada",
         "_deepnote_index_column": 16712
        },
        {
         "0": "Kim",
         "1": "Jinha",
         "_deepnote_index_column": 16713
        },
        {
         "0": "Aino",
         "1": "Otava",
         "_deepnote_index_column": 16714
        },
        {
         "0": "Gali",
         "1": "Zilberberg",
         "_deepnote_index_column": 16715
        },
        {
         "0": "Abbey",
         "1": "Erwin",
         "_deepnote_index_column": 16716
        },
        {
         "0": "Fanni",
         "1": "Fabian",
         "_deepnote_index_column": 16717
        },
        {
         "0": "Erika",
         "1": "Villaecija",
         "_deepnote_index_column": 16718
        },
        {
         "0": "Alizée",
         "1": "Morel",
         "_deepnote_index_column": 16719
        },
        {
         "0": "Melissa",
         "1": "Pish",
         "_deepnote_index_column": 16720
        },
        {
         "0": "Rebekah",
         "1": "Sefton",
         "_deepnote_index_column": 16721
        },
        {
         "0": "Chenoa",
         "1": "Devine",
         "_deepnote_index_column": 16722
        },
        {
         "0": "Abigail",
         "1": "Kilgallon",
         "_deepnote_index_column": 16723
        },
        {
         "0": "Gao",
         "1": "Xing",
         "_deepnote_index_column": 16724
        },
        {
         "0": "Lee",
         "1": "Jeongmin",
         "_deepnote_index_column": 16725
        },
        {
         "0": "Ge",
         "1": "Chutong",
         "_deepnote_index_column": 16726
        },
        {
         "0": "Eve",
         "1": "Lutze",
         "_deepnote_index_column": 16727
        },
        {
         "0": "Jacinta",
         "1": "Essam",
         "_deepnote_index_column": 16728
        },
        {
         "0": "Ho",
         "1": "Nam Wai",
         "_deepnote_index_column": 16729
        },
        {
         "0": "Duné",
         "1": "Coetzee",
         "_deepnote_index_column": 16730
        },
        {
         "0": "Aurora",
         "1": "Ponselè",
         "_deepnote_index_column": 16731
        },
        {
         "0": "Hayley",
         "1": "McIntosh",
         "_deepnote_index_column": 16732
        },
        {
         "0": "Risa",
         "1": "Yoshioka",
         "_deepnote_index_column": 16733
        },
        {
         "0": "Niamh",
         "1": "Hofland",
         "_deepnote_index_column": 16734
        },
        {
         "0": "Ammiga",
         "1": "Himathongkom",
         "_deepnote_index_column": 16735
        },
        {
         "0": "Midori",
         "1": "Kawasaki",
         "_deepnote_index_column": 16736
        },
        {
         "0": "Madeleine",
         "1": "Crompton",
         "_deepnote_index_column": 16737
        },
        {
         "0": "Jenna",
         "1": "Forrester",
         "_deepnote_index_column": 16738
        },
        {
         "0": "Paula",
         "1": "Ruiz",
         "_deepnote_index_column": 16739
        },
        {
         "0": "Adumi",
         "1": "Akai",
         "_deepnote_index_column": 16740
        },
        {
         "0": "Marina",
         "1": "Castro",
         "_deepnote_index_column": 16741
        },
        {
         "0": "Kelly",
         "1": "Fertel",
         "_deepnote_index_column": 16742
        },
        {
         "0": "Claudia",
         "1": "Espinosa Patilla",
         "_deepnote_index_column": 16743
        },
        {
         "0": "Rachele",
         "1": "Bruni",
         "_deepnote_index_column": 16744
        },
        {
         "0": "Olivia",
         "1": "Johnson",
         "_deepnote_index_column": 16745
        },
        {
         "0": "Zhao",
         "1": "Yutong",
         "_deepnote_index_column": 16746
        },
        {
         "0": "Lyu",
         "1": "Jiayi",
         "_deepnote_index_column": 16747
        },
        {
         "0": "Kiyo",
         "1": "Hamanaka",
         "_deepnote_index_column": 16748
        },
        {
         "0": "Giulia",
         "1": "Goerigk",
         "_deepnote_index_column": 16749
        },
        {
         "0": "Stephanie",
         "1": "Horner",
         "_deepnote_index_column": 16750
        },
        {
         "0": "Chu",
         "1": "Xu",
         "_deepnote_index_column": 16751
        },
        {
         "0": "Yuen",
         "1": "Koike",
         "_deepnote_index_column": 16752
        },
        {
         "0": "Réka",
         "1": "Rohács",
         "_deepnote_index_column": 16753
        },
        {
         "0": "Laura",
         "1": "Taylor",
         "_deepnote_index_column": 16754
        },
        {
         "0": "Sandra",
         "1": "Scott",
         "_deepnote_index_column": 16755
        },
        {
         "0": "Autumn",
         "1": "Haebig",
         "_deepnote_index_column": 16756
        },
        {
         "0": "Elizabeth",
         "1": "Boeckman",
         "_deepnote_index_column": 16757
        },
        {
         "0": "Serena",
         "1": "Stel",
         "_deepnote_index_column": 16758
        },
        {
         "0": "Song",
         "1": "Dingsiman",
         "_deepnote_index_column": 16759
        },
        {
         "0": "Katie",
         "1": "Duggan",
         "_deepnote_index_column": 16760
        },
        {
         "0": "Addison",
         "1": "Smith",
         "_deepnote_index_column": 16761
        },
        {
         "0": "Dong",
         "1": "Fuwei",
         "_deepnote_index_column": 16762
        },
        {
         "0": "Malene",
         "1": "Rypestøl",
         "_deepnote_index_column": 16763
        },
        {
         "0": "Jessica",
         "1": "Lavin",
         "_deepnote_index_column": 16764
        },
        {
         "0": "Lola",
         "1": "Davison",
         "_deepnote_index_column": 16765
        },
        {
         "0": "Amami",
         "1": "Fujimoto",
         "_deepnote_index_column": 16766
        },
        {
         "0": "Alexandra",
         "1": "Frazão",
         "_deepnote_index_column": 16767
        },
        {
         "0": "Yan",
         "1": "Xin",
         "_deepnote_index_column": 16768
        },
        {
         "0": "Niko",
         "1": "Aoki",
         "_deepnote_index_column": 16769
        },
        {
         "0": "Kathryn",
         "1": "Painter",
         "_deepnote_index_column": 16770
        },
        {
         "0": "Yui",
         "1": "Osada",
         "_deepnote_index_column": 16771
        },
        {
         "0": "Samantha",
         "1": "Bello",
         "_deepnote_index_column": 16772
        },
        {
         "0": "Franzi",
         "1": "Heinrich",
         "_deepnote_index_column": 16773
        },
        {
         "0": "Meg",
         "1": "Finnon",
         "_deepnote_index_column": 16774
        },
        {
         "0": "Lili",
         "1": "Horvath",
         "_deepnote_index_column": 16775
        },
        {
         "0": "Michela",
         "1": "Caglio",
         "_deepnote_index_column": 16776
        },
        {
         "0": "Beatriz",
         "1": "Pimentel Dizotti",
         "_deepnote_index_column": 16777
        },
        {
         "0": "Mojca",
         "1": "Hancman",
         "_deepnote_index_column": 16778
        },
        {
         "0": "Katrina",
         "1": "Bellio",
         "_deepnote_index_column": 16779
        },
        {
         "0": "Nicole",
         "1": "Ryan",
         "_deepnote_index_column": 16780
        },
        {
         "0": "Polina",
         "1": "Nevmovenko",
         "_deepnote_index_column": 16781
        },
        {
         "0": "Laura",
         "1": "Setz",
         "_deepnote_index_column": 16782
        },
        {
         "0": "Hitomi",
         "1": "Okamura",
         "_deepnote_index_column": 16783
        },
        {
         "0": "Thi",
         "1": "Anh Vien Nguyen",
         "_deepnote_index_column": 16784
        },
        {
         "0": "Chen",
         "1": "Huihui",
         "_deepnote_index_column": 16785
        },
        {
         "0": "Wang",
         "1": "Qianzhuo",
         "_deepnote_index_column": 16786
        },
        {
         "0": "Tian",
         "1": "Muran",
         "_deepnote_index_column": 16787
        },
        {
         "0": "Qiu",
         "1": "Shishu",
         "_deepnote_index_column": 16788
        },
        {
         "0": "Sandra",
         "1": "Soe",
         "_deepnote_index_column": 16789
        },
        {
         "0": "Emma",
         "1": "Sundstedt",
         "_deepnote_index_column": 16790
        },
        {
         "0": "Buse",
         "1": "Topcu",
         "_deepnote_index_column": 16791
        },
        {
         "0": "Olivia",
         "1": "Adams",
         "_deepnote_index_column": 16792
        },
        {
         "0": "Emma",
         "1": "Nordin",
         "_deepnote_index_column": 16793
        },
        {
         "0": "Maria",
         "1": "Storstein",
         "_deepnote_index_column": 16794
        },
        {
         "0": "Anna",
         "1": "Olasz",
         "_deepnote_index_column": 16795
        },
        {
         "0": "Lauren",
         "1": "Case",
         "_deepnote_index_column": 16796
        },
        {
         "0": "Mollie",
         "1": "Wright",
         "_deepnote_index_column": 16797
        },
        {
         "0": "Erika",
         "1": "Fairweather",
         "_deepnote_index_column": 16798
        },
        {
         "0": "Ekaterina",
         "1": "Zotova",
         "_deepnote_index_column": 16799
        },
        {
         "0": "Eve",
         "1": "Thomas",
         "_deepnote_index_column": 16800
        },
        {
         "0": "Sumire",
         "1": "Satou",
         "_deepnote_index_column": 16801
        },
        {
         "0": "Ayumi",
         "1": "Yoshizawa",
         "_deepnote_index_column": 16802
        },
        {
         "0": "Lean",
         "1": "Cabon",
         "_deepnote_index_column": 16803
        },
        {
         "0": "Miyu",
         "1": "Hirohashi",
         "_deepnote_index_column": 16804
        },
        {
         "0": "Paige",
         "1": "Kuwata",
         "_deepnote_index_column": 16805
        },
        {
         "0": "Lam",
         "1": "Hoi Kiu",
         "_deepnote_index_column": 16806
        },
        {
         "0": "Rachel",
         "1": "Anderson",
         "_deepnote_index_column": 16807
        },
        {
         "0": "Tori",
         "1": "Culotta",
         "_deepnote_index_column": 16808
        },
        {
         "0": "Marlene",
         "1": "Blanke",
         "_deepnote_index_column": 16809
        },
        {
         "0": "Tang",
         "1": "Tsoi Lam Katii",
         "_deepnote_index_column": 16810
        },
        {
         "0": "Svenja",
         "1": "Zihsler",
         "_deepnote_index_column": 16811
        },
        {
         "0": "Teresa",
         "1": "Persiano",
         "_deepnote_index_column": 16812
        },
        {
         "0": "Yuki",
         "1": "Koshikawa",
         "_deepnote_index_column": 16813
        },
        {
         "0": "Hania",
         "1": "Moro",
         "_deepnote_index_column": 16814
        },
        {
         "0": "Bekky",
         "1": "Pozdner",
         "_deepnote_index_column": 16815
        },
        {
         "0": "Charlotte",
         "1": "Blanke",
         "_deepnote_index_column": 16816
        },
        {
         "0": "Eleonora",
         "1": "Brotto",
         "_deepnote_index_column": 16817
        },
        {
         "0": "Liu",
         "1": "Haiyun",
         "_deepnote_index_column": 16818
        },
        {
         "0": "Tian",
         "1": "Yiran",
         "_deepnote_index_column": 16819
        },
        {
         "0": "Ewa",
         "1": "Jaszczuk",
         "_deepnote_index_column": 16820
        },
        {
         "0": "Lauryn",
         "1": "Johnson",
         "_deepnote_index_column": 16821
        },
        {
         "0": "Foteini",
         "1": "Metsiou",
         "_deepnote_index_column": 16822
        },
        {
         "0": "Laura",
         "1": "Rodriguez Santaulari",
         "_deepnote_index_column": 16823
        },
        {
         "0": "Matea",
         "1": "Sumajstorcic",
         "_deepnote_index_column": 16824
        },
        {
         "0": "Reka",
         "1": "Nagy",
         "_deepnote_index_column": 16825
        },
        {
         "0": "Su",
         "1": "Jie",
         "_deepnote_index_column": 16826
        },
        {
         "0": "Alessia",
         "1": "Capitanio",
         "_deepnote_index_column": 16827
        },
        {
         "0": "Lyu",
         "1": "Zeying",
         "_deepnote_index_column": 16828
        },
        {
         "0": "Grace",
         "1": "Kowal",
         "_deepnote_index_column": 16829
        },
        {
         "0": "Ane",
         "1": "De La Fuente Fiano",
         "_deepnote_index_column": 16830
        },
        {
         "0": "Giulia",
         "1": "Berton",
         "_deepnote_index_column": 16831
        },
        {
         "0": "Ana",
         "1": "Monteiro",
         "_deepnote_index_column": 16832
        },
        {
         "0": "Emilia",
         "1": "Sansome",
         "_deepnote_index_column": 16833
        },
        {
         "0": "Tang",
         "1": "Muhan",
         "_deepnote_index_column": 16834
        },
        {
         "0": "Petra",
         "1": "Mijic",
         "_deepnote_index_column": 16835
        },
        {
         "0": "Leah",
         "1": "Degeorge",
         "_deepnote_index_column": 16836
        },
        {
         "0": "Francesca",
         "1": "Bertotto",
         "_deepnote_index_column": 16837
        },
        {
         "0": "Emma",
         "1": "Barksdale",
         "_deepnote_index_column": 16838
        },
        {
         "0": "Paula",
         "1": "Juste Sanchez",
         "_deepnote_index_column": 16839
        },
        {
         "0": "Yui",
         "1": "Kushida",
         "_deepnote_index_column": 16840
        },
        {
         "0": "Aroa",
         "1": "Silva Fidalgo",
         "_deepnote_index_column": 16841
        },
        {
         "0": "Claudia",
         "1": "Giralt Pidemont",
         "_deepnote_index_column": 16842
        },
        {
         "0": "Philippa",
         "1": "O'Brien",
         "_deepnote_index_column": 16843
        },
        {
         "0": "Eliot",
         "1": "Kennedy",
         "_deepnote_index_column": 16844
        },
        {
         "0": "China",
         "1": "Caracas Ramirez",
         "_deepnote_index_column": 16845
        },
        {
         "0": "Haruno",
         "1": "Sakamoto",
         "_deepnote_index_column": 16846
        },
        {
         "0": "Caitlin",
         "1": "Deans",
         "_deepnote_index_column": 16847
        },
        {
         "0": "Momoko",
         "1": "Shiina",
         "_deepnote_index_column": 16848
        },
        {
         "0": "Ashley",
         "1": "Neas",
         "_deepnote_index_column": 16849
        },
        {
         "0": "Emily",
         "1": "Ecker",
         "_deepnote_index_column": 16850
        },
        {
         "0": "Katelyn",
         "1": "Kilpatrick",
         "_deepnote_index_column": 16851
        },
        {
         "0": "Azra",
         "1": "Avdic",
         "_deepnote_index_column": 16852
        },
        {
         "0": "Julia",
         "1": "Diogo",
         "_deepnote_index_column": 16853
        },
        {
         "0": "Mayu",
         "1": "Kuwahata",
         "_deepnote_index_column": 16854
        },
        {
         "0": "Seino",
         "1": "Masuda",
         "_deepnote_index_column": 16855
        },
        {
         "0": "Pauline",
         "1": "Mahieu",
         "_deepnote_index_column": 16856
        },
        {
         "0": "Michaella",
         "1": "Glenister",
         "_deepnote_index_column": 16857
        },
        {
         "0": "Giulia",
         "1": "Decataldo",
         "_deepnote_index_column": 16858
        },
        {
         "0": "Teresa",
         "1": "Malipiero",
         "_deepnote_index_column": 16859
        },
        {
         "0": "Jessica",
         "1": "Madden",
         "_deepnote_index_column": 16860
        },
        {
         "0": "Giulia",
         "1": "Fraccaro",
         "_deepnote_index_column": 16861
        },
        {
         "0": "Dasa",
         "1": "Tusek",
         "_deepnote_index_column": 16862
        },
        {
         "0": "Hayley",
         "1": "Pike",
         "_deepnote_index_column": 16863
        },
        {
         "0": "Edith",
         "1": "Mattens",
         "_deepnote_index_column": 16864
        },
        {
         "0": "Marina",
         "1": "Heller Hansen",
         "_deepnote_index_column": 16865
        },
        {
         "0": "Natalia",
         "1": "Jaspeado Becerra",
         "_deepnote_index_column": 16866
        },
        {
         "0": "Chen",
         "1": "Ruohan",
         "_deepnote_index_column": 16867
        },
        {
         "0": "Park",
         "1": "Siae",
         "_deepnote_index_column": 16868
        },
        {
         "0": "Ichika",
         "1": "Kajimoto",
         "_deepnote_index_column": 16869
        },
        {
         "0": "Yuno",
         "1": "Tanaka",
         "_deepnote_index_column": 16870
        },
        {
         "0": "Alexia",
         "1": "Saurel",
         "_deepnote_index_column": 16871
        },
        {
         "0": "Audrey",
         "1": "McMurry",
         "_deepnote_index_column": 16872
        },
        {
         "0": "Freya",
         "1": "Colbert",
         "_deepnote_index_column": 16873
        },
        {
         "0": "Lara-Marie",
         "1": "Schoenfeldt",
         "_deepnote_index_column": 16874
        },
        {
         "0": "Morgan",
         "1": "Tankersley",
         "_deepnote_index_column": 16875
        },
        {
         "0": "Evelin",
         "1": "Edel",
         "_deepnote_index_column": 16876
        },
        {
         "0": "Asuka",
         "1": "Kajita",
         "_deepnote_index_column": 16877
        },
        {
         "0": "Marcella",
         "1": "Ruppert-Gomez",
         "_deepnote_index_column": 16878
        },
        {
         "0": "Federica",
         "1": "Savoia",
         "_deepnote_index_column": 16879
        },
        {
         "0": "Brooke",
         "1": "Switzer",
         "_deepnote_index_column": 16880
        },
        {
         "0": "Caitlynn",
         "1": "Moon",
         "_deepnote_index_column": 16881
        },
        {
         "0": "Yuki",
         "1": "Furuhachi",
         "_deepnote_index_column": 16882
        },
        {
         "0": "Miyu",
         "1": "Nagao",
         "_deepnote_index_column": 16883
        },
        {
         "0": "Paige",
         "1": "McCormick",
         "_deepnote_index_column": 16884
        },
        {
         "0": "Angélica",
         "1": "André",
         "_deepnote_index_column": 16885
        },
        {
         "0": "Silvia",
         "1": "Fagnani",
         "_deepnote_index_column": 16886
        },
        {
         "0": "Yuki",
         "1": "Abe",
         "_deepnote_index_column": 16887
        },
        {
         "0": "Maria",
         "1": "Alvarez",
         "_deepnote_index_column": 16888
        },
        {
         "0": "Lea",
         "1": "Marchal",
         "_deepnote_index_column": 16889
        },
        {
         "0": "Gaia",
         "1": "Capitanio",
         "_deepnote_index_column": 16890
        },
        {
         "0": "Paula",
         "1": "Alonso Lorenzo",
         "_deepnote_index_column": 16891
        },
        {
         "0": "Ibuki",
         "1": "Tsuda",
         "_deepnote_index_column": 16892
        },
        {
         "0": "Rachel",
         "1": "Klinker",
         "_deepnote_index_column": 16893
        },
        {
         "0": "Chloe",
         "1": "Freeman",
         "_deepnote_index_column": 16894
        },
        {
         "0": "Maggie",
         "1": "Graves",
         "_deepnote_index_column": 16895
        },
        {
         "0": "Mayu",
         "1": "Ogawa",
         "_deepnote_index_column": 16896
        },
        {
         "0": "Meina",
         "1": "Hirai",
         "_deepnote_index_column": 16897
        },
        {
         "0": "Brooke",
         "1": "Lamoureux",
         "_deepnote_index_column": 16898
        },
        {
         "0": "Marie",
         "1": "Ximena Conde Merlos",
         "_deepnote_index_column": 16899
        },
        {
         "0": "Rachel",
         "1": "Tseng",
         "_deepnote_index_column": 16900
        },
        {
         "0": "Rebecca",
         "1": "Meder",
         "_deepnote_index_column": 16901
        },
        {
         "0": "Marie",
         "1": "Kuntzmann",
         "_deepnote_index_column": 16902
        },
        {
         "0": "Aisha",
         "1": "Thornton",
         "_deepnote_index_column": 16903
        },
        {
         "0": "Karina",
         "1": "Abrosimova",
         "_deepnote_index_column": 16904
        },
        {
         "0": "Samantha",
         "1": "Arevalo",
         "_deepnote_index_column": 16905
        },
        {
         "0": "Merve",
         "1": "Tuncel",
         "_deepnote_index_column": 16906
        },
        {
         "0": "Hiroko",
         "1": "Ohtsuka",
         "_deepnote_index_column": 16907
        },
        {
         "0": "Ilaria",
         "1": "Murzilli",
         "_deepnote_index_column": 16908
        },
        {
         "0": "Antonia",
         "1": "Stenbrock",
         "_deepnote_index_column": 16909
        },
        {
         "0": "Li",
         "1": "Jiaqi",
         "_deepnote_index_column": 16910
        },
        {
         "0": "Greta",
         "1": "Bonada",
         "_deepnote_index_column": 16911
        },
        {
         "0": "Li",
         "1": "Xinyu",
         "_deepnote_index_column": 16912
        },
        {
         "0": "Marij",
         "1": "van der Mast",
         "_deepnote_index_column": 16913
        },
        {
         "0": "Akiko",
         "1": "Moritomo",
         "_deepnote_index_column": 16914
        },
        {
         "0": "Logan",
         "1": "Shiller",
         "_deepnote_index_column": 16915
        },
        {
         "0": "Anna",
         "1": "Chiara Mascolo",
         "_deepnote_index_column": 16916
        },
        {
         "0": "Paris",
         "1": "Cutler",
         "_deepnote_index_column": 16917
        },
        {
         "0": "Fleur",
         "1": "Lewis",
         "_deepnote_index_column": 16918
        },
        {
         "0": "Barbara",
         "1": "Pozzobon",
         "_deepnote_index_column": 16919
        },
        {
         "0": "Souad",
         "1": "Cherouati",
         "_deepnote_index_column": 16920
        },
        {
         "0": "Anna",
         "1": "Kalandadze",
         "_deepnote_index_column": 16921
        },
        {
         "0": "Emily",
         "1": "Ilgenfritz",
         "_deepnote_index_column": 16922
        },
        {
         "0": "Lim",
         "1": "Hyun Ha",
         "_deepnote_index_column": 16923
        },
        {
         "0": "Kyla",
         "1": "Ross",
         "_deepnote_index_column": 16924
        },
        {
         "0": "Christine",
         "1": "Ekman",
         "_deepnote_index_column": 16925
        },
        {
         "0": "Karling",
         "1": "Hemstreet",
         "_deepnote_index_column": 16926
        },
        {
         "0": "Moeka",
         "1": "Hirata",
         "_deepnote_index_column": 16927
        },
        {
         "0": "Margarita",
         "1": "Varulnikova",
         "_deepnote_index_column": 16928
        },
        {
         "0": "Ecem",
         "1": "Donmez",
         "_deepnote_index_column": 16929
        },
        {
         "0": "Betsy",
         "1": "Wizard",
         "_deepnote_index_column": 16930
        },
        {
         "0": "Emilia",
         "1": "Colti Dumitrescu",
         "_deepnote_index_column": 16931
        },
        {
         "0": "Nanami",
         "1": "Kouchi",
         "_deepnote_index_column": 16932
        },
        {
         "0": "Yang",
         "1": "Yaan",
         "_deepnote_index_column": 16933
        },
        {
         "0": "Julia",
         "1": "Adamczyk",
         "_deepnote_index_column": 16934
        },
        {
         "0": "Mira",
         "1": "Szimcsák",
         "_deepnote_index_column": 16935
        },
        {
         "0": "Victoria",
         "1": "Bushell",
         "_deepnote_index_column": 16936
        },
        {
         "0": "Anastasia",
         "1": "Basalduk",
         "_deepnote_index_column": 16937
        },
        {
         "0": "Iona",
         "1": "Macleod",
         "_deepnote_index_column": 16938
        },
        {
         "0": "Monique",
         "1": "King",
         "_deepnote_index_column": 16939
        },
        {
         "0": "Ester",
         "1": "Rydbeck Nordèn",
         "_deepnote_index_column": 16940
        },
        {
         "0": "Maria",
         "1": "Eduar Seifer",
         "_deepnote_index_column": 16941
        },
        {
         "0": "Hyuu",
         "1": "Ohba",
         "_deepnote_index_column": 16942
        },
        {
         "0": "Klara",
         "1": "Bosnjak",
         "_deepnote_index_column": 16943
        },
        {
         "0": "Chantel",
         "1": "Jeffrey",
         "_deepnote_index_column": 16944
        },
        {
         "0": "Bindi",
         "1": "Ware",
         "_deepnote_index_column": 16945
        },
        {
         "0": "Ebony",
         "1": "Blackstone",
         "_deepnote_index_column": 16946
        },
        {
         "0": "Mia",
         "1": "Steen Duus",
         "_deepnote_index_column": 16947
        }
       ]
      },
      "text/plain": "             0           1\n0         Ryan      Murphy\n1           Xu       Jiayu\n2      Kliment  Kolesnikov\n3      Ryosuke        Irie\n4         Matt     Grevers\n...        ...         ...\n16943    Klara     Bosnjak\n16944  Chantel     Jeffrey\n16945    Bindi        Ware\n16946    Ebony  Blackstone\n16947      Mia  Steen Duus\n\n[16640 rows x 2 columns]",
      "text/html": "<div>\n<style scoped>\n    .dataframe tbody tr th:only-of-type {\n        vertical-align: middle;\n    }\n\n    .dataframe tbody tr th {\n        vertical-align: top;\n    }\n\n    .dataframe thead th {\n        text-align: right;\n    }\n</style>\n<table border=\"1\" class=\"dataframe\">\n  <thead>\n    <tr style=\"text-align: right;\">\n      <th></th>\n      <th>0</th>\n      <th>1</th>\n    </tr>\n  </thead>\n  <tbody>\n    <tr>\n      <th>0</th>\n      <td>Ryan</td>\n      <td>Murphy</td>\n    </tr>\n    <tr>\n      <th>1</th>\n      <td>Xu</td>\n      <td>Jiayu</td>\n    </tr>\n    <tr>\n      <th>2</th>\n      <td>Kliment</td>\n      <td>Kolesnikov</td>\n    </tr>\n    <tr>\n      <th>3</th>\n      <td>Ryosuke</td>\n      <td>Irie</td>\n    </tr>\n    <tr>\n      <th>4</th>\n      <td>Matt</td>\n      <td>Grevers</td>\n    </tr>\n    <tr>\n      <th>...</th>\n      <td>...</td>\n      <td>...</td>\n    </tr>\n    <tr>\n      <th>16943</th>\n      <td>Klara</td>\n      <td>Bosnjak</td>\n    </tr>\n    <tr>\n      <th>16944</th>\n      <td>Chantel</td>\n      <td>Jeffrey</td>\n    </tr>\n    <tr>\n      <th>16945</th>\n      <td>Bindi</td>\n      <td>Ware</td>\n    </tr>\n    <tr>\n      <th>16946</th>\n      <td>Ebony</td>\n      <td>Blackstone</td>\n    </tr>\n    <tr>\n      <th>16947</th>\n      <td>Mia</td>\n      <td>Steen Duus</td>\n    </tr>\n  </tbody>\n</table>\n<p>16640 rows × 2 columns</p>\n</div>"
     },
     "metadata": {}
    }
   ]
  },
  {
   "cell_type": "code",
   "source": "",
   "metadata": {
    "tags": [],
    "cell_id": "00020-99ab3a50-d384-4f2c-a029-032fe04e00dc",
    "deepnote_cell_type": "code"
   },
   "outputs": [],
   "execution_count": null
  },
  {
   "cell_type": "markdown",
   "source": "#### Finale: Have a final Dataframe that contains only the top (up to 4) Great British swimmers for each event and gender. Then save this data into a new csv or json file.\n> Hint: The dataset you have been handling is already sorted and grouped. Fastest swimmers (top four) would be at the top of each group (gender/event).",
   "metadata": {
    "tags": [],
    "cell_id": "00019-e94947b8-bf60-4dbe-887b-752541a792a6",
    "output_cleared": false,
    "deepnote_cell_type": "markdown"
   }
  },
  {
   "cell_type": "code",
   "metadata": {
    "tags": [],
    "cell_id": "00020-036b19fc-0205-4b6f-b1b2-152419cab621",
    "output_cleared": false,
    "source_hash": "aa7eca32",
    "execution_millis": 25,
    "execution_start": 1620828885509,
    "deepnote_to_be_reexecuted": false,
    "deepnote_cell_type": "code"
   },
   "source": "## Sort for GB Athletes only\ncleaned_df.sort_values(['Result Sort'])\nNOC = cleaned_df['NOC']\ndf = cleaned_df.drop(cleaned_df[cleaned_df.NOC != 'Great Britain'].index)\ndf\n\n## Top 4 per event\n\ndf2 = df.groupby(['Gender','Event']).head(4)\ndf2\n\n## Save data into new csv\ndf2.to_csv('data/swimming_psb_data2.csv')\n\n",
   "execution_count": 50,
   "outputs": []
  },
  {
   "cell_type": "markdown",
   "source": "### Bonus\n\n**The aim is to create a visualisation** that shows the performance standards for each gender and event relative to the respective world record at the time. This visualisation uses world record times (2018) found in the `world_records_swimming.json` file (`data` folder). To enable a visualisation that can show both genders and all the events, at once, requires us to standardise the results data. We can do this by creating another ***result*** that is the relevent world record as a percentage of the actual result e.g.\n\n\n> **Men 100m Backstroke - Ryan Murphy, United States - `51.94` (seconds) or `51940` (milliseconds)**\n",
   "metadata": {
    "tags": [],
    "cell_id": "00021-ca89e6b2-33b6-47ef-a376-cd61cf5ea16c",
    "output_cleared": false,
    "deepnote_cell_type": "markdown"
   }
  },
  {
   "cell_type": "code",
   "metadata": {
    "tags": [],
    "cell_id": "00023-bc6acf28-4297-41a6-85ce-0fc681f31efd",
    "deepnote_to_be_reexecuted": false,
    "source_hash": "ba2983ca",
    "execution_millis": 5,
    "execution_start": 1620831840174,
    "deepnote_cell_type": "code"
   },
   "source": "import json\n\nwrs = json.load(open('data/world_records_swimming.json'))\n\nwr_secs = float(wrs['Men']['100m Backstroke'])\nresult = 51.94\n\nwr_percentage = wr_secs / result * 100\n\nround(wr_percentage, 2)\n",
   "execution_count": 51,
   "outputs": [
    {
     "output_type": "execute_result",
     "execution_count": 51,
     "data": {
      "text/plain": "99.83"
     },
     "metadata": {}
    }
   ]
  },
  {
   "cell_type": "markdown",
   "source": "> Hints\n\n1. Include any relevant cleaning steps in the cell below before attempting to create the new column with the percentage data.\n2. Note that some of the world record times are not in seconds. It may be an idea to reformat the world records into milliseconds?\n3. We import [```seaborn```](https://seaborn.pydata.org/generated/seaborn.violinplot.html) to create the Violin Plots. e.g. https://seaborn.pydata.org/generated/seaborn.violinplot.html",
   "metadata": {
    "tags": [],
    "cell_id": "00024-be2d155b-83b0-4b33-bee5-9dfcbf47da5c",
    "deepnote_cell_type": "markdown"
   }
  },
  {
   "cell_type": "code",
   "metadata": {
    "tags": [],
    "cell_id": "00021-e6cb99c4-380d-4399-b88b-88a14765a1cc",
    "output_cleared": false,
    "source_hash": "60584df9",
    "execution_millis": 214,
    "allow_embed": false,
    "deepnote_to_be_reexecuted": false,
    "execution_start": 1620834869590,
    "deepnote_cell_type": "code"
   },
   "source": "import json\nimport pandas as pd\nimport seaborn as sns\n\nwrs = json.load(open('data/world_records_swimming.json'))  # Pandas is not always nessisary when handling data, a simple dictionary can be far simpler to handle ;)\nprint (wrs)\n\n## Reformat WR into milliseconds\n\n\npsb_viz_df = pd.read_csv('data/swimming_psb_data.csv')\npsb_viz_df = psb_viz_df.drop(columns=[\"c_Season\",\"c_Sport\",\"c_Class\",\"n_DateSort\",\"c_Person\",\"c_PersonNatio\",\"c_NOC\"]) \npsb_viz_df\n#psb_viz_df['newColumn'] = psb_viz_df['c_Result'].dt.total_seconds()\n\n#ax = sns.violinplot(x=\"Event\", y=\"percent_of_wr\", hue=\"Gender\",data=psb_viz_df, palette=\"muted\")\n",
   "execution_count": 68,
   "outputs": [
    {
     "name": "stdout",
     "text": "{'Men': {'50m Freestyle': '20.91', '100m Freestyle': '46.91', '200m Freestyle': '1:42.00', '400m Freestyle': '3:40.07', '800m Freestyle': '7:32.12', '1500m Freestyle': '14:31.02', '50m Backstroke': '24.00', '100m Backstroke': '51.85', '200m Backstroke': '1:51.92', '50m Breaststroke': '25.95', '100m Breaststroke': '57.00', '200m Breaststroke': '2:06.67', '50m Butterfly': '22.27', '100m Butterfly': '49.82', '200m Butterfly': '1:51.51', '200m Individual Medley': '1:54.00', '400m Individual Medley': '4:03.84'}, 'Women': {'50m Freestyle': '23.67', '100m Freestyle': '51.71', '200m Freestyle': '1:52.98', '400m Freestyle': '3:56.46', '800m Freestyle': '8:04.79', '1500m Freestyle': '15:20.48', '50m Backstroke': '26.98', '100m Backstroke': '58.00', '200m Backstroke': '2:04.06', '50m Breaststroke': '29.4', '100m Breaststroke': '1:04.13', '200m Breaststroke': '2:19.11', '50m Butterfly': '24.43', '100m Butterfly': '55.48', '200m Butterfly': '2:01.81', '200m Individual Medley': '2:06.12', '400m Individual Medley': '4:26.36'}}\n",
     "output_type": "stream"
    },
    {
     "output_type": "execute_result",
     "execution_count": 68,
     "data": {
      "application/vnd.deepnote.dataframe.v2+json": {
       "row_count": 16948,
       "column_count": 4,
       "columns": [
        {
         "name": "c_Event",
         "dtype": "object",
         "stats": {
          "unique_count": 20,
          "nan_count": 0,
          "categories": [
           {
            "name": "800m Freestyle",
            "count": 989
           },
           {
            "name": "200m Individual Medley",
            "count": 988
           },
           {
            "name": "18 others",
            "count": 14971
           }
          ]
         }
        },
        {
         "name": "c_Gender",
         "dtype": "object",
         "stats": {
          "unique_count": 3,
          "nan_count": 0,
          "categories": [
           {
            "name": "Men",
            "count": 8458
           },
           {
            "name": "Women",
            "count": 8394
           },
           {
            "name": "Mixed",
            "count": 96
           }
          ]
         }
        },
        {
         "name": "c_Result",
         "dtype": "object",
         "stats": {
          "unique_count": 8428,
          "nan_count": 0,
          "categories": [
           {
            "name": "26.31",
            "count": 17
           },
           {
            "name": "23.19",
            "count": 17
           },
           {
            "name": "8426 others",
            "count": 16914
           }
          ]
         }
        },
        {
         "name": "n_ResultSort",
         "dtype": "int64",
         "stats": {
          "unique_count": 8445,
          "nan_count": 0,
          "min": "21110",
          "max": "1254889",
          "histogram": [
           {
            "bin_start": 21110,
            "bin_end": 144487.9,
            "count": 12309
           },
           {
            "bin_start": 144487.9,
            "bin_end": 267865.8,
            "count": 2025
           },
           {
            "bin_start": 267865.8,
            "bin_end": 391243.69999999995,
            "count": 654
           },
           {
            "bin_start": 391243.69999999995,
            "bin_end": 514621.6,
            "count": 605
           },
           {
            "bin_start": 514621.6,
            "bin_end": 637999.5,
            "count": 454
           },
           {
            "bin_start": 637999.5,
            "bin_end": 761377.3999999999,
            "count": 0
           },
           {
            "bin_start": 761377.3999999999,
            "bin_end": 884755.2999999999,
            "count": 3
           },
           {
            "bin_start": 884755.2999999999,
            "bin_end": 1008133.2,
            "count": 614
           },
           {
            "bin_start": 1008133.2,
            "bin_end": 1131511.0999999999,
            "count": 269
           },
           {
            "bin_start": 1131511.0999999999,
            "bin_end": 1254889,
            "count": 15
           }
          ]
         }
        },
        {
         "name": "_deepnote_index_column",
         "dtype": "int64"
        }
       ],
       "rows_top": [
        {
         "c_Event": "100m Backstroke",
         "c_Gender": "Men",
         "c_Result": "51.94",
         "n_ResultSort": 51940,
         "_deepnote_index_column": 0
        },
        {
         "c_Event": "100m Backstroke",
         "c_Gender": "Men",
         "c_Result": "52.30",
         "n_ResultSort": 52300,
         "_deepnote_index_column": 1
        },
        {
         "c_Event": "100m Backstroke",
         "c_Gender": "Men",
         "c_Result": "52.51",
         "n_ResultSort": 52510,
         "_deepnote_index_column": 2
        },
        {
         "c_Event": "100m Backstroke",
         "c_Gender": "Men",
         "c_Result": "52.53",
         "n_ResultSort": 52530,
         "_deepnote_index_column": 3
        },
        {
         "c_Event": "100m Backstroke",
         "c_Gender": "Men",
         "c_Result": "52.55",
         "n_ResultSort": 52550,
         "_deepnote_index_column": 4
        },
        {
         "c_Event": "100m Backstroke",
         "c_Gender": "Men",
         "c_Result": "52.66",
         "n_ResultSort": 52660,
         "_deepnote_index_column": 5
        },
        {
         "c_Event": "100m Backstroke",
         "c_Gender": "Men",
         "c_Result": "52.88",
         "n_ResultSort": 52880,
         "_deepnote_index_column": 6
        },
        {
         "c_Event": "100m Backstroke",
         "c_Gender": "Men",
         "c_Result": "53.22",
         "n_ResultSort": 53220,
         "_deepnote_index_column": 7
        },
        {
         "c_Event": "100m Backstroke",
         "c_Gender": "Men",
         "c_Result": "53.26",
         "n_ResultSort": 53260,
         "_deepnote_index_column": 8
        },
        {
         "c_Event": "100m Backstroke",
         "c_Gender": "Men",
         "c_Result": "53.32",
         "n_ResultSort": 53320,
         "_deepnote_index_column": 9
        },
        {
         "c_Event": "100m Backstroke",
         "c_Gender": "Men",
         "c_Result": "53.39",
         "n_ResultSort": 53390,
         "_deepnote_index_column": 10
        },
        {
         "c_Event": "100m Backstroke",
         "c_Gender": "Men",
         "c_Result": "53.52",
         "n_ResultSort": 53520,
         "_deepnote_index_column": 11
        },
        {
         "c_Event": "100m Backstroke",
         "c_Gender": "Men",
         "c_Result": "53.55",
         "n_ResultSort": 53550,
         "_deepnote_index_column": 12
        },
        {
         "c_Event": "100m Backstroke",
         "c_Gender": "Men",
         "c_Result": "53.60",
         "n_ResultSort": 53600,
         "_deepnote_index_column": 13
        },
        {
         "c_Event": "100m Backstroke",
         "c_Gender": "Men",
         "c_Result": "53.60",
         "n_ResultSort": 53600,
         "_deepnote_index_column": 14
        },
        {
         "c_Event": "100m Backstroke",
         "c_Gender": "Men",
         "c_Result": "53.65",
         "n_ResultSort": 53650,
         "_deepnote_index_column": 15
        },
        {
         "c_Event": "100m Backstroke",
         "c_Gender": "Men",
         "c_Result": "53.68",
         "n_ResultSort": 53680,
         "_deepnote_index_column": 16
        },
        {
         "c_Event": "100m Backstroke",
         "c_Gender": "Men",
         "c_Result": "53.72",
         "n_ResultSort": 53720,
         "_deepnote_index_column": 17
        },
        {
         "c_Event": "100m Backstroke",
         "c_Gender": "Men",
         "c_Result": "53.72",
         "n_ResultSort": 53720,
         "_deepnote_index_column": 18
        },
        {
         "c_Event": "100m Backstroke",
         "c_Gender": "Men",
         "c_Result": "53.82",
         "n_ResultSort": 53820,
         "_deepnote_index_column": 19
        },
        {
         "c_Event": "100m Backstroke",
         "c_Gender": "Men",
         "c_Result": "53.84",
         "n_ResultSort": 53840,
         "_deepnote_index_column": 20
        },
        {
         "c_Event": "100m Backstroke",
         "c_Gender": "Men",
         "c_Result": "53.86",
         "n_ResultSort": 53860,
         "_deepnote_index_column": 21
        },
        {
         "c_Event": "100m Backstroke",
         "c_Gender": "Men",
         "c_Result": "53.89",
         "n_ResultSort": 53890,
         "_deepnote_index_column": 22
        },
        {
         "c_Event": "100m Backstroke",
         "c_Gender": "Men",
         "c_Result": "53.90",
         "n_ResultSort": 53900,
         "_deepnote_index_column": 23
        },
        {
         "c_Event": "100m Backstroke",
         "c_Gender": "Men",
         "c_Result": "53.92",
         "n_ResultSort": 53920,
         "_deepnote_index_column": 24
        },
        {
         "c_Event": "100m Backstroke",
         "c_Gender": "Men",
         "c_Result": "53.92",
         "n_ResultSort": 53920,
         "_deepnote_index_column": 25
        },
        {
         "c_Event": "100m Backstroke",
         "c_Gender": "Men",
         "c_Result": "53.93",
         "n_ResultSort": 53930,
         "_deepnote_index_column": 26
        },
        {
         "c_Event": "100m Backstroke",
         "c_Gender": "Men",
         "c_Result": "53.96",
         "n_ResultSort": 53960,
         "_deepnote_index_column": 27
        },
        {
         "c_Event": "100m Backstroke",
         "c_Gender": "Men",
         "c_Result": "53.98",
         "n_ResultSort": 53980,
         "_deepnote_index_column": 28
        },
        {
         "c_Event": "100m Backstroke",
         "c_Gender": "Men",
         "c_Result": "54.00",
         "n_ResultSort": 54000,
         "_deepnote_index_column": 29
        },
        {
         "c_Event": "100m Backstroke",
         "c_Gender": "Men",
         "c_Result": "54.01",
         "n_ResultSort": 54010,
         "_deepnote_index_column": 30
        },
        {
         "c_Event": "100m Backstroke",
         "c_Gender": "Men",
         "c_Result": "54.03",
         "n_ResultSort": 54030,
         "_deepnote_index_column": 31
        },
        {
         "c_Event": "100m Backstroke",
         "c_Gender": "Men",
         "c_Result": "54.05",
         "n_ResultSort": 54050,
         "_deepnote_index_column": 32
        },
        {
         "c_Event": "100m Backstroke",
         "c_Gender": "Men",
         "c_Result": "54.06",
         "n_ResultSort": 54060,
         "_deepnote_index_column": 33
        },
        {
         "c_Event": "100m Backstroke",
         "c_Gender": "Men",
         "c_Result": "54.06",
         "n_ResultSort": 54060,
         "_deepnote_index_column": 34
        },
        {
         "c_Event": "100m Backstroke",
         "c_Gender": "Men",
         "c_Result": "54.10",
         "n_ResultSort": 54100,
         "_deepnote_index_column": 35
        },
        {
         "c_Event": "100m Backstroke",
         "c_Gender": "Men",
         "c_Result": "54.13",
         "n_ResultSort": 54130,
         "_deepnote_index_column": 36
        },
        {
         "c_Event": "100m Backstroke",
         "c_Gender": "Men",
         "c_Result": "54.17",
         "n_ResultSort": 54170,
         "_deepnote_index_column": 37
        },
        {
         "c_Event": "100m Backstroke",
         "c_Gender": "Men",
         "c_Result": "54.21",
         "n_ResultSort": 54210,
         "_deepnote_index_column": 38
        },
        {
         "c_Event": "100m Backstroke",
         "c_Gender": "Men",
         "c_Result": "54.23",
         "n_ResultSort": 54230,
         "_deepnote_index_column": 39
        },
        {
         "c_Event": "100m Backstroke",
         "c_Gender": "Men",
         "c_Result": "54.24",
         "n_ResultSort": 54240,
         "_deepnote_index_column": 40
        },
        {
         "c_Event": "100m Backstroke",
         "c_Gender": "Men",
         "c_Result": "54.24",
         "n_ResultSort": 54240,
         "_deepnote_index_column": 41
        },
        {
         "c_Event": "100m Backstroke",
         "c_Gender": "Men",
         "c_Result": "54.25",
         "n_ResultSort": 54250,
         "_deepnote_index_column": 42
        },
        {
         "c_Event": "100m Backstroke",
         "c_Gender": "Men",
         "c_Result": "54.25",
         "n_ResultSort": 54250,
         "_deepnote_index_column": 43
        },
        {
         "c_Event": "100m Backstroke",
         "c_Gender": "Men",
         "c_Result": "54.27",
         "n_ResultSort": 54270,
         "_deepnote_index_column": 44
        },
        {
         "c_Event": "100m Backstroke",
         "c_Gender": "Men",
         "c_Result": "54.27",
         "n_ResultSort": 54270,
         "_deepnote_index_column": 45
        },
        {
         "c_Event": "100m Backstroke",
         "c_Gender": "Men",
         "c_Result": "54.34",
         "n_ResultSort": 54340,
         "_deepnote_index_column": 46
        },
        {
         "c_Event": "100m Backstroke",
         "c_Gender": "Men",
         "c_Result": "54.37",
         "n_ResultSort": 54370,
         "_deepnote_index_column": 47
        },
        {
         "c_Event": "100m Backstroke",
         "c_Gender": "Men",
         "c_Result": "54.37",
         "n_ResultSort": 54370,
         "_deepnote_index_column": 48
        },
        {
         "c_Event": "100m Backstroke",
         "c_Gender": "Men",
         "c_Result": "54.37",
         "n_ResultSort": 54370,
         "_deepnote_index_column": 49
        },
        {
         "c_Event": "100m Backstroke",
         "c_Gender": "Men",
         "c_Result": "54.38",
         "n_ResultSort": 54380,
         "_deepnote_index_column": 50
        },
        {
         "c_Event": "100m Backstroke",
         "c_Gender": "Men",
         "c_Result": "54.39",
         "n_ResultSort": 54390,
         "_deepnote_index_column": 51
        },
        {
         "c_Event": "100m Backstroke",
         "c_Gender": "Men",
         "c_Result": "54.40",
         "n_ResultSort": 54400,
         "_deepnote_index_column": 52
        },
        {
         "c_Event": "100m Backstroke",
         "c_Gender": "Men",
         "c_Result": "54.40",
         "n_ResultSort": 54400,
         "_deepnote_index_column": 53
        },
        {
         "c_Event": "100m Backstroke",
         "c_Gender": "Men",
         "c_Result": "54.43",
         "n_ResultSort": 54430,
         "_deepnote_index_column": 54
        },
        {
         "c_Event": "100m Backstroke",
         "c_Gender": "Men",
         "c_Result": "54.47",
         "n_ResultSort": 54470,
         "_deepnote_index_column": 55
        },
        {
         "c_Event": "100m Backstroke",
         "c_Gender": "Men",
         "c_Result": "54.48",
         "n_ResultSort": 54480,
         "_deepnote_index_column": 56
        },
        {
         "c_Event": "100m Backstroke",
         "c_Gender": "Men",
         "c_Result": "54.48",
         "n_ResultSort": 54480,
         "_deepnote_index_column": 57
        },
        {
         "c_Event": "100m Backstroke",
         "c_Gender": "Men",
         "c_Result": "54.48",
         "n_ResultSort": 54480,
         "_deepnote_index_column": 58
        },
        {
         "c_Event": "100m Backstroke",
         "c_Gender": "Men",
         "c_Result": "54.48",
         "n_ResultSort": 54480,
         "_deepnote_index_column": 59
        },
        {
         "c_Event": "100m Backstroke",
         "c_Gender": "Men",
         "c_Result": "54.50",
         "n_ResultSort": 54500,
         "_deepnote_index_column": 60
        },
        {
         "c_Event": "100m Backstroke",
         "c_Gender": "Men",
         "c_Result": "54.51",
         "n_ResultSort": 54510,
         "_deepnote_index_column": 61
        },
        {
         "c_Event": "100m Backstroke",
         "c_Gender": "Men",
         "c_Result": "54.60",
         "n_ResultSort": 54600,
         "_deepnote_index_column": 62
        },
        {
         "c_Event": "100m Backstroke",
         "c_Gender": "Men",
         "c_Result": "54.60",
         "n_ResultSort": 54600,
         "_deepnote_index_column": 63
        },
        {
         "c_Event": "100m Backstroke",
         "c_Gender": "Men",
         "c_Result": "54.63",
         "n_ResultSort": 54630,
         "_deepnote_index_column": 64
        },
        {
         "c_Event": "100m Backstroke",
         "c_Gender": "Men",
         "c_Result": "54.65",
         "n_ResultSort": 54650,
         "_deepnote_index_column": 65
        },
        {
         "c_Event": "100m Backstroke",
         "c_Gender": "Men",
         "c_Result": "54.67",
         "n_ResultSort": 54670,
         "_deepnote_index_column": 66
        },
        {
         "c_Event": "100m Backstroke",
         "c_Gender": "Men",
         "c_Result": "54.68",
         "n_ResultSort": 54680,
         "_deepnote_index_column": 67
        },
        {
         "c_Event": "100m Backstroke",
         "c_Gender": "Men",
         "c_Result": "54.69",
         "n_ResultSort": 54690,
         "_deepnote_index_column": 68
        },
        {
         "c_Event": "100m Backstroke",
         "c_Gender": "Men",
         "c_Result": "54.69",
         "n_ResultSort": 54690,
         "_deepnote_index_column": 69
        },
        {
         "c_Event": "100m Backstroke",
         "c_Gender": "Men",
         "c_Result": "54.71",
         "n_ResultSort": 54710,
         "_deepnote_index_column": 70
        },
        {
         "c_Event": "100m Backstroke",
         "c_Gender": "Men",
         "c_Result": "54.74",
         "n_ResultSort": 54740,
         "_deepnote_index_column": 71
        },
        {
         "c_Event": "100m Backstroke",
         "c_Gender": "Men",
         "c_Result": "54.74",
         "n_ResultSort": 54740,
         "_deepnote_index_column": 72
        },
        {
         "c_Event": "100m Backstroke",
         "c_Gender": "Men",
         "c_Result": "54.75",
         "n_ResultSort": 54750,
         "_deepnote_index_column": 73
        },
        {
         "c_Event": "100m Backstroke",
         "c_Gender": "Men",
         "c_Result": "54.77",
         "n_ResultSort": 54770,
         "_deepnote_index_column": 74
        },
        {
         "c_Event": "100m Backstroke",
         "c_Gender": "Men",
         "c_Result": "54.79",
         "n_ResultSort": 54790,
         "_deepnote_index_column": 75
        },
        {
         "c_Event": "100m Backstroke",
         "c_Gender": "Men",
         "c_Result": "54.79",
         "n_ResultSort": 54790,
         "_deepnote_index_column": 76
        },
        {
         "c_Event": "100m Backstroke",
         "c_Gender": "Men",
         "c_Result": "54.79",
         "n_ResultSort": 54790,
         "_deepnote_index_column": 77
        },
        {
         "c_Event": "100m Backstroke",
         "c_Gender": "Men",
         "c_Result": "54.80",
         "n_ResultSort": 54800,
         "_deepnote_index_column": 78
        },
        {
         "c_Event": "100m Backstroke",
         "c_Gender": "Men",
         "c_Result": "54.80",
         "n_ResultSort": 54800,
         "_deepnote_index_column": 79
        },
        {
         "c_Event": "100m Backstroke",
         "c_Gender": "Men",
         "c_Result": "54.81",
         "n_ResultSort": 54810,
         "_deepnote_index_column": 80
        },
        {
         "c_Event": "100m Backstroke",
         "c_Gender": "Men",
         "c_Result": "54.82",
         "n_ResultSort": 54820,
         "_deepnote_index_column": 81
        },
        {
         "c_Event": "100m Backstroke",
         "c_Gender": "Men",
         "c_Result": "54.83",
         "n_ResultSort": 54830,
         "_deepnote_index_column": 82
        },
        {
         "c_Event": "100m Backstroke",
         "c_Gender": "Men",
         "c_Result": "54.83",
         "n_ResultSort": 54830,
         "_deepnote_index_column": 83
        },
        {
         "c_Event": "100m Backstroke",
         "c_Gender": "Men",
         "c_Result": "54.84",
         "n_ResultSort": 54840,
         "_deepnote_index_column": 84
        },
        {
         "c_Event": "100m Backstroke",
         "c_Gender": "Men",
         "c_Result": "54.88",
         "n_ResultSort": 54880,
         "_deepnote_index_column": 85
        },
        {
         "c_Event": "100m Backstroke",
         "c_Gender": "Men",
         "c_Result": "54.88",
         "n_ResultSort": 54880,
         "_deepnote_index_column": 86
        },
        {
         "c_Event": "100m Backstroke",
         "c_Gender": "Men",
         "c_Result": "54.88",
         "n_ResultSort": 54880,
         "_deepnote_index_column": 87
        },
        {
         "c_Event": "100m Backstroke",
         "c_Gender": "Men",
         "c_Result": "54.90",
         "n_ResultSort": 54900,
         "_deepnote_index_column": 88
        },
        {
         "c_Event": "100m Backstroke",
         "c_Gender": "Men",
         "c_Result": "54.90",
         "n_ResultSort": 54900,
         "_deepnote_index_column": 89
        },
        {
         "c_Event": "100m Backstroke",
         "c_Gender": "Men",
         "c_Result": "54.91",
         "n_ResultSort": 54910,
         "_deepnote_index_column": 90
        },
        {
         "c_Event": "100m Backstroke",
         "c_Gender": "Men",
         "c_Result": "54.93",
         "n_ResultSort": 54930,
         "_deepnote_index_column": 91
        },
        {
         "c_Event": "100m Backstroke",
         "c_Gender": "Men",
         "c_Result": "54.93",
         "n_ResultSort": 54930,
         "_deepnote_index_column": 92
        },
        {
         "c_Event": "100m Backstroke",
         "c_Gender": "Men",
         "c_Result": "54.95",
         "n_ResultSort": 54950,
         "_deepnote_index_column": 93
        },
        {
         "c_Event": "100m Backstroke",
         "c_Gender": "Men",
         "c_Result": "54.97",
         "n_ResultSort": 54970,
         "_deepnote_index_column": 94
        },
        {
         "c_Event": "100m Backstroke",
         "c_Gender": "Men",
         "c_Result": "54.99",
         "n_ResultSort": 54990,
         "_deepnote_index_column": 95
        },
        {
         "c_Event": "100m Backstroke",
         "c_Gender": "Men",
         "c_Result": "54.99",
         "n_ResultSort": 54990,
         "_deepnote_index_column": 96
        },
        {
         "c_Event": "100m Backstroke",
         "c_Gender": "Men",
         "c_Result": "54.99",
         "n_ResultSort": 54990,
         "_deepnote_index_column": 97
        },
        {
         "c_Event": "100m Backstroke",
         "c_Gender": "Men",
         "c_Result": "54.99",
         "n_ResultSort": 54990,
         "_deepnote_index_column": 98
        },
        {
         "c_Event": "100m Backstroke",
         "c_Gender": "Men",
         "c_Result": "55.02",
         "n_ResultSort": 55020,
         "_deepnote_index_column": 99
        },
        {
         "c_Event": "100m Backstroke",
         "c_Gender": "Men",
         "c_Result": "55.02",
         "n_ResultSort": 55020,
         "_deepnote_index_column": 100
        },
        {
         "c_Event": "100m Backstroke",
         "c_Gender": "Men",
         "c_Result": "55.03",
         "n_ResultSort": 55030,
         "_deepnote_index_column": 101
        },
        {
         "c_Event": "100m Backstroke",
         "c_Gender": "Men",
         "c_Result": "55.04",
         "n_ResultSort": 55040,
         "_deepnote_index_column": 102
        },
        {
         "c_Event": "100m Backstroke",
         "c_Gender": "Men",
         "c_Result": "55.06",
         "n_ResultSort": 55060,
         "_deepnote_index_column": 103
        },
        {
         "c_Event": "100m Backstroke",
         "c_Gender": "Men",
         "c_Result": "55.06",
         "n_ResultSort": 55060,
         "_deepnote_index_column": 104
        },
        {
         "c_Event": "100m Backstroke",
         "c_Gender": "Men",
         "c_Result": "55.06",
         "n_ResultSort": 55060,
         "_deepnote_index_column": 105
        },
        {
         "c_Event": "100m Backstroke",
         "c_Gender": "Men",
         "c_Result": "55.07",
         "n_ResultSort": 55070,
         "_deepnote_index_column": 106
        },
        {
         "c_Event": "100m Backstroke",
         "c_Gender": "Men",
         "c_Result": "55.07",
         "n_ResultSort": 55070,
         "_deepnote_index_column": 107
        },
        {
         "c_Event": "100m Backstroke",
         "c_Gender": "Men",
         "c_Result": "55.08",
         "n_ResultSort": 55080,
         "_deepnote_index_column": 108
        },
        {
         "c_Event": "100m Backstroke",
         "c_Gender": "Men",
         "c_Result": "55.08",
         "n_ResultSort": 55080,
         "_deepnote_index_column": 109
        },
        {
         "c_Event": "100m Backstroke",
         "c_Gender": "Men",
         "c_Result": "55.09",
         "n_ResultSort": 55090,
         "_deepnote_index_column": 110
        },
        {
         "c_Event": "100m Backstroke",
         "c_Gender": "Men",
         "c_Result": "55.09",
         "n_ResultSort": 55090,
         "_deepnote_index_column": 111
        },
        {
         "c_Event": "100m Backstroke",
         "c_Gender": "Men",
         "c_Result": "55.09",
         "n_ResultSort": 55090,
         "_deepnote_index_column": 112
        },
        {
         "c_Event": "100m Backstroke",
         "c_Gender": "Men",
         "c_Result": "55.09",
         "n_ResultSort": 55090,
         "_deepnote_index_column": 113
        },
        {
         "c_Event": "100m Backstroke",
         "c_Gender": "Men",
         "c_Result": "55.10",
         "n_ResultSort": 55100,
         "_deepnote_index_column": 114
        },
        {
         "c_Event": "100m Backstroke",
         "c_Gender": "Men",
         "c_Result": "55.17",
         "n_ResultSort": 55170,
         "_deepnote_index_column": 115
        },
        {
         "c_Event": "100m Backstroke",
         "c_Gender": "Men",
         "c_Result": "55.21",
         "n_ResultSort": 55210,
         "_deepnote_index_column": 116
        },
        {
         "c_Event": "100m Backstroke",
         "c_Gender": "Men",
         "c_Result": "55.22",
         "n_ResultSort": 55220,
         "_deepnote_index_column": 117
        },
        {
         "c_Event": "100m Backstroke",
         "c_Gender": "Men",
         "c_Result": "55.22",
         "n_ResultSort": 55220,
         "_deepnote_index_column": 118
        },
        {
         "c_Event": "100m Backstroke",
         "c_Gender": "Men",
         "c_Result": "55.24",
         "n_ResultSort": 55240,
         "_deepnote_index_column": 119
        },
        {
         "c_Event": "100m Backstroke",
         "c_Gender": "Men",
         "c_Result": "55.25",
         "n_ResultSort": 55250,
         "_deepnote_index_column": 120
        },
        {
         "c_Event": "100m Backstroke",
         "c_Gender": "Men",
         "c_Result": "55.25",
         "n_ResultSort": 55250,
         "_deepnote_index_column": 121
        },
        {
         "c_Event": "100m Backstroke",
         "c_Gender": "Men",
         "c_Result": "55.26",
         "n_ResultSort": 55260,
         "_deepnote_index_column": 122
        },
        {
         "c_Event": "100m Backstroke",
         "c_Gender": "Men",
         "c_Result": "55.26",
         "n_ResultSort": 55260,
         "_deepnote_index_column": 123
        },
        {
         "c_Event": "100m Backstroke",
         "c_Gender": "Men",
         "c_Result": "55.26",
         "n_ResultSort": 55260,
         "_deepnote_index_column": 124
        }
       ],
       "rows_bottom": [
        {
         "c_Event": "800m Freestyle",
         "c_Gender": "Women",
         "c_Result": "8:57.41",
         "n_ResultSort": 537410,
         "_deepnote_index_column": 16823
        },
        {
         "c_Event": "800m Freestyle",
         "c_Gender": "Women",
         "c_Result": "8:57.44",
         "n_ResultSort": 537440,
         "_deepnote_index_column": 16824
        },
        {
         "c_Event": "800m Freestyle",
         "c_Gender": "Women",
         "c_Result": "8:57.46",
         "n_ResultSort": 537460,
         "_deepnote_index_column": 16825
        },
        {
         "c_Event": "800m Freestyle",
         "c_Gender": "Women",
         "c_Result": "8:57.48",
         "n_ResultSort": 537480,
         "_deepnote_index_column": 16826
        },
        {
         "c_Event": "800m Freestyle",
         "c_Gender": "Women",
         "c_Result": "8:57.49",
         "n_ResultSort": 537490,
         "_deepnote_index_column": 16827
        },
        {
         "c_Event": "800m Freestyle",
         "c_Gender": "Women",
         "c_Result": "8:57.53",
         "n_ResultSort": 537530,
         "_deepnote_index_column": 16828
        },
        {
         "c_Event": "800m Freestyle",
         "c_Gender": "Women",
         "c_Result": "8:57.55",
         "n_ResultSort": 537550,
         "_deepnote_index_column": 16829
        },
        {
         "c_Event": "800m Freestyle",
         "c_Gender": "Women",
         "c_Result": "8:57.63",
         "n_ResultSort": 537630,
         "_deepnote_index_column": 16830
        },
        {
         "c_Event": "800m Freestyle",
         "c_Gender": "Women",
         "c_Result": "8:57.75",
         "n_ResultSort": 537750,
         "_deepnote_index_column": 16831
        },
        {
         "c_Event": "800m Freestyle",
         "c_Gender": "Women",
         "c_Result": "8:57.77",
         "n_ResultSort": 537770,
         "_deepnote_index_column": 16832
        },
        {
         "c_Event": "800m Freestyle",
         "c_Gender": "Women",
         "c_Result": "8:57.79",
         "n_ResultSort": 537790,
         "_deepnote_index_column": 16833
        },
        {
         "c_Event": "800m Freestyle",
         "c_Gender": "Women",
         "c_Result": "8:57.84",
         "n_ResultSort": 537840,
         "_deepnote_index_column": 16834
        },
        {
         "c_Event": "800m Freestyle",
         "c_Gender": "Women",
         "c_Result": "8:57.84",
         "n_ResultSort": 537840,
         "_deepnote_index_column": 16835
        },
        {
         "c_Event": "800m Freestyle",
         "c_Gender": "Women",
         "c_Result": "8:57.95",
         "n_ResultSort": 537950,
         "_deepnote_index_column": 16836
        },
        {
         "c_Event": "800m Freestyle",
         "c_Gender": "Women",
         "c_Result": "8:58.07",
         "n_ResultSort": 538070,
         "_deepnote_index_column": 16837
        },
        {
         "c_Event": "800m Freestyle",
         "c_Gender": "Women",
         "c_Result": "8:58.08",
         "n_ResultSort": 538080,
         "_deepnote_index_column": 16838
        },
        {
         "c_Event": "800m Freestyle",
         "c_Gender": "Women",
         "c_Result": "8:58.09",
         "n_ResultSort": 538090,
         "_deepnote_index_column": 16839
        },
        {
         "c_Event": "800m Freestyle",
         "c_Gender": "Women",
         "c_Result": "8:58.10",
         "n_ResultSort": 538100,
         "_deepnote_index_column": 16840
        },
        {
         "c_Event": "800m Freestyle",
         "c_Gender": "Women",
         "c_Result": "8:58.11",
         "n_ResultSort": 538110,
         "_deepnote_index_column": 16841
        },
        {
         "c_Event": "800m Freestyle",
         "c_Gender": "Women",
         "c_Result": "8:58.12",
         "n_ResultSort": 538120,
         "_deepnote_index_column": 16842
        },
        {
         "c_Event": "800m Freestyle",
         "c_Gender": "Women",
         "c_Result": "8:58.13",
         "n_ResultSort": 538130,
         "_deepnote_index_column": 16843
        },
        {
         "c_Event": "800m Freestyle",
         "c_Gender": "Women",
         "c_Result": "8:58.18",
         "n_ResultSort": 538180,
         "_deepnote_index_column": 16844
        },
        {
         "c_Event": "800m Freestyle",
         "c_Gender": "Women",
         "c_Result": "8:58.24",
         "n_ResultSort": 538240,
         "_deepnote_index_column": 16845
        },
        {
         "c_Event": "800m Freestyle",
         "c_Gender": "Women",
         "c_Result": "8:58.25",
         "n_ResultSort": 538250,
         "_deepnote_index_column": 16846
        },
        {
         "c_Event": "800m Freestyle",
         "c_Gender": "Women",
         "c_Result": "8:58.28",
         "n_ResultSort": 538280,
         "_deepnote_index_column": 16847
        },
        {
         "c_Event": "800m Freestyle",
         "c_Gender": "Women",
         "c_Result": "8:58.30",
         "n_ResultSort": 538300,
         "_deepnote_index_column": 16848
        },
        {
         "c_Event": "800m Freestyle",
         "c_Gender": "Women",
         "c_Result": "8:58.38",
         "n_ResultSort": 538380,
         "_deepnote_index_column": 16849
        },
        {
         "c_Event": "800m Freestyle",
         "c_Gender": "Women",
         "c_Result": "8:58.39",
         "n_ResultSort": 538390,
         "_deepnote_index_column": 16850
        },
        {
         "c_Event": "800m Freestyle",
         "c_Gender": "Women",
         "c_Result": "8:58.45",
         "n_ResultSort": 538450,
         "_deepnote_index_column": 16851
        },
        {
         "c_Event": "800m Freestyle",
         "c_Gender": "Women",
         "c_Result": "8:58.45",
         "n_ResultSort": 538450,
         "_deepnote_index_column": 16852
        },
        {
         "c_Event": "800m Freestyle",
         "c_Gender": "Women",
         "c_Result": "8:58.47",
         "n_ResultSort": 538470,
         "_deepnote_index_column": 16853
        },
        {
         "c_Event": "800m Freestyle",
         "c_Gender": "Women",
         "c_Result": "8:58.48",
         "n_ResultSort": 538480,
         "_deepnote_index_column": 16854
        },
        {
         "c_Event": "800m Freestyle",
         "c_Gender": "Women",
         "c_Result": "8:58.53",
         "n_ResultSort": 538530,
         "_deepnote_index_column": 16855
        },
        {
         "c_Event": "800m Freestyle",
         "c_Gender": "Women",
         "c_Result": "8:58.70",
         "n_ResultSort": 538700,
         "_deepnote_index_column": 16856
        },
        {
         "c_Event": "800m Freestyle",
         "c_Gender": "Women",
         "c_Result": "8:58.75",
         "n_ResultSort": 538750,
         "_deepnote_index_column": 16857
        },
        {
         "c_Event": "800m Freestyle",
         "c_Gender": "Women",
         "c_Result": "8:58.81",
         "n_ResultSort": 538810,
         "_deepnote_index_column": 16858
        },
        {
         "c_Event": "800m Freestyle",
         "c_Gender": "Women",
         "c_Result": "8:58.84",
         "n_ResultSort": 538840,
         "_deepnote_index_column": 16859
        },
        {
         "c_Event": "800m Freestyle",
         "c_Gender": "Women",
         "c_Result": "8:58.97",
         "n_ResultSort": 538970,
         "_deepnote_index_column": 16860
        },
        {
         "c_Event": "800m Freestyle",
         "c_Gender": "Women",
         "c_Result": "8:59.00",
         "n_ResultSort": 539000,
         "_deepnote_index_column": 16861
        },
        {
         "c_Event": "800m Freestyle",
         "c_Gender": "Women",
         "c_Result": "8:59.04",
         "n_ResultSort": 539040,
         "_deepnote_index_column": 16862
        },
        {
         "c_Event": "800m Freestyle",
         "c_Gender": "Women",
         "c_Result": "8:59.11",
         "n_ResultSort": 539110,
         "_deepnote_index_column": 16863
        },
        {
         "c_Event": "800m Freestyle",
         "c_Gender": "Women",
         "c_Result": "8:59.31",
         "n_ResultSort": 539310,
         "_deepnote_index_column": 16864
        },
        {
         "c_Event": "800m Freestyle",
         "c_Gender": "Women",
         "c_Result": "8:59.31",
         "n_ResultSort": 539310,
         "_deepnote_index_column": 16865
        },
        {
         "c_Event": "800m Freestyle",
         "c_Gender": "Women",
         "c_Result": "8:59.37",
         "n_ResultSort": 539370,
         "_deepnote_index_column": 16866
        },
        {
         "c_Event": "800m Freestyle",
         "c_Gender": "Women",
         "c_Result": "8:59.44",
         "n_ResultSort": 539440,
         "_deepnote_index_column": 16867
        },
        {
         "c_Event": "800m Freestyle",
         "c_Gender": "Women",
         "c_Result": "8:59.46",
         "n_ResultSort": 539460,
         "_deepnote_index_column": 16868
        },
        {
         "c_Event": "800m Freestyle",
         "c_Gender": "Women",
         "c_Result": "8:59.50",
         "n_ResultSort": 539500,
         "_deepnote_index_column": 16869
        },
        {
         "c_Event": "800m Freestyle",
         "c_Gender": "Women",
         "c_Result": "8:59.50",
         "n_ResultSort": 539500,
         "_deepnote_index_column": 16870
        },
        {
         "c_Event": "800m Freestyle",
         "c_Gender": "Women",
         "c_Result": "8:59.51",
         "n_ResultSort": 539510,
         "_deepnote_index_column": 16871
        },
        {
         "c_Event": "800m Freestyle",
         "c_Gender": "Women",
         "c_Result": "8:59.55",
         "n_ResultSort": 539550,
         "_deepnote_index_column": 16872
        },
        {
         "c_Event": "800m Freestyle",
         "c_Gender": "Women",
         "c_Result": "8:59.58",
         "n_ResultSort": 539580,
         "_deepnote_index_column": 16873
        },
        {
         "c_Event": "800m Freestyle",
         "c_Gender": "Women",
         "c_Result": "8:59.66",
         "n_ResultSort": 539660,
         "_deepnote_index_column": 16874
        },
        {
         "c_Event": "800m Freestyle",
         "c_Gender": "Women",
         "c_Result": "8:59.68",
         "n_ResultSort": 539680,
         "_deepnote_index_column": 16875
        },
        {
         "c_Event": "800m Freestyle",
         "c_Gender": "Women",
         "c_Result": "8:59.68",
         "n_ResultSort": 539680,
         "_deepnote_index_column": 16876
        },
        {
         "c_Event": "800m Freestyle",
         "c_Gender": "Women",
         "c_Result": "8:59.69",
         "n_ResultSort": 539690,
         "_deepnote_index_column": 16877
        },
        {
         "c_Event": "800m Freestyle",
         "c_Gender": "Women",
         "c_Result": "8:59.80",
         "n_ResultSort": 539800,
         "_deepnote_index_column": 16878
        },
        {
         "c_Event": "800m Freestyle",
         "c_Gender": "Women",
         "c_Result": "8:59.83",
         "n_ResultSort": 539830,
         "_deepnote_index_column": 16879
        },
        {
         "c_Event": "800m Freestyle",
         "c_Gender": "Women",
         "c_Result": "8:59.85",
         "n_ResultSort": 539850,
         "_deepnote_index_column": 16880
        },
        {
         "c_Event": "800m Freestyle",
         "c_Gender": "Women",
         "c_Result": "8:59.96",
         "n_ResultSort": 539960,
         "_deepnote_index_column": 16881
        },
        {
         "c_Event": "800m Freestyle",
         "c_Gender": "Women",
         "c_Result": "8:59.97",
         "n_ResultSort": 539970,
         "_deepnote_index_column": 16882
        },
        {
         "c_Event": "800m Freestyle",
         "c_Gender": "Women",
         "c_Result": "8:59.98",
         "n_ResultSort": 539980,
         "_deepnote_index_column": 16883
        },
        {
         "c_Event": "800m Freestyle",
         "c_Gender": "Women",
         "c_Result": "8:59.98",
         "n_ResultSort": 539980,
         "_deepnote_index_column": 16884
        },
        {
         "c_Event": "800m Freestyle",
         "c_Gender": "Women",
         "c_Result": "9:00.04",
         "n_ResultSort": 540040,
         "_deepnote_index_column": 16885
        },
        {
         "c_Event": "800m Freestyle",
         "c_Gender": "Women",
         "c_Result": "9:00.10",
         "n_ResultSort": 540100,
         "_deepnote_index_column": 16886
        },
        {
         "c_Event": "800m Freestyle",
         "c_Gender": "Women",
         "c_Result": "9:00.20",
         "n_ResultSort": 540200,
         "_deepnote_index_column": 16887
        },
        {
         "c_Event": "800m Freestyle",
         "c_Gender": "Women",
         "c_Result": "9:00.20",
         "n_ResultSort": 540200,
         "_deepnote_index_column": 16888
        },
        {
         "c_Event": "800m Freestyle",
         "c_Gender": "Women",
         "c_Result": "9:00.27",
         "n_ResultSort": 540270,
         "_deepnote_index_column": 16889
        },
        {
         "c_Event": "800m Freestyle",
         "c_Gender": "Women",
         "c_Result": "9:00.32",
         "n_ResultSort": 540320,
         "_deepnote_index_column": 16890
        },
        {
         "c_Event": "800m Freestyle",
         "c_Gender": "Women",
         "c_Result": "9:00.36",
         "n_ResultSort": 540360,
         "_deepnote_index_column": 16891
        },
        {
         "c_Event": "800m Freestyle",
         "c_Gender": "Women",
         "c_Result": "9:00.47",
         "n_ResultSort": 540470,
         "_deepnote_index_column": 16892
        },
        {
         "c_Event": "800m Freestyle",
         "c_Gender": "Women",
         "c_Result": "9:00.54",
         "n_ResultSort": 540540,
         "_deepnote_index_column": 16893
        },
        {
         "c_Event": "800m Freestyle",
         "c_Gender": "Women",
         "c_Result": "9:00.56",
         "n_ResultSort": 540560,
         "_deepnote_index_column": 16894
        },
        {
         "c_Event": "800m Freestyle",
         "c_Gender": "Women",
         "c_Result": "9:00.59",
         "n_ResultSort": 540590,
         "_deepnote_index_column": 16895
        },
        {
         "c_Event": "800m Freestyle",
         "c_Gender": "Women",
         "c_Result": "9:00.61",
         "n_ResultSort": 540610,
         "_deepnote_index_column": 16896
        },
        {
         "c_Event": "800m Freestyle",
         "c_Gender": "Women",
         "c_Result": "9:00.62",
         "n_ResultSort": 540620,
         "_deepnote_index_column": 16897
        },
        {
         "c_Event": "800m Freestyle",
         "c_Gender": "Women",
         "c_Result": "9:00.68",
         "n_ResultSort": 540680,
         "_deepnote_index_column": 16898
        },
        {
         "c_Event": "800m Freestyle",
         "c_Gender": "Women",
         "c_Result": "9:00.74",
         "n_ResultSort": 540740,
         "_deepnote_index_column": 16899
        },
        {
         "c_Event": "800m Freestyle",
         "c_Gender": "Women",
         "c_Result": "9:00.83",
         "n_ResultSort": 540830,
         "_deepnote_index_column": 16900
        },
        {
         "c_Event": "800m Freestyle",
         "c_Gender": "Women",
         "c_Result": "9:00.84",
         "n_ResultSort": 540840,
         "_deepnote_index_column": 16901
        },
        {
         "c_Event": "800m Freestyle",
         "c_Gender": "Women",
         "c_Result": "9:00.88",
         "n_ResultSort": 540880,
         "_deepnote_index_column": 16902
        },
        {
         "c_Event": "800m Freestyle",
         "c_Gender": "Women",
         "c_Result": "9:00.89",
         "n_ResultSort": 540890,
         "_deepnote_index_column": 16903
        },
        {
         "c_Event": "800m Freestyle",
         "c_Gender": "Women",
         "c_Result": "9:00.94",
         "n_ResultSort": 540940,
         "_deepnote_index_column": 16904
        },
        {
         "c_Event": "800m Freestyle",
         "c_Gender": "Women",
         "c_Result": "9:00.95",
         "n_ResultSort": 540950,
         "_deepnote_index_column": 16905
        },
        {
         "c_Event": "800m Freestyle",
         "c_Gender": "Women",
         "c_Result": "9:00.97",
         "n_ResultSort": 540970,
         "_deepnote_index_column": 16906
        },
        {
         "c_Event": "800m Freestyle",
         "c_Gender": "Women",
         "c_Result": "9:01.02",
         "n_ResultSort": 541020,
         "_deepnote_index_column": 16907
        },
        {
         "c_Event": "800m Freestyle",
         "c_Gender": "Women",
         "c_Result": "9:01.04",
         "n_ResultSort": 541040,
         "_deepnote_index_column": 16908
        },
        {
         "c_Event": "800m Freestyle",
         "c_Gender": "Women",
         "c_Result": "9:01.09",
         "n_ResultSort": 541090,
         "_deepnote_index_column": 16909
        },
        {
         "c_Event": "800m Freestyle",
         "c_Gender": "Women",
         "c_Result": "9:01.10",
         "n_ResultSort": 541100,
         "_deepnote_index_column": 16910
        },
        {
         "c_Event": "800m Freestyle",
         "c_Gender": "Women",
         "c_Result": "9:01.17",
         "n_ResultSort": 541170,
         "_deepnote_index_column": 16911
        },
        {
         "c_Event": "800m Freestyle",
         "c_Gender": "Women",
         "c_Result": "9:01.28",
         "n_ResultSort": 541280,
         "_deepnote_index_column": 16912
        },
        {
         "c_Event": "800m Freestyle",
         "c_Gender": "Women",
         "c_Result": "9:01.35",
         "n_ResultSort": 541350,
         "_deepnote_index_column": 16913
        },
        {
         "c_Event": "800m Freestyle",
         "c_Gender": "Women",
         "c_Result": "9:01.39",
         "n_ResultSort": 541390,
         "_deepnote_index_column": 16914
        },
        {
         "c_Event": "800m Freestyle",
         "c_Gender": "Women",
         "c_Result": "9:01.44",
         "n_ResultSort": 541440,
         "_deepnote_index_column": 16915
        },
        {
         "c_Event": "800m Freestyle",
         "c_Gender": "Women",
         "c_Result": "9:01.45",
         "n_ResultSort": 541450,
         "_deepnote_index_column": 16916
        },
        {
         "c_Event": "800m Freestyle",
         "c_Gender": "Women",
         "c_Result": "9:01.46",
         "n_ResultSort": 541460,
         "_deepnote_index_column": 16917
        },
        {
         "c_Event": "800m Freestyle",
         "c_Gender": "Women",
         "c_Result": "9:01.59",
         "n_ResultSort": 541590,
         "_deepnote_index_column": 16918
        },
        {
         "c_Event": "800m Freestyle",
         "c_Gender": "Women",
         "c_Result": "9:01.64",
         "n_ResultSort": 541640,
         "_deepnote_index_column": 16919
        },
        {
         "c_Event": "800m Freestyle",
         "c_Gender": "Women",
         "c_Result": "9:01.68",
         "n_ResultSort": 541680,
         "_deepnote_index_column": 16920
        },
        {
         "c_Event": "800m Freestyle",
         "c_Gender": "Women",
         "c_Result": "9:01.71",
         "n_ResultSort": 541710,
         "_deepnote_index_column": 16921
        },
        {
         "c_Event": "800m Freestyle",
         "c_Gender": "Women",
         "c_Result": "9:01.71",
         "n_ResultSort": 541710,
         "_deepnote_index_column": 16922
        },
        {
         "c_Event": "800m Freestyle",
         "c_Gender": "Women",
         "c_Result": "9:01.72",
         "n_ResultSort": 541720,
         "_deepnote_index_column": 16923
        },
        {
         "c_Event": "800m Freestyle",
         "c_Gender": "Women",
         "c_Result": "9:01.76",
         "n_ResultSort": 541760,
         "_deepnote_index_column": 16924
        },
        {
         "c_Event": "800m Freestyle",
         "c_Gender": "Women",
         "c_Result": "9:01.80",
         "n_ResultSort": 541800,
         "_deepnote_index_column": 16925
        },
        {
         "c_Event": "800m Freestyle",
         "c_Gender": "Women",
         "c_Result": "9:01.83",
         "n_ResultSort": 541830,
         "_deepnote_index_column": 16926
        },
        {
         "c_Event": "800m Freestyle",
         "c_Gender": "Women",
         "c_Result": "9:01.84",
         "n_ResultSort": 541840,
         "_deepnote_index_column": 16927
        },
        {
         "c_Event": "800m Freestyle",
         "c_Gender": "Women",
         "c_Result": "9:01.84",
         "n_ResultSort": 541840,
         "_deepnote_index_column": 16928
        },
        {
         "c_Event": "800m Freestyle",
         "c_Gender": "Women",
         "c_Result": "9:01.85",
         "n_ResultSort": 541850,
         "_deepnote_index_column": 16929
        },
        {
         "c_Event": "800m Freestyle",
         "c_Gender": "Women",
         "c_Result": "9:01.90",
         "n_ResultSort": 541900,
         "_deepnote_index_column": 16930
        },
        {
         "c_Event": "800m Freestyle",
         "c_Gender": "Women",
         "c_Result": "9:02.00",
         "n_ResultSort": 542000,
         "_deepnote_index_column": 16931
        },
        {
         "c_Event": "800m Freestyle",
         "c_Gender": "Women",
         "c_Result": "9:02.02",
         "n_ResultSort": 542020,
         "_deepnote_index_column": 16932
        },
        {
         "c_Event": "800m Freestyle",
         "c_Gender": "Women",
         "c_Result": "9:02.03",
         "n_ResultSort": 542030,
         "_deepnote_index_column": 16933
        },
        {
         "c_Event": "800m Freestyle",
         "c_Gender": "Women",
         "c_Result": "9:02.04",
         "n_ResultSort": 542040,
         "_deepnote_index_column": 16934
        },
        {
         "c_Event": "800m Freestyle",
         "c_Gender": "Women",
         "c_Result": "9:02.09",
         "n_ResultSort": 542090,
         "_deepnote_index_column": 16935
        },
        {
         "c_Event": "800m Freestyle",
         "c_Gender": "Women",
         "c_Result": "9:02.10",
         "n_ResultSort": 542100,
         "_deepnote_index_column": 16936
        },
        {
         "c_Event": "800m Freestyle",
         "c_Gender": "Women",
         "c_Result": "9:02.10",
         "n_ResultSort": 542100,
         "_deepnote_index_column": 16937
        },
        {
         "c_Event": "800m Freestyle",
         "c_Gender": "Women",
         "c_Result": "9:02.12",
         "n_ResultSort": 542120,
         "_deepnote_index_column": 16938
        },
        {
         "c_Event": "800m Freestyle",
         "c_Gender": "Women",
         "c_Result": "9:02.19",
         "n_ResultSort": 542190,
         "_deepnote_index_column": 16939
        },
        {
         "c_Event": "800m Freestyle",
         "c_Gender": "Women",
         "c_Result": "9:02.25",
         "n_ResultSort": 542250,
         "_deepnote_index_column": 16940
        },
        {
         "c_Event": "800m Freestyle",
         "c_Gender": "Women",
         "c_Result": "9:02.27",
         "n_ResultSort": 542270,
         "_deepnote_index_column": 16941
        },
        {
         "c_Event": "800m Freestyle",
         "c_Gender": "Women",
         "c_Result": "9:02.28",
         "n_ResultSort": 542280,
         "_deepnote_index_column": 16942
        },
        {
         "c_Event": "800m Freestyle",
         "c_Gender": "Women",
         "c_Result": "9:02.44",
         "n_ResultSort": 542440,
         "_deepnote_index_column": 16943
        },
        {
         "c_Event": "800m Freestyle",
         "c_Gender": "Women",
         "c_Result": "9:02.47",
         "n_ResultSort": 542470,
         "_deepnote_index_column": 16944
        },
        {
         "c_Event": "800m Freestyle",
         "c_Gender": "Women",
         "c_Result": "9:02.48",
         "n_ResultSort": 542480,
         "_deepnote_index_column": 16945
        },
        {
         "c_Event": "800m Freestyle",
         "c_Gender": "Women",
         "c_Result": "9:02.54",
         "n_ResultSort": 542540,
         "_deepnote_index_column": 16946
        },
        {
         "c_Event": "800m Freestyle",
         "c_Gender": "Women",
         "c_Result": "9:02.55",
         "n_ResultSort": 542550,
         "_deepnote_index_column": 16947
        }
       ]
      },
      "text/plain": "               c_Event c_Gender c_Result  n_ResultSort\n0      100m Backstroke      Men    51.94         51940\n1      100m Backstroke      Men    52.30         52300\n2      100m Backstroke      Men    52.51         52510\n3      100m Backstroke      Men    52.53         52530\n4      100m Backstroke      Men    52.55         52550\n...                ...      ...      ...           ...\n16943   800m Freestyle    Women  9:02.44        542440\n16944   800m Freestyle    Women  9:02.47        542470\n16945   800m Freestyle    Women  9:02.48        542480\n16946   800m Freestyle    Women  9:02.54        542540\n16947   800m Freestyle    Women  9:02.55        542550\n\n[16948 rows x 4 columns]",
      "text/html": "<div>\n<style scoped>\n    .dataframe tbody tr th:only-of-type {\n        vertical-align: middle;\n    }\n\n    .dataframe tbody tr th {\n        vertical-align: top;\n    }\n\n    .dataframe thead th {\n        text-align: right;\n    }\n</style>\n<table border=\"1\" class=\"dataframe\">\n  <thead>\n    <tr style=\"text-align: right;\">\n      <th></th>\n      <th>c_Event</th>\n      <th>c_Gender</th>\n      <th>c_Result</th>\n      <th>n_ResultSort</th>\n    </tr>\n  </thead>\n  <tbody>\n    <tr>\n      <th>0</th>\n      <td>100m Backstroke</td>\n      <td>Men</td>\n      <td>51.94</td>\n      <td>51940</td>\n    </tr>\n    <tr>\n      <th>1</th>\n      <td>100m Backstroke</td>\n      <td>Men</td>\n      <td>52.30</td>\n      <td>52300</td>\n    </tr>\n    <tr>\n      <th>2</th>\n      <td>100m Backstroke</td>\n      <td>Men</td>\n      <td>52.51</td>\n      <td>52510</td>\n    </tr>\n    <tr>\n      <th>3</th>\n      <td>100m Backstroke</td>\n      <td>Men</td>\n      <td>52.53</td>\n      <td>52530</td>\n    </tr>\n    <tr>\n      <th>4</th>\n      <td>100m Backstroke</td>\n      <td>Men</td>\n      <td>52.55</td>\n      <td>52550</td>\n    </tr>\n    <tr>\n      <th>...</th>\n      <td>...</td>\n      <td>...</td>\n      <td>...</td>\n      <td>...</td>\n    </tr>\n    <tr>\n      <th>16943</th>\n      <td>800m Freestyle</td>\n      <td>Women</td>\n      <td>9:02.44</td>\n      <td>542440</td>\n    </tr>\n    <tr>\n      <th>16944</th>\n      <td>800m Freestyle</td>\n      <td>Women</td>\n      <td>9:02.47</td>\n      <td>542470</td>\n    </tr>\n    <tr>\n      <th>16945</th>\n      <td>800m Freestyle</td>\n      <td>Women</td>\n      <td>9:02.48</td>\n      <td>542480</td>\n    </tr>\n    <tr>\n      <th>16946</th>\n      <td>800m Freestyle</td>\n      <td>Women</td>\n      <td>9:02.54</td>\n      <td>542540</td>\n    </tr>\n    <tr>\n      <th>16947</th>\n      <td>800m Freestyle</td>\n      <td>Women</td>\n      <td>9:02.55</td>\n      <td>542550</td>\n    </tr>\n  </tbody>\n</table>\n<p>16948 rows × 4 columns</p>\n</div>"
     },
     "metadata": {}
    }
   ]
  },
  {
   "cell_type": "markdown",
   "source": "##### Reference Image\n![BonusViz](./data/swimming_challenge.png)",
   "metadata": {
    "tags": [],
    "cell_id": "00026-cee68b18-133c-4995-94d2-793d3df95d8f",
    "deepnote_cell_type": "markdown"
   }
  },
  {
   "cell_type": "markdown",
   "source": "<a style='text-decoration:none;line-height:16px;display:flex;color:#5B5B62;padding:10px;justify-content:end;' href='https://deepnote.com?utm_source=created-in-deepnote-cell&projectId=c64a6c44-3e0c-4ffa-ba8f-f8e94894d929' target=\"_blank\">\n<img alt='Created in deepnote.com' style='display:inline;max-height:16px;margin:0px;margin-right:7.5px;' src='data:image/svg+xml;base64,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' > </img>\nCreated in <span style='font-weight:600;margin-left:4px;'>Deepnote</span></a>",
   "metadata": {
    "tags": [],
    "created_in_deepnote_cell": true,
    "deepnote_cell_type": "markdown"
   }
  }
 ],
 "nbformat": 4,
 "nbformat_minor": 2,
 "metadata": {
  "orig_nbformat": 2,
  "deepnote_notebook_id": "db855838-4416-4c70-90ed-c5f6aa21e6af",
  "deepnote_execution_queue": [],
  "deepnote": {}
 }
}